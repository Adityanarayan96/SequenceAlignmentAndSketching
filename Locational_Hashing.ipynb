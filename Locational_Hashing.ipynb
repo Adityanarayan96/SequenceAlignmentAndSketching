{
 "cells": [
  {
   "cell_type": "code",
   "execution_count": 13,
   "metadata": {},
   "outputs": [],
   "source": [
    "import numpy as np\n",
    "import random\n",
    "import math\n",
    "import matplotlib as mpl\n",
    "import matplotlib.pyplot as plt\n",
    "from scipy import stats"
   ]
  },
  {
   "cell_type": "code",
   "execution_count": 25,
   "metadata": {},
   "outputs": [],
   "source": [
    "# Problem setup\n",
    "n = 1000 #Size of each $X_1$ and $X_2$\n",
    "theta = 0.3 #fraction of overlap (We need to estimate this)\n",
    "stringSize = int((2-theta)*n) #The length of $X$\n",
    "string2_start = int((1-theta)*n) #Starting point of $X_2$\n",
    "TotalStringsGenerated = 10 #Number Of Strings $X$ we generate\n",
    "NumOfMasks = 50 #Number of lexicographic orderings we generate, The parameter u in the paper\n",
    "PositionBitTruncation = 50 #Truncation of bit representation of starting location, parameter v in paper"
   ]
  },
  {
   "cell_type": "code",
   "execution_count": 26,
   "metadata": {},
   "outputs": [],
   "source": [
    "# Generate sequences to estimate the rate-distortion pair later\n",
    "string_set = []; #Array that holds $TotalStringsGenerated$ number of strings of length $(2-\\theta)n$\n",
    "string1_set = []; #Array that holds first extracted of string of size n\n",
    "string2_set = []; #Array that holds second extracted of string of size n\n",
    "for i in range(TotalStringsGenerated): #Creates random $Bern(1/2)$ strings $(X's)$ and extracts $X_1$ and $X_2$ from them\n",
    "    string = np.random.binomial(size = stringSize,n=1,p=0.5);\n",
    "    string =''.join(map(str, string));\n",
    "    string1 = string[0:n];\n",
    "    string2 = string[string2_start:stringSize];\n",
    "    string_set.append(string);\n",
    "    string1_set.append(string1);\n",
    "    string2_set.append(string2);"
   ]
  },
  {
   "cell_type": "code",
   "execution_count": 27,
   "metadata": {},
   "outputs": [],
   "source": [
    "# Function to Generate masks\n",
    "def ObtainMasks(stringSize,NumberOfMasks):\n",
    "    mask = []\n",
    "    for i in range(NumberOfMasks):\n",
    "        temp_mask = np.random.binomial(size = stringSize,n=1,p=0.5); #Just a binary string randomly generated\n",
    "        temp_mask =''.join(map(str, temp_mask));\n",
    "        mask.append(temp_mask)\n",
    "    mask = np.array(mask)\n",
    "    return mask "
   ]
  },
  {
   "cell_type": "code",
   "execution_count": 28,
   "metadata": {},
   "outputs": [],
   "source": [
    "def xor(String1, String2):\n",
    "    Output = \"\"\n",
    "     \n",
    "    # Loop to iterate over the\n",
    "    # Binary Strings\n",
    "    for i in range(min(len(String1),len(String2))):\n",
    "         \n",
    "        # If the Character matches\n",
    "        if (String1[i] == String2[i]):\n",
    "            Output += '0'\n",
    "        else:\n",
    "            Output += '1'\n",
    "    return Output"
   ]
  },
  {
   "cell_type": "code",
   "execution_count": 29,
   "metadata": {},
   "outputs": [],
   "source": [
    "# Function to return the decimal of the lexicographic first suffix string for a mask and string\n",
    "def MaskBasedLexicographicFirst(String,Mask): #String and Mask are of same size\n",
    "    suffixes = np.array([]) #Array that stores Suffixes of all these strings\n",
    "    for i in range(len(String)): #Stores every suffix of String\n",
    "        suffixes = np.append(suffixes,String[i:len(String)])\n",
    "    masked_suffixes = np.array([])\n",
    "    for i in range(len(String)):\n",
    "        masked_suffixes= np.append(masked_suffixes,xor(suffixes[i],Mask)+\"a\"); # a is just used as a last priority addition\n",
    "    masked_suffixes.sort();\n",
    "    return(len(String) - len(masked_suffixes[0])+2)\n",
    "    \n",
    "        "
   ]
  },
  {
   "cell_type": "code",
   "execution_count": 30,
   "metadata": {},
   "outputs": [],
   "source": [
    "# Function that truncates strings\n",
    "def Truncation(stringSize1,Position,BitTruncation): #Takes input as the Position, and the amount it is truncated (2^{BitTruncation would be the denominator})\n",
    "        return (np.floor((Position/stringSize1)*(2**(BitTruncation)))/2**(BitTruncation))"
   ]
  },
  {
   "cell_type": "code",
   "execution_count": 31,
   "metadata": {
    "scrolled": true
   },
   "outputs": [],
   "source": [
    "# function to obtain sketches based on location hashing\n",
    "def ObtainLocationalSketches(String1,String2,StringSize1,SketchSize,alpha_0): #Sketch size is B and alpha_0 = min(theta)/(2-min(theta))\n",
    "    mask = ObtainMasks(len(String1),int(np.sqrt(SketchSize)));\n",
    "    SketchesOne = np.array([]); #Arrays used to store sketches\n",
    "    SketchesTwo = np.array([]);\n",
    "    for i in range(len(mask)):\n",
    "        positionone = MaskBasedLexicographicFirst(String1,mask[i]);\n",
    "        positiontwo = MaskBasedLexicographicFirst(String2,mask[i]);\n",
    "        positionone = Truncation(StringSize1,positionone,int(np.sqrt(SketchSize)));\n",
    "        positiontwo = Truncation(StringSize1,positiontwo,int(np.sqrt(SketchSize)));\n",
    "        SketchesOne = np.append(SketchesOne,positionone);\n",
    "        SketchesTwo = np.append(SketchesTwo,positiontwo);\n",
    "    return [SketchesOne,SketchesTwo]"
   ]
  },
  {
   "cell_type": "code",
   "execution_count": 32,
   "metadata": {
    "scrolled": true
   },
   "outputs": [],
   "source": [
    "x = ObtainLocationalSketches(string1_set[0],string2_set[0],n,300,0.05)"
   ]
  },
  {
   "cell_type": "code",
   "execution_count": 33,
   "metadata": {
    "scrolled": true
   },
   "outputs": [],
   "source": [
    "#Get rate distortion pair\n",
    "def RateDistortionPair(theta,String1,String2,StringSize1,SketchSize,alpha_0):\n",
    "    temp = ObtainLocationalSketches(String1,String2,StringSize1,SketchSize,alpha_0);\n",
    "    temp1 = stats.mode(1-(temp[0]-temp[1]));\n",
    "    theta_hat = temp1[0][0]\n",
    "    Distortion = (theta-theta_hat)**2\n",
    "    return([SketchSize,Distortion])"
   ]
  },
  {
   "cell_type": "code",
   "execution_count": 34,
   "metadata": {},
   "outputs": [
    {
     "name": "stdout",
     "output_type": "stream",
     "text": [
      "yo\n",
      "yo\n",
      "yo\n",
      "yo\n",
      "yo\n",
      "yo\n",
      "yo\n",
      "yo\n",
      "yo\n",
      "yo\n"
     ]
    }
   ],
   "source": [
    "Rate_DistortionPair_stringset = []\n",
    "for j in range(TotalStringsGenerated): #For each string\n",
    "    Rate_DistortionPair_set = []\n",
    "    for i in range(100,110): #Max rate B in the range \n",
    "        Rate_DistortionPair_set.append(RateDistortionPair(theta,string1_set[j],string2_set[j],n,i,0));\n",
    "    Rate_DistortionPair_stringset.append(Rate_DistortionPair_set);\n",
    "    print(\"yo\")"
   ]
  },
  {
   "cell_type": "code",
   "execution_count": 35,
   "metadata": {},
   "outputs": [
    {
     "data": {
      "image/png": "[encoded data removed]",
      "text/plain": [
       "<Figure size 432x288 with 1 Axes>"
      ]
     },
     "metadata": {
      "needs_background": "light"
     },
     "output_type": "display_data"
    }
   ],
   "source": [
    "AvgRate_DistortionPair_set = np.mean(Rate_DistortionPair_stringset,axis=0)\n",
    "\n",
    "yy = [x[1] for x in AvgRate_DistortionPair_set]\n",
    "\n",
    "xx = [x[0] for x in AvgRate_DistortionPair_set]\n",
    "\n",
    "fig, ax = plt.subplots()  # Create a figure containing a single axes.\n",
    "ax.set_xlabel(\"D\")\n",
    "ax.set_ylabel(\"Rate\")\n",
    "ax.plot(yy,xx);  # Plot some data on the axes."
   ]
  },
  {
   "cell_type": "code",
   "execution_count": null,
   "metadata": {},
   "outputs": [],
   "source": []
  }
 ],
 "metadata": {
  "kernelspec": {
   "display_name": "Python 3",
   "language": "python",
   "name": "python3"
  },
  "language_info": {
   "codemirror_mode": {
    "name": "ipython",
    "version": 3
   },
   "file_extension": ".py",
   "mimetype": "text/x-python",
   "name": "python",
   "nbconvert_exporter": "python",
   "pygments_lexer": "ipython3",
   "version": "3.8.5"
  }
 },
 "nbformat": 4,
 "nbformat_minor": 4
}
