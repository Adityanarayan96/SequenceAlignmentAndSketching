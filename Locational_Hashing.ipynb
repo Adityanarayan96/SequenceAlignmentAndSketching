{
 "cells": [
  {
   "cell_type": "code",
   "execution_count": 1,
   "metadata": {},
   "outputs": [],
   "source": [
    "import numpy as np\n",
    "import random\n",
    "import math\n",
    "import matplotlib as mpl\n",
    "import matplotlib.pyplot as plt\n",
    "from scipy import stats"
   ]
  },
  {
   "cell_type": "code",
   "execution_count": 2,
   "metadata": {},
   "outputs": [],
   "source": [
    "# Problem setup\n",
    "n = 1000 #Size of each $X_1$ and $X_2$\n",
    "theta = 0.3 #fraction of overlap (We need to estimate this)\n",
    "string_size = int((2-theta)*n) #The length of $X$\n",
    "string2_start = int((1-theta)*n) #Starting point of $X_2$\n",
    "total_strings_generated = 10 #Number Of Strings $X$ we generate\n",
    "num_of_masks = 50 #Number of lexicographic orderings we generate, The parameter u in the paper\n",
    "postion_bit_truncation = 50 #Truncation of bit representation of starting location, parameter v in paper"
   ]
  },
  {
   "cell_type": "code",
   "execution_count": 3,
   "metadata": {},
   "outputs": [],
   "source": [
    "# Generate sequences to estimate the rate-distortion pair later\n",
    "string_set = []; #Array that holds $total_strings_generated$ number of strings of length $(2-\\theta)n$\n",
    "string1_set = []; #Array that holds first extracted of string of size n\n",
    "string2_set = []; #Array that holds second extracted of string of size n\n",
    "for i in range(total_strings_generated): #Creates random $Bern(1/2)$ strings $(X's)$ and extracts $X_1$ and $X_2$ from them\n",
    "    string = np.random.binomial(size = string_size,n=1,p=0.5);\n",
    "    string =''.join(map(str, string));\n",
    "    string1 = string[0:n];\n",
    "    string2 = string[string2_start:string_size];\n",
    "    string_set.append(string);\n",
    "    string1_set.append(string1);\n",
    "    string2_set.append(string2);"
   ]
  },
  {
   "cell_type": "code",
   "execution_count": 4,
   "metadata": {},
   "outputs": [],
   "source": [
    "# Function to Generate masks\n",
    "def ObtainMasks(string_size,NumberOfMasks):\n",
    "    mask = []\n",
    "    for i in range(NumberOfMasks):\n",
    "        temp_mask = np.random.binomial(size = string_size,n=1,p=0.5); #Just a binary string randomly generated\n",
    "        temp_mask =''.join(map(str, temp_mask));\n",
    "        mask.append(temp_mask)\n",
    "    mask = np.array(mask)\n",
    "    return mask "
   ]
  },
  {
   "cell_type": "code",
   "execution_count": 75,
   "metadata": {},
   "outputs": [
    {
     "data": {
      "text/plain": [
       "1700"
      ]
     },
     "execution_count": 75,
     "metadata": {},
     "output_type": "execute_result"
    }
   ],
   "source": []
  },
  {
   "cell_type": "code",
   "execution_count": 5,
   "metadata": {},
   "outputs": [],
   "source": [
    "def xor(String1, String2):\n",
    "    Output = \"\"\n",
    "     \n",
    "    # Loop to iterate over the\n",
    "    # Binary Strings\n",
    "    for i in range(min(len(String1),len(String2))):\n",
    "         \n",
    "        # If the Character matches\n",
    "        if (String1[i] == String2[i]):\n",
    "            Output += '0'\n",
    "        else:\n",
    "            Output += '1'\n",
    "    return Output"
   ]
  },
  {
   "cell_type": "code",
   "execution_count": 6,
   "metadata": {},
   "outputs": [],
   "source": [
    "# Function to return the decimal of the lexicographic first suffix string for a mask and string\n",
    "def MaskBasedLexicographicFirst(String,Mask): #String and Mask are of same size\n",
    "    suffixes = np.array([]) #Array that stores Suffixes of all these strings\n",
    "    for i in range(len(String)): #Stores every suffix of String\n",
    "        suffixes = np.append(suffixes,String[i:len(String)])\n",
    "    masked_suffixes = np.array([])\n",
    "    for i in range(len(String)):\n",
    "        masked_suffixes= np.append(masked_suffixes,xor(suffixes[i],Mask)+\"a\"); # a is just used as a last priority addition\n",
    "    masked_suffixes.sort();\n",
    "    return(len(String) - len(masked_suffixes[0])+2)\n",
    "    \n",
    "        "
   ]
  },
  {
   "cell_type": "code",
   "execution_count": 7,
   "metadata": {},
   "outputs": [],
   "source": [
    "# Function that truncates strings\n",
    "def Truncation(string_size1,Position,BitTruncation): #Takes input as the Position, and the amount it is truncated (2^{BitTruncation would be the denominator})\n",
    "        return (np.floor((Position/string_size1)*(2**(BitTruncation)))/2**(BitTruncation))"
   ]
  },
  {
   "cell_type": "code",
   "execution_count": 8,
   "metadata": {
    "scrolled": true
   },
   "outputs": [],
   "source": [
    "# function to obtain sketches based on location hashing\n",
    "def ObtainLocationalSketches(String1,String2,string_size1,SketchSize,alpha_0): #Sketch size is B and alpha_0 = min(theta)/(2-min(theta))\n",
    "    mask = ObtainMasks(len(String1),int(np.sqrt(SketchSize)));\n",
    "    SketchesOne = np.array([]); #Arrays used to store sketches\n",
    "    SketchesTwo = np.array([]);\n",
    "    for i in range(len(mask)):\n",
    "        positionone = MaskBasedLexicographicFirst(String1,mask[i]);\n",
    "        positiontwo = MaskBasedLexicographicFirst(String2,mask[i]);\n",
    "        positionone = Truncation(string_size1,positionone,int(np.sqrt(SketchSize)));\n",
    "        positiontwo = Truncation(string_size1,positiontwo,int(np.sqrt(SketchSize)));\n",
    "        SketchesOne = np.append(SketchesOne,positionone);\n",
    "        SketchesTwo = np.append(SketchesTwo,positiontwo);\n",
    "        return [SketchesOne,SketchesTwo]"
   ]
  },
  {
   "cell_type": "code",
   "execution_count": 47,
   "metadata": {},
   "outputs": [],
   "source": [
    "A = \"0000111100\""
   ]
  },
  {
   "cell_type": "code",
   "execution_count": 48,
   "metadata": {
    "scrolled": true
   },
   "outputs": [
    {
     "data": {
      "text/plain": [
       "10"
      ]
     },
     "execution_count": 48,
     "metadata": {},
     "output_type": "execute_result"
    }
   ],
   "source": [
    "len(A)"
   ]
  },
  {
   "cell_type": "code",
   "execution_count": 49,
   "metadata": {},
   "outputs": [],
   "source": [
    "string_1 = A[0:6]"
   ]
  },
  {
   "cell_type": "code",
   "execution_count": 50,
   "metadata": {},
   "outputs": [
    {
     "data": {
      "text/plain": [
       "6"
      ]
     },
     "execution_count": 50,
     "metadata": {},
     "output_type": "execute_result"
    }
   ],
   "source": [
    "len(string_1)"
   ]
  },
  {
   "cell_type": "code",
   "execution_count": 51,
   "metadata": {},
   "outputs": [],
   "source": [
    "string_2 = A[4:10]"
   ]
  },
  {
   "cell_type": "code",
   "execution_count": 52,
   "metadata": {},
   "outputs": [
    {
     "data": {
      "text/plain": [
       "6"
      ]
     },
     "execution_count": 52,
     "metadata": {},
     "output_type": "execute_result"
    }
   ],
   "source": [
    "len(string_2)"
   ]
  },
  {
   "cell_type": "code",
   "execution_count": 141,
   "metadata": {},
   "outputs": [],
   "source": [
    "temp = ObtainLocationalSketches(string1_set[0],string2_set[0],len(string1_set[0]),400,0)"
   ]
  },
  {
   "cell_type": "code",
   "execution_count": 142,
   "metadata": {},
   "outputs": [
    {
     "data": {
      "text/plain": [
       "1000"
      ]
     },
     "execution_count": 142,
     "metadata": {},
     "output_type": "execute_result"
    }
   ],
   "source": [
    "len(string1_set[1])"
   ]
  },
  {
   "cell_type": "code",
   "execution_count": 143,
   "metadata": {
    "scrolled": true
   },
   "outputs": [
    {
     "data": {
      "text/plain": [
       "0.5300006866455078"
      ]
     },
     "execution_count": 143,
     "metadata": {},
     "output_type": "execute_result"
    }
   ],
   "source": [
    "stats.mode(1-(temp[0]-temp[1]))[0][0]"
   ]
  },
  {
   "cell_type": "code",
   "execution_count": 20,
   "metadata": {
    "scrolled": true
   },
   "outputs": [],
   "source": [
    "#Get rate distortion pair\n",
    "def RateDistortionPair(theta,String1,String2,string_size1,SketchSize,alpha_0):\n",
    "    temp = ObtainLocationalSketches(String1,String2,string_size1,SketchSize,alpha_0);\n",
    "    temp1 = stats.mode(1-(temp[0]-temp[1]));\n",
    "    theta_hat = temp1[0][0]\n",
    "    Distortion = (theta-theta_hat)**2\n",
    "    return([SketchSize,Distortion])"
   ]
  },
  {
   "cell_type": "code",
   "execution_count": null,
   "metadata": {},
   "outputs": [
    {
     "name": "stdout",
     "output_type": "stream",
     "text": [
      "yo\n",
      "yo\n",
      "yo\n",
      "yo\n",
      "yo\n",
      "yo\n",
      "yo\n",
      "yo\n",
      "yo\n",
      "yo\n",
      "yo\n",
      "yo\n",
      "yo\n",
      "yo\n",
      "yo\n",
      "yo\n",
      "yo\n",
      "yo\n",
      "yo\n",
      "yo\n",
      "yo\n",
      "yo\n",
      "yo\n",
      "yo\n",
      "yo\n",
      "yo\n",
      "yo\n",
      "yo\n",
      "yo\n",
      "yo\n",
      "yo\n",
      "yo\n",
      "yo\n",
      "yo\n",
      "yo\n",
      "yo\n",
      "yo\n",
      "yo\n",
      "yo\n",
      "yo\n",
      "yo\n",
      "yo\n",
      "yo\n",
      "yo\n",
      "yo\n",
      "yo\n",
      "yo\n",
      "yo\n",
      "yo\n",
      "yo\n",
      "yo\n",
      "yo\n",
      "yo\n",
      "yo\n",
      "yo\n",
      "yo\n",
      "yo\n",
      "yo\n",
      "yo\n",
      "yo\n",
      "yo\n",
      "yo\n",
      "yo\n",
      "yo\n",
      "yo\n",
      "yo\n",
      "yo\n",
      "yo\n",
      "yo\n",
      "yo\n",
      "yo\n",
      "yo\n",
      "yo\n",
      "yo\n",
      "yo\n",
      "yo\n",
      "yo\n",
      "yo\n",
      "yo\n",
      "yo\n",
      "yo\n",
      "yo\n",
      "yo\n",
      "yo\n",
      "yo\n",
      "yo\n",
      "yo\n",
      "yo\n",
      "yo\n",
      "yo\n",
      "yo\n",
      "yo\n",
      "yo\n",
      "yo\n",
      "yo\n",
      "yo\n",
      "yo\n",
      "yo\n",
      "yo\n",
      "yo\n",
      "yo\n",
      "yo\n",
      "yo\n",
      "yo\n",
      "yo\n",
      "yo\n",
      "yo\n",
      "yo\n",
      "yo\n",
      "yo\n",
      "yo\n",
      "yo\n",
      "yo\n",
      "yo\n",
      "yo\n",
      "yo\n",
      "yo\n",
      "yo\n",
      "yo\n",
      "yo\n",
      "yo\n",
      "yo\n",
      "yo\n",
      "yo\n",
      "yo\n",
      "yo\n",
      "yo\n",
      "yo\n",
      "yo\n",
      "yo\n",
      "yo\n",
      "yo\n",
      "yo\n",
      "yo\n",
      "yo\n",
      "yo\n",
      "yo\n",
      "yo\n",
      "yo\n",
      "yo\n",
      "yo\n",
      "yo\n",
      "yo\n",
      "yo\n",
      "yo\n",
      "yo\n",
      "yo\n",
      "yo\n",
      "yo\n",
      "yo\n",
      "yo\n",
      "yo\n",
      "yo\n",
      "yo\n",
      "yo\n",
      "yo\n",
      "yo\n",
      "yo\n",
      "yo\n",
      "yo\n",
      "yo\n",
      "yo\n",
      "yo\n",
      "yo\n",
      "yo\n",
      "yo\n",
      "yo\n",
      "yo\n",
      "yo\n",
      "yo\n",
      "yo\n",
      "yo\n",
      "yo\n",
      "yo\n",
      "yo\n",
      "yo\n",
      "yo\n",
      "yo\n",
      "yo\n",
      "yo\n",
      "yo\n",
      "yo\n",
      "yo\n",
      "yo\n",
      "yo\n",
      "yo\n",
      "yo\n",
      "yo\n",
      "yo\n",
      "yo\n",
      "yo\n",
      "yo\n",
      "yo\n",
      "yo\n",
      "yo\n",
      "yo\n",
      "yo\n",
      "yo\n",
      "yo\n",
      "yo\n",
      "yo\n",
      "yo\n",
      "yo\n",
      "yo\n",
      "yo\n",
      "yo\n",
      "yo\n",
      "yo\n",
      "yo\n",
      "yo\n",
      "yo\n",
      "yo\n",
      "yo\n",
      "yo\n",
      "yo\n",
      "yo\n",
      "yo\n",
      "yo\n",
      "yo\n",
      "yo\n",
      "yo\n",
      "yo\n",
      "yo\n",
      "yo\n",
      "yo\n",
      "yo\n",
      "yo\n",
      "yo\n",
      "yo\n",
      "yo\n",
      "yo\n",
      "yo\n",
      "yo\n",
      "yo\n",
      "yo\n",
      "yo\n",
      "yo\n",
      "yo\n",
      "yo\n",
      "yo\n",
      "yo\n",
      "yo\n",
      "yo\n",
      "yo\n",
      "yo\n",
      "yo\n",
      "yo\n",
      "yo\n",
      "yo\n",
      "yo\n",
      "yo\n",
      "yo\n",
      "yo\n",
      "yo\n",
      "yo\n",
      "yo\n",
      "yo\n",
      "yo\n",
      "yo\n",
      "yo\n",
      "yo\n",
      "yo\n",
      "yo\n",
      "yo\n",
      "yo\n",
      "yo\n",
      "yo\n",
      "yo\n",
      "yo\n",
      "yo\n",
      "yo\n",
      "yo\n",
      "yo\n",
      "yo\n",
      "yo\n",
      "yo\n",
      "yo\n",
      "yo\n",
      "yo\n",
      "yo\n",
      "yo\n",
      "yo\n",
      "yo\n",
      "yo\n",
      "yo\n",
      "yo\n",
      "yo\n",
      "yo\n",
      "yo\n",
      "yo\n",
      "yo\n",
      "yo\n",
      "yo\n",
      "yo\n",
      "yo\n",
      "yo\n",
      "yo\n",
      "yo\n",
      "yo\n",
      "yo\n",
      "yo\n",
      "yo\n",
      "yo\n",
      "yo\n",
      "yo\n",
      "yo\n",
      "yo\n",
      "yo\n",
      "yo\n",
      "yo\n",
      "yo\n",
      "yo\n",
      "yo\n",
      "yo\n",
      "yo\n",
      "yo\n",
      "yo\n",
      "yo\n",
      "yo\n",
      "yo\n",
      "yo\n",
      "yo\n",
      "yo\n",
      "yo\n",
      "yo\n",
      "yo\n",
      "yo\n",
      "yo\n",
      "yo\n",
      "yo\n",
      "yo\n",
      "yo\n",
      "yo\n",
      "yo\n",
      "yo\n",
      "yo\n",
      "yo\n",
      "yo\n",
      "yo\n",
      "yo\n",
      "yo\n",
      "yo\n",
      "yo\n",
      "yo\n",
      "yo\n",
      "yo\n",
      "yo\n",
      "yo\n",
      "yo\n",
      "yo\n",
      "yo\n",
      "yo\n",
      "yo\n",
      "yo\n",
      "yo\n",
      "yo\n",
      "yo\n",
      "yo\n",
      "yo\n",
      "yo\n",
      "yo\n",
      "yo\n",
      "yo\n",
      "yo\n",
      "yo\n"
     ]
    }
   ],
   "source": [
    "Rate_DistortionPair_stringset = []\n",
    "for j in range(total_strings_generated): #For each string\n",
    "    Rate_DistortionPair_set = []\n",
    "    for i in range(100,200): #Max rate B in the range \n",
    "        Rate_DistortionPair_set.append(RateDistortionPair(theta,string1_set[j],string2_set[j],n,i,0));\n",
    "    Rate_DistortionPair_stringset.append(Rate_DistortionPair_set);\n",
    "    "
   ]
  },
  {
   "cell_type": "code",
   "execution_count": null,
   "metadata": {},
   "outputs": [],
   "source": [
    "AvgRate_DistortionPair_set = np.mean(Rate_DistortionPair_stringset,axis=0)\n",
    "\n",
    "yy = [x[1] for x in AvgRate_DistortionPair_set]\n",
    "\n",
    "xx = [x[0] for x in AvgRate_DistortionPair_set]\n",
    "\n",
    "fig, ax = plt.subplots()  # Create a figure containing a single axes.\n",
    "ax.set_xlabel(\"D\")\n",
    "ax.set_ylabel(\"Rate\")\n",
    "ax.plot(yy,xx);  # Plot some data on the axes."
   ]
  },
  {
   "cell_type": "code",
   "execution_count": null,
   "metadata": {},
   "outputs": [],
   "source": []
  }
 ],
 "metadata": {
  "kernelspec": {
   "display_name": "Python 3 (ipykernel)",
   "language": "python",
   "name": "python3"
  },
  "language_info": {
   "codemirror_mode": {
    "name": "ipython",
    "version": 3
   },
   "file_extension": ".py",
   "mimetype": "text/x-python",
   "name": "python",
   "nbconvert_exporter": "python",
   "pygments_lexer": "ipython3",
   "version": "3.9.7"
  }
 },
 "nbformat": 4,
 "nbformat_minor": 4
}
