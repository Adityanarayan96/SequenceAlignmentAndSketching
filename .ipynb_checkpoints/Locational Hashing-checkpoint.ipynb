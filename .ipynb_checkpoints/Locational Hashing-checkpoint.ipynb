{
 "cells": [
  {
   "cell_type": "code",
   "execution_count": 24,
   "metadata": {},
   "outputs": [],
   "source": [
    "import numpy as np\n",
    "import random\n",
    "import math\n",
    "import matplotlib as mpl\n",
    "import matplotlib.pyplot as plt\n",
    "from scipy import stats"
   ]
  },
  {
   "cell_type": "code",
   "execution_count": 2,
   "metadata": {},
   "outputs": [],
   "source": [
    "# Problem setup\n",
    "numHashes = 100; #The number of Hash functions we introduce\n",
    "n = 1000 #Size of each $X_1$ and $X_2$\n",
    "theta = 0.4 #fraction of overlap (We need to estimate this)\n",
    "stringSize = int((2-theta)*n) #The length of $X$\n",
    "string2_start = int((1-theta)*n) #Starting point of $X_2$\n",
    "TotalStringsGenerated = 10 #Number Of Strings $X$ we generate\n",
    "NumOfMasks = 50 #Number of lexicographic orderings we generate, The parameter u in the paper\n",
    "PositionBitTruncation = 50 #Truncation of bit representation of starting location, parameter v in paper"
   ]
  },
  {
   "cell_type": "code",
   "execution_count": 3,
   "metadata": {},
   "outputs": [],
   "source": [
    "# Generate sequences to estimate the rate-distortion pair later\n",
    "string_set = []; #Array that holds $TotalStringsGenerated$ number of strings of length $(2-\\theta)n$\n",
    "string1_set = []; #Array that holds first extracted of string of size n\n",
    "string2_set = []; #Array that holds second extracted of string of size n\n",
    "for i in range(TotalStringsGenerated): #Creates random $Bern(1/2)$ strings $(X's)$ and extracts $X_1$ and $X_2$ from them\n",
    "    string = np.random.binomial(size = stringSize,n=1,p=0.5);\n",
    "    string =''.join(map(str, string));\n",
    "    string1 = string[0:n];\n",
    "    string2 = string[string2_start:stringSize];\n",
    "    string_set.append(string);\n",
    "    string1_set.append(string1);\n",
    "    string2_set.append(string2);"
   ]
  },
  {
   "cell_type": "code",
   "execution_count": 4,
   "metadata": {},
   "outputs": [],
   "source": [
    "# Function to Generate masks\n",
    "def ObtainMasks(stringSize,NumberOfMasks):\n",
    "    mask = []\n",
    "    for i in range(NumberOfMasks):\n",
    "        temp_mask = np.random.binomial(size = stringSize,n=1,p=0.5); #Just a binary string randomly generated\n",
    "        temp_mask =''.join(map(str, temp_mask));\n",
    "        mask.append(temp_mask)\n",
    "    mask = np.array(mask)\n",
    "    return mask "
   ]
  },
  {
   "cell_type": "code",
   "execution_count": 5,
   "metadata": {},
   "outputs": [],
   "source": [
    "def xor(String1, String2):\n",
    "    Output = \"\"\n",
    "     \n",
    "    # Loop to iterate over the\n",
    "    # Binary Strings\n",
    "    for i in range(len(String1)):\n",
    "         \n",
    "        # If the Character matches\n",
    "        if (String1[i] == String2[i]):\n",
    "            Output += '0'\n",
    "        else:\n",
    "            Output += '1'\n",
    "    return Output"
   ]
  },
  {
   "cell_type": "code",
   "execution_count": 6,
   "metadata": {},
   "outputs": [],
   "source": [
    "# Function to return the decimal of the lexicographic first suffix string for a mask and string\n",
    "def MaskBasedLexicographicFirst(String,Mask): #String and Mask are of same size\n",
    "    suffixes = np.array([]) #Array that stores Suffixes of all these strings\n",
    "    for i in range(len(String)): #Stores every suffix of String\n",
    "        suffixes = np.append(suffixes,String[i:len(String)])\n",
    "    masked_suffixes = np.array([])\n",
    "    for i in range(len(String)):\n",
    "        masked_suffixes= np.append(masked_suffixes,xor(suffixes[i],Mask)+\"a\"); # a is just used as a last priority addition\n",
    "    masked_suffixes.sort();\n",
    "    return(len(String) - len(masked_suffixes[0])+2)\n",
    "    \n",
    "        "
   ]
  },
  {
   "cell_type": "code",
   "execution_count": 7,
   "metadata": {},
   "outputs": [],
   "source": [
    "# Function that truncates strings\n",
    "def Truncation(stringSize,Position,BitTruncation): #Takes input as the Position, and the amount it is truncated (2^{BitTruncation would be the denominator})\n",
    "        return (np.floor((Position/stringSize)*(2**(BitTruncation)))/2**(BitTruncation))"
   ]
  },
  {
   "cell_type": "code",
   "execution_count": 26,
   "metadata": {
    "scrolled": true
   },
   "outputs": [],
   "source": [
    "# function to obtain sketches based on location hashing\n",
    "def ObtainLocationalSketches(String1,String2,StringSize,SketchSize,alpha_0): #Sketch size is B and alpha_0 = min(theta)/(2-min(theta))\n",
    "    mask = ObtainMasks(len(String1),30);\n",
    "    SketchesOne = np.array([]); #Arrays used to store sketches\n",
    "    SketchesTwo = np.array([]);\n",
    "    for i in range(len(mask)):\n",
    "        positionone = MaskBasedLexicographicFirst(String1,mask[i]);\n",
    "        positiontwo = MaskBasedLexicographicFirst(String2,mask[i]);\n",
    "        positionone = Truncation(StringSize,positionone,10);\n",
    "        positiontwo = Truncation(StringSize,positiontwo,10);\n",
    "        SketchesOne = np.append(SketchesOne,positionone);\n",
    "        SketchesTwo = np.append(SketchesTwo,positiontwo);\n",
    "        print(\"yo\")\n",
    "    return [SketchesOne,SketchesTwo]"
   ]
  },
  {
   "cell_type": "code",
   "execution_count": 27,
   "metadata": {
    "scrolled": true
   },
   "outputs": [
    {
     "name": "stdout",
     "output_type": "stream",
     "text": [
      "yo\n",
      "yo\n",
      "yo\n",
      "yo\n",
      "yo\n",
      "yo\n",
      "yo\n",
      "yo\n",
      "yo\n",
      "yo\n",
      "yo\n",
      "yo\n",
      "yo\n",
      "yo\n",
      "yo\n",
      "yo\n",
      "yo\n",
      "yo\n",
      "yo\n",
      "yo\n",
      "yo\n",
      "yo\n",
      "yo\n",
      "yo\n",
      "yo\n",
      "yo\n",
      "yo\n",
      "yo\n",
      "yo\n",
      "yo\n"
     ]
    }
   ],
   "source": [
    "x = ObtainLocationalSketches(string1_set[1],string2_set[1],stringSize,300,0.05)"
   ]
  },
  {
   "cell_type": "code",
   "execution_count": 25,
   "metadata": {
    "scrolled": true
   },
   "outputs": [
    {
     "name": "stdout",
     "output_type": "stream",
     "text": [
      "ModeResult(mode=array([0.375]), count=array([14]))\n"
     ]
    }
   ],
   "source": [
    "print(stats.mode(x[0]-x[1]))"
   ]
  },
  {
   "cell_type": "code",
   "execution_count": 148,
   "metadata": {},
   "outputs": [
    {
     "ename": "AttributeError",
     "evalue": "'int' object has no attribute 'sort'",
     "output_type": "error",
     "traceback": [
      "\u001b[0;31m---------------------------------------------------------------------------\u001b[0m",
      "\u001b[0;31mAttributeError\u001b[0m                            Traceback (most recent call last)",
      "\u001b[0;32m<ipython-input-148-8eda067f4ce3>\u001b[0m in \u001b[0;36m<module>\u001b[0;34m\u001b[0m\n\u001b[0;32m----> 1\u001b[0;31m \u001b[0mx\u001b[0m\u001b[0;34m.\u001b[0m\u001b[0msort\u001b[0m\u001b[0;34m(\u001b[0m\u001b[0;34m)\u001b[0m\u001b[0;34m\u001b[0m\u001b[0;34m\u001b[0m\u001b[0m\n\u001b[0m\u001b[1;32m      2\u001b[0m \u001b[0mprint\u001b[0m\u001b[0;34m(\u001b[0m\u001b[0mx\u001b[0m\u001b[0;34m)\u001b[0m\u001b[0;34m\u001b[0m\u001b[0;34m\u001b[0m\u001b[0m\n",
      "\u001b[0;31mAttributeError\u001b[0m: 'int' object has no attribute 'sort'"
     ]
    }
   ],
   "source": [
    "int(np.sqrt(SketchSize)*24/alpha_0)\n",
    "int(np.sqrt(SketchSize)*alpha_0/24)"
   ]
  },
  {
   "cell_type": "code",
   "execution_count": null,
   "metadata": {},
   "outputs": [],
   "source": []
  }
 ],
 "metadata": {
  "kernelspec": {
   "display_name": "Python 3",
   "language": "python",
   "name": "python3"
  },
  "language_info": {
   "codemirror_mode": {
    "name": "ipython",
    "version": 3
   },
   "file_extension": ".py",
   "mimetype": "text/x-python",
   "name": "python",
   "nbconvert_exporter": "python",
   "pygments_lexer": "ipython3",
   "version": "3.8.5"
  }
 },
 "nbformat": 4,
 "nbformat_minor": 4
}
