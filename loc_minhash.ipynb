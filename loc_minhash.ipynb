{
 "cells": [
  {
   "cell_type": "code",
   "execution_count": 1,
   "id": "d19e0a1e",
   "metadata": {},
   "outputs": [],
   "source": [
    "import sys\n",
    "from os.path import join\n",
    "import numpy as np\n",
    "import importlib\n",
    "import pandas as pd\n",
    "import matplotlib.pyplot as plt\n",
    "%matplotlib inline"
   ]
  },
  {
   "cell_type": "code",
   "execution_count": 16,
   "id": "34d1ad60",
   "metadata": {},
   "outputs": [],
   "source": [
    "sys.path.append('/home/gcgreen2/alignment/SequenceAlignmentAndSketching')\n",
    "import loc_minhash as lmh\n",
    "from utils import seq_utils as su\n",
    "from utils import hash_utils as hu"
   ]
  },
  {
   "cell_type": "code",
   "execution_count": 53,
   "id": "525a575e",
   "metadata": {},
   "outputs": [
    {
     "data": {
      "text/plain": [
       "<module 'utils.hash_utils' from '/home/gcgreen2/alignment/SequenceAlignmentAndSketching/utils/hash_utils.py'>"
      ]
     },
     "execution_count": 53,
     "metadata": {},
     "output_type": "execute_result"
    }
   ],
   "source": [
    "importlib.reload(lmh)\n",
    "importlib.reload(lmh.hu)\n",
    "importlib.reload(hu)"
   ]
  },
  {
   "cell_type": "code",
   "execution_count": 54,
   "id": "0f6e5fad",
   "metadata": {},
   "outputs": [],
   "source": [
    "PROJ_DIR = '/home/gcgreen2/alignment'\n",
    "ALN_DIR = join(PROJ_DIR, 'out/mh')\n",
    "GT_DIR = join(PROJ_DIR, 'spectral_jaccard_similarity/groundTruths')\n",
    "FASTA_DIR = join(PROJ_DIR, 'spectral_jaccard_similarity/filtered_fasta')\n",
    "DATASETS = np.loadtxt(join(PROJ_DIR,'NCTC_list.txt'), dtype=str)"
   ]
  },
  {
   "cell_type": "code",
   "execution_count": 55,
   "id": "e7ca50a6",
   "metadata": {},
   "outputs": [],
   "source": [
    "def load_dfs(dataset): # load the alignment files\n",
    "    gt_path = join(GT_DIR, dataset+'_daligner_ground_truth.txt')\n",
    "    aln_path = join(ALN_DIR, dataset+'_aln.tsv')\n",
    "    gt_df = pd.read_csv(gt_path, sep='\\t', header=None, names=['i1','i2','overlap','l1','l2'])\n",
    "    aln_df = pd.read_csv(aln_path, sep='\\t', header=None, names=['i1','i2','overlap','l1','l2'])\n",
    "    return gt_df, aln_df"
   ]
  },
  {
   "cell_type": "code",
   "execution_count": 5,
   "id": "e738192a",
   "metadata": {},
   "outputs": [],
   "source": [
    "gt_df, aln_df = load_dfs(DATASETS[0])"
   ]
  },
  {
   "cell_type": "code",
   "execution_count": 6,
   "id": "8a7cb6c4",
   "metadata": {},
   "outputs": [
    {
     "data": {
      "text/html": [
       "<div>\n",
       "<style scoped>\n",
       "    .dataframe tbody tr th:only-of-type {\n",
       "        vertical-align: middle;\n",
       "    }\n",
       "\n",
       "    .dataframe tbody tr th {\n",
       "        vertical-align: top;\n",
       "    }\n",
       "\n",
       "    .dataframe thead th {\n",
       "        text-align: right;\n",
       "    }\n",
       "</style>\n",
       "<table border=\"1\" class=\"dataframe\">\n",
       "  <thead>\n",
       "    <tr style=\"text-align: right;\">\n",
       "      <th></th>\n",
       "      <th>i1</th>\n",
       "      <th>i2</th>\n",
       "      <th>overlap</th>\n",
       "      <th>l1</th>\n",
       "      <th>l2</th>\n",
       "    </tr>\n",
       "  </thead>\n",
       "  <tbody>\n",
       "    <tr>\n",
       "      <th>17686</th>\n",
       "      <td>182</td>\n",
       "      <td>956</td>\n",
       "      <td>3192.7</td>\n",
       "      <td>16320</td>\n",
       "      <td>26781</td>\n",
       "    </tr>\n",
       "    <tr>\n",
       "      <th>103118</th>\n",
       "      <td>956</td>\n",
       "      <td>182</td>\n",
       "      <td>3192.7</td>\n",
       "      <td>26781</td>\n",
       "      <td>16320</td>\n",
       "    </tr>\n",
       "    <tr>\n",
       "      <th>65456</th>\n",
       "      <td>616</td>\n",
       "      <td>861</td>\n",
       "      <td>3024.1</td>\n",
       "      <td>21913</td>\n",
       "      <td>21433</td>\n",
       "    </tr>\n",
       "    <tr>\n",
       "      <th>92767</th>\n",
       "      <td>861</td>\n",
       "      <td>616</td>\n",
       "      <td>3024.1</td>\n",
       "      <td>21433</td>\n",
       "      <td>21913</td>\n",
       "    </tr>\n",
       "    <tr>\n",
       "      <th>27295</th>\n",
       "      <td>272</td>\n",
       "      <td>956</td>\n",
       "      <td>2966.5</td>\n",
       "      <td>18564</td>\n",
       "      <td>26781</td>\n",
       "    </tr>\n",
       "  </tbody>\n",
       "</table>\n",
       "</div>"
      ],
      "text/plain": [
       "         i1   i2  overlap     l1     l2\n",
       "17686   182  956   3192.7  16320  26781\n",
       "103118  956  182   3192.7  26781  16320\n",
       "65456   616  861   3024.1  21913  21433\n",
       "92767   861  616   3024.1  21433  21913\n",
       "27295   272  956   2966.5  18564  26781"
      ]
     },
     "execution_count": 6,
     "metadata": {},
     "output_type": "execute_result"
    }
   ],
   "source": [
    "aln_df = aln_df.sort_values('overlap', ascending=False)\n",
    "aln_df.head()"
   ]
  },
  {
   "cell_type": "code",
   "execution_count": 7,
   "id": "2e5b9c2e",
   "metadata": {},
   "outputs": [],
   "source": [
    "top_read_pairs = aln_df.iloc[:10,:2].values.tolist()"
   ]
  },
  {
   "cell_type": "code",
   "execution_count": 8,
   "id": "d63e0f9f",
   "metadata": {},
   "outputs": [
    {
     "data": {
      "text/plain": [
       "[[182, 956],\n",
       " [956, 182],\n",
       " [616, 861],\n",
       " [861, 616],\n",
       " [272, 956],\n",
       " [956, 272],\n",
       " [834, 821],\n",
       " [821, 834],\n",
       " [595, 995],\n",
       " [995, 595]]"
      ]
     },
     "execution_count": 8,
     "metadata": {},
     "output_type": "execute_result"
    }
   ],
   "source": [
    "top_read_pairs"
   ]
  },
  {
   "cell_type": "code",
   "execution_count": 60,
   "id": "f9882525",
   "metadata": {},
   "outputs": [
    {
     "data": {
      "text/plain": [
       "5"
      ]
     },
     "execution_count": 60,
     "metadata": {},
     "output_type": "execute_result"
    }
   ],
   "source": [
    "ld = np.array([1,2,100,1000,1100,2000])\n",
    "lmh.weight_collisions(ld)"
   ]
  },
  {
   "cell_type": "markdown",
   "id": "117bb872",
   "metadata": {},
   "source": [
    "# Location Differences"
   ]
  },
  {
   "cell_type": "code",
   "execution_count": 31,
   "id": "1cfed06e",
   "metadata": {},
   "outputs": [],
   "source": [
    "fasta_file = join(FASTA_DIR, DATASETS[0]+'_reads.fasta')\n",
    "seqs = su.get_seqs(fasta_file)\n",
    "top_reads = [[seqs[p[0]-1], seqs[p[1]-1]] for p in top_read_pairs]\n",
    "loc_minhashes = [lmh.get_all_loc_minhashes(reads, k=16, n_hash=1000, n_bits=24) for reads in top_reads]"
   ]
  },
  {
   "cell_type": "code",
   "execution_count": 52,
   "id": "d4a34323",
   "metadata": {
    "scrolled": true
   },
   "outputs": [
    {
     "name": "stdout",
     "output_type": "stream",
     "text": [
      "[182, 956]   len1 16320   len2 26781   # collisions 35\n"
     ]
    },
    {
     "data": {
      "image/png": "[encoded data removed]",
      "text/plain": [
       "<Figure size 432x288 with 1 Axes>"
      ]
     },
     "metadata": {
      "needs_background": "light"
     },
     "output_type": "display_data"
    },
    {
     "name": "stdout",
     "output_type": "stream",
     "text": [
      "[956, 182]   len1 26781   len2 16320   # collisions 39\n"
     ]
    },
    {
     "data": {
      "image/png": "[encoded data removed]",
      "text/plain": [
       "<Figure size 432x288 with 1 Axes>"
      ]
     },
     "metadata": {
      "needs_background": "light"
     },
     "output_type": "display_data"
    },
    {
     "name": "stdout",
     "output_type": "stream",
     "text": [
      "[616, 861]   len1 21913   len2 21433   # collisions 42\n"
     ]
    },
    {
     "data": {
      "image/png": "[encoded data removed]",
      "text/plain": [
       "<Figure size 432x288 with 1 Axes>"
      ]
     },
     "metadata": {
      "needs_background": "light"
     },
     "output_type": "display_data"
    },
    {
     "name": "stdout",
     "output_type": "stream",
     "text": [
      "[861, 616]   len1 21433   len2 21913   # collisions 42\n"
     ]
    },
    {
     "data": {
      "image/png": "[encoded data removed]",
      "text/plain": [
       "<Figure size 432x288 with 1 Axes>"
      ]
     },
     "metadata": {
      "needs_background": "light"
     },
     "output_type": "display_data"
    },
    {
     "name": "stdout",
     "output_type": "stream",
     "text": [
      "[272, 956]   len1 18564   len2 26781   # collisions 31\n"
     ]
    },
    {
     "data": {
      "image/png": "[encoded data removed]",
      "text/plain": [
       "<Figure size 432x288 with 1 Axes>"
      ]
     },
     "metadata": {
      "needs_background": "light"
     },
     "output_type": "display_data"
    },
    {
     "name": "stdout",
     "output_type": "stream",
     "text": [
      "[956, 272]   len1 26781   len2 18564   # collisions 31\n"
     ]
    },
    {
     "data": {
      "image/png": "[encoded data removed]",
      "text/plain": [
       "<Figure size 432x288 with 1 Axes>"
      ]
     },
     "metadata": {
      "needs_background": "light"
     },
     "output_type": "display_data"
    },
    {
     "name": "stdout",
     "output_type": "stream",
     "text": [
      "[834, 821]   len1 17502   len2 18585   # collisions 44\n"
     ]
    },
    {
     "data": {
      "image/png": "[encoded data removed]",
      "text/plain": [
       "<Figure size 432x288 with 1 Axes>"
      ]
     },
     "metadata": {
      "needs_background": "light"
     },
     "output_type": "display_data"
    },
    {
     "name": "stdout",
     "output_type": "stream",
     "text": [
      "[821, 834]   len1 18585   len2 17502   # collisions 62\n"
     ]
    },
    {
     "data": {
      "image/png": "[encoded data removed]",
      "text/plain": [
       "<Figure size 432x288 with 1 Axes>"
      ]
     },
     "metadata": {
      "needs_background": "light"
     },
     "output_type": "display_data"
    },
    {
     "name": "stdout",
     "output_type": "stream",
     "text": [
      "[595, 995]   len1 19460   len2 17565   # collisions 38\n"
     ]
    },
    {
     "data": {
      "image/png": "[encoded data removed]",
      "text/plain": [
       "<Figure size 432x288 with 1 Axes>"
      ]
     },
     "metadata": {
      "needs_background": "light"
     },
     "output_type": "display_data"
    },
    {
     "name": "stdout",
     "output_type": "stream",
     "text": [
      "[995, 595]   len1 17565   len2 19460   # collisions 55\n"
     ]
    },
    {
     "data": {
      "image/png": "[encoded data removed]",
      "text/plain": [
       "<Figure size 432x288 with 1 Axes>"
      ]
     },
     "metadata": {
      "needs_background": "light"
     },
     "output_type": "display_data"
    }
   ],
   "source": [
    "for i in range(len(loc_minhashes)):\n",
    "    loc_minhashes1, loc_minhashes2 = loc_minhashes[i]\n",
    "    len1, len2 = [len(r) for r in top_reads[i]]\n",
    "    loc_diffs = lmh.overlap_est(loc_minhashes1, loc_minhashes2, len1, len2)\n",
    "    print(top_read_pairs[i], '  len1',len1, '  len2',len2,'  # collisions',len(loc_diffs))\n",
    "    diffs, counts = np.unique(loc_diffs, return_counts=True)\n",
    "    plt.figure()\n",
    "#     plt.stem(diffs,counts)\n",
    "    plt.hist(loc_diffs, bins=3)\n",
    "    plt.pause(0.01)"
   ]
  },
  {
   "cell_type": "code",
   "execution_count": null,
   "id": "2d16aae9",
   "metadata": {},
   "outputs": [],
   "source": []
  }
 ],
 "metadata": {
  "kernelspec": {
   "display_name": "Python 3 (ipykernel)",
   "language": "python",
   "name": "python3"
  },
  "language_info": {
   "codemirror_mode": {
    "name": "ipython",
    "version": 3
   },
   "file_extension": ".py",
   "mimetype": "text/x-python",
   "name": "python",
   "nbconvert_exporter": "python",
   "pygments_lexer": "ipython3",
   "version": "3.9.7"
  }
 },
 "nbformat": 4,
 "nbformat_minor": 5
}
