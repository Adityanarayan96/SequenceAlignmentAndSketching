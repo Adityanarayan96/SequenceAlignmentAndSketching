{
 "cells": [
  {
   "cell_type": "code",
   "execution_count": 138,
   "id": "919bade5",
   "metadata": {},
   "outputs": [],
   "source": [
    "import numpy as np\n",
    "import random\n",
    "import math\n",
    "from scipy import stats\n",
    "from tqdm import tqdm\n",
    "import string\n",
    "import pandas as pd\n",
    "import importlib\n",
    "import sys\n",
    "from ast import literal_eval\n",
    "from multiprocessing import Pool\n",
    "from os.path import join\n",
    "import matplotlib.pyplot as plt\n",
    "%matplotlib inline"
   ]
  },
  {
   "cell_type": "code",
   "execution_count": null,
   "id": "fb4e2317",
   "metadata": {},
   "outputs": [],
   "source": [
    "PROJ_DIR = '/home/gcgreen2/alignment'\n",
    "GIT_DIR = join(PROJ_DIR,'SequenceAlignmentAndSketching')\n",
    "\n",
    "sys.path.append(GIT_DIR)\n",
    "import suffix_hash as sh"
   ]
  },
  {
   "cell_type": "code",
   "execution_count": 143,
   "id": "117d7166",
   "metadata": {},
   "outputs": [],
   "source": [
    "sys.path.append(join(GIT_DIR,'utils'))\n",
    "import seq_utils as su\n",
    "# from utils import aln_utils as au\n",
    "# from utils import metric_utils as mu"
   ]
  },
  {
   "cell_type": "code",
   "execution_count": 141,
   "id": "e282e2bb",
   "metadata": {},
   "outputs": [
    {
     "ename": "NameError",
     "evalue": "name 'su' is not defined",
     "output_type": "error",
     "traceback": [
      "\u001b[0;31m---------------------------------------------------------------------------\u001b[0m",
      "\u001b[0;31mNameError\u001b[0m                                 Traceback (most recent call last)",
      "\u001b[0;32m/tmp/ipykernel_45101/3769286400.py\u001b[0m in \u001b[0;36m<module>\u001b[0;34m\u001b[0m\n\u001b[0;32m----> 1\u001b[0;31m \u001b[0mimportlib\u001b[0m\u001b[0;34m.\u001b[0m\u001b[0mreload\u001b[0m\u001b[0;34m(\u001b[0m\u001b[0msu\u001b[0m\u001b[0;34m)\u001b[0m\u001b[0;34m\u001b[0m\u001b[0;34m\u001b[0m\u001b[0m\n\u001b[0m",
      "\u001b[0;31mNameError\u001b[0m: name 'su' is not defined"
     ]
    }
   ],
   "source": [
    "importlib.reload(su)"
   ]
  },
  {
   "cell_type": "code",
   "execution_count": 190,
   "id": "c3e2663b",
   "metadata": {},
   "outputs": [],
   "source": [
    "def get_matching_bases(i, j, seq1, seq2):\n",
    "    count = 0\n",
    "    while(i<len(seq1) and j<len(seq2) and seq1[i]==seq2[j]):\n",
    "        count += 1\n",
    "        i += 1\n",
    "        j += 1\n",
    "    return count\n",
    "\n",
    "def est_overlap(sketch1, sketch2, seq1, seq2):\n",
    "    n_matching_bases = [get_matching_bases(i,j,seq1,seq2) for i,j in zip(sketch1, sketch2)]\n",
    "    total_match = sum(n_matching_bases)\n",
    "    return n_matching_bases\n",
    "\n",
    "def edit_dist(s, t, d=5):\n",
    "    if len(s)!=len(t): return -1\n",
    "    rows = len(s)+1\n",
    "    deletes, inserts, substitutes = (1,1,1)\n",
    "    \n",
    "    dist = [[np.inf for _ in range(2*d+3)] for i in range(rows)]\n",
    "\n",
    "    # source prefixes can be transformed into empty strings \n",
    "    # by deletions:\n",
    "    for row in range(d+1):\n",
    "        dist[row][d-row+1] = row * deletes\n",
    "\n",
    "    # target prefixes can be created from an empty source string\n",
    "    # by inserting the characters\n",
    "    for col in range(d+1):\n",
    "        dist[0][col+d+1] = col * inserts \n",
    "        \n",
    "    # dynamic programming\n",
    "    for row in range(1, rows):\n",
    "        for col in range(max(-d,-row+1),min(d+1,rows-row)):\n",
    "            cost = 0 if s[row-1] == t[row+col-1] else substitutes\n",
    "            dist[row][col+d+1] = min(dist[row-1][col+d+2] + deletes,\n",
    "                                 dist[row][col+d] + inserts,\n",
    "                                 dist[row-1][col+d+1] + cost) # substitution\n",
    "        if min(dist[row]) > d: return -1\n",
    "    \n",
    "    return min(dist[-1])\n",
    "\n",
    "# def iterative_levenshtein(s, t, costs=(1, 1, 1)):\n",
    "#     rows = len(s)+1\n",
    "#     cols = len(t)+1\n",
    "#     deletes, inserts, substitutes = costs\n",
    "    \n",
    "#     dist = [[0 for x in range(cols)] for x in range(rows)]\n",
    "\n",
    "#     # source prefixes can be transformed into empty strings \n",
    "#     # by deletions:\n",
    "#     for row in range(1, rows):\n",
    "#         dist[row][0] = row * deletes\n",
    "\n",
    "#     # target prefixes can be created from an empty source string\n",
    "#     # by inserting the characters\n",
    "#     for col in range(1, cols):\n",
    "#         dist[0][col] = col * inserts\n",
    "        \n",
    "#     for col in range(1, cols):\n",
    "#         for row in range(1, rows):\n",
    "#             if s[row-1] == t[col-1]:\n",
    "#                 cost = 0\n",
    "#             else:\n",
    "#                 cost = substitutes\n",
    "#             dist[row][col] = min(dist[row-1][col] + deletes,\n",
    "#                                  dist[row][col-1] + inserts,\n",
    "#                                  dist[row-1][col-1] + cost) # substitution\n",
    " \n",
    "#     return dist[row][col]\n",
    "\n",
    "def est_overlap(sketch1, sketch2, seq1, seq2, k=50):\n",
    "    edit_dists = [edit_dist(seq1[i:i+k],seq2[j:j+k]) for i,j in zip(sketch1, sketch2)]\n",
    "    return sum([e for e in edit_dists if e<15])\n",
    "\n",
    "def pairwise_overlap_ests(sketches, seqs, seq_lens):\n",
    "    pairwise_ests = []\n",
    "    n = len(seq_lens)\n",
    "    for i in tqdm(range(n), desc='Estimating pairwise overlaps', leave=True):\n",
    "        for j in range(n):\n",
    "            if i==j: continue\n",
    "            theta_hat = est_overlap(sketches[i], sketches[j], seqs[i], seqs[j])\n",
    "            pairwise_ests.append((i+1,j+1,theta_hat,seq_lens[i],seq_lens[j]))\n",
    "    return pairwise_ests\n"
   ]
  },
  {
   "cell_type": "code",
   "execution_count": 174,
   "id": "bccf63ee",
   "metadata": {},
   "outputs": [],
   "source": [
    "dset = 'gc0.2_sub1.68_ins8.04_del3.16'\n",
    "reads_path = join(GIT_DIR, 'data', dset, 'reads.fasta')"
   ]
  },
  {
   "cell_type": "code",
   "execution_count": 192,
   "id": "70ad7863",
   "metadata": {},
   "outputs": [],
   "source": [
    "n=100\n",
    "seqs = su.get_seqs(reads_path)[:n]; seq_lens = [len(s) for s in seqs]\n",
    "sketches = sh.get_all_sketches(seqs, 100, max(seq_lens))"
   ]
  },
  {
   "cell_type": "code",
   "execution_count": 193,
   "id": "188dc6a2",
   "metadata": {},
   "outputs": [
    {
     "name": "stderr",
     "output_type": "stream",
     "text": [
      "Estimating pairwise overlaps: 100%|█████████████████████████████████████████████████████████████████████████████████████████████████████████████████████████████████████████████████████████████████████████████████████████████████████████████████████████████████████████████████████████████████████████████████████████████████████| 100/100 [02:54<00:00,  1.74s/it]\n"
     ]
    }
   ],
   "source": [
    "estimates = pairwise_overlap_ests(sketches, seqs, seq_lens)"
   ]
  },
  {
   "cell_type": "code",
   "execution_count": 189,
   "id": "a954d5db",
   "metadata": {},
   "outputs": [
    {
     "data": {
      "text/plain": [
       "[(1, 2, 71, 14635, 15201),\n",
       " (1, 3, 82, 14635, 11534),\n",
       " (1, 4, 55, 14635, 17315),\n",
       " (1, 5, 46, 14635, 8995),\n",
       " (1, 6, 27, 14635, 8560),\n",
       " (1, 7, 13, 14635, 10492),\n",
       " (1, 8, 0, 14635, 7184),\n",
       " (1, 9, 0, 14635, 14669),\n",
       " (1, 10, 0, 14635, 9501),\n",
       " (1, 11, 0, 14635, 13600)]"
      ]
     },
     "execution_count": 189,
     "metadata": {},
     "output_type": "execute_result"
    }
   ],
   "source": [
    "estimates[:10]"
   ]
  },
  {
   "cell_type": "code",
   "execution_count": 129,
   "id": "dd523f68",
   "metadata": {},
   "outputs": [
    {
     "data": {
      "text/plain": [
       "(array([254.,  28.,  26.,  10.,  26.,  12.,  14.,   4.,   4.,   2.]),\n",
       " array([  0. ,  23.2,  46.4,  69.6,  92.8, 116. , 139.2, 162.4, 185.6,\n",
       "        208.8, 232. ]),\n",
       " <BarContainer object of 10 artists>)"
      ]
     },
     "execution_count": 129,
     "metadata": {},
     "output_type": "execute_result"
    },
    {
     "data": {
      "image/png": "[encoded data removed]",
      "text/plain": [
       "<Figure size 432x288 with 1 Axes>"
      ]
     },
     "metadata": {
      "needs_background": "light"
     },
     "output_type": "display_data"
    }
   ],
   "source": [
    "plt.hist([est[2] for est in estimates])"
   ]
  },
  {
   "cell_type": "markdown",
   "id": "cdd58fff",
   "metadata": {},
   "source": [
    "### True overlap vs. edit distance"
   ]
  },
  {
   "cell_type": "code",
   "execution_count": 130,
   "id": "3e1a1410",
   "metadata": {},
   "outputs": [],
   "source": [
    "pred_df = pd.DataFrame(estimates, columns=['i1','i2','overlap','l1','l2'])"
   ]
  },
  {
   "cell_type": "code",
   "execution_count": 131,
   "id": "3b0695a6",
   "metadata": {},
   "outputs": [
    {
     "data": {
      "text/html": [
       "<div>\n",
       "<style scoped>\n",
       "    .dataframe tbody tr th:only-of-type {\n",
       "        vertical-align: middle;\n",
       "    }\n",
       "\n",
       "    .dataframe tbody tr th {\n",
       "        vertical-align: top;\n",
       "    }\n",
       "\n",
       "    .dataframe thead th {\n",
       "        text-align: right;\n",
       "    }\n",
       "</style>\n",
       "<table border=\"1\" class=\"dataframe\">\n",
       "  <thead>\n",
       "    <tr style=\"text-align: right;\">\n",
       "      <th></th>\n",
       "      <th>i1</th>\n",
       "      <th>i2</th>\n",
       "      <th>overlap</th>\n",
       "      <th>l1</th>\n",
       "      <th>l2</th>\n",
       "    </tr>\n",
       "  </thead>\n",
       "  <tbody>\n",
       "    <tr>\n",
       "      <th>0</th>\n",
       "      <td>1</td>\n",
       "      <td>2</td>\n",
       "      <td>160</td>\n",
       "      <td>14635</td>\n",
       "      <td>15201</td>\n",
       "    </tr>\n",
       "    <tr>\n",
       "      <th>1</th>\n",
       "      <td>1</td>\n",
       "      <td>3</td>\n",
       "      <td>144</td>\n",
       "      <td>14635</td>\n",
       "      <td>11534</td>\n",
       "    </tr>\n",
       "    <tr>\n",
       "      <th>2</th>\n",
       "      <td>1</td>\n",
       "      <td>4</td>\n",
       "      <td>66</td>\n",
       "      <td>14635</td>\n",
       "      <td>17315</td>\n",
       "    </tr>\n",
       "    <tr>\n",
       "      <th>3</th>\n",
       "      <td>1</td>\n",
       "      <td>5</td>\n",
       "      <td>52</td>\n",
       "      <td>14635</td>\n",
       "      <td>8995</td>\n",
       "    </tr>\n",
       "    <tr>\n",
       "      <th>4</th>\n",
       "      <td>1</td>\n",
       "      <td>6</td>\n",
       "      <td>96</td>\n",
       "      <td>14635</td>\n",
       "      <td>8560</td>\n",
       "    </tr>\n",
       "  </tbody>\n",
       "</table>\n",
       "</div>"
      ],
      "text/plain": [
       "   i1  i2  overlap     l1     l2\n",
       "0   1   2      160  14635  15201\n",
       "1   1   3      144  14635  11534\n",
       "2   1   4       66  14635  17315\n",
       "3   1   5       52  14635   8995\n",
       "4   1   6       96  14635   8560"
      ]
     },
     "execution_count": 131,
     "metadata": {},
     "output_type": "execute_result"
    }
   ],
   "source": [
    "pred_df.head()"
   ]
  },
  {
   "cell_type": "code",
   "execution_count": 132,
   "id": "812d420e",
   "metadata": {},
   "outputs": [],
   "source": [
    "gt_path = join(GIT_DIR, 'data', dset, 'ground_truth.txt')\n",
    "gt_df = pd.read_csv(gt_path, sep='\\t', header=None, names=['i1','i2','overlap','l1','l2'])\n",
    "gt_df = gt_df.query(f'i1 <= {n} and i2 <= {n}')"
   ]
  },
  {
   "cell_type": "code",
   "execution_count": 133,
   "id": "cf56984b",
   "metadata": {},
   "outputs": [],
   "source": [
    "overlaps = mu.get_overlaps(pred_df, gt_df)"
   ]
  },
  {
   "cell_type": "code",
   "execution_count": 134,
   "id": "a1656671",
   "metadata": {},
   "outputs": [
    {
     "data": {
      "text/plain": [
       "Text(0, 0.5, 'Predicted Alignment Size')"
      ]
     },
     "execution_count": 134,
     "metadata": {},
     "output_type": "execute_result"
    },
    {
     "data": {
      "image/png": "[encoded data removed]",
      "text/plain": [
       "<Figure size 432x288 with 1 Axes>"
      ]
     },
     "metadata": {
      "needs_background": "light"
     },
     "output_type": "display_data"
    }
   ],
   "source": [
    "plt.plot(overlaps[:,0],overlaps[:,1],'o')\n",
    "# plt.plot([0,overlaps[:,1].max()], [0,overlaps[:,1].max()], '--', color='red')\n",
    "plt.title('GT vs. Prediction',fontsize=16)\n",
    "plt.xlabel('GT')\n",
    "plt.ylabel('Predicted Alignment Size')"
   ]
  },
  {
   "cell_type": "markdown",
   "id": "e4a8f0c6",
   "metadata": {},
   "source": [
    "## Fit normal curve"
   ]
  },
  {
   "cell_type": "code",
   "execution_count": 33,
   "id": "b1f585d9",
   "metadata": {},
   "outputs": [],
   "source": [
    "from scipy.optimize import minimize\n",
    "from scipy.stats import norm\n",
    "from numpy.random import normal"
   ]
  },
  {
   "cell_type": "code",
   "execution_count": 98,
   "id": "590515fc",
   "metadata": {},
   "outputs": [],
   "source": [
    "def normal_pdf_first_half(mu,sigma,size=10000):\n",
    "    xs = normal(mu, sigma, size=size)\n",
    "    xs = [int(x) for x in xs if x<=mu and x>-0.5]\n",
    "    xs, ys = np.unique(xs, return_counts=True)\n",
    "    ys = ys/sum(ys)\n",
    "    return xs, ys"
   ]
  },
  {
   "cell_type": "code",
   "execution_count": 99,
   "id": "88729e96",
   "metadata": {},
   "outputs": [
    {
     "data": {
      "text/plain": [
       "[<matplotlib.lines.Line2D at 0x7fd254266190>]"
      ]
     },
     "execution_count": 99,
     "metadata": {},
     "output_type": "execute_result"
    },
    {
     "data": {
      "image/png": "[encoded data removed]",
      "text/plain": [
       "<Figure size 432x288 with 1 Axes>"
      ]
     },
     "metadata": {
      "needs_background": "light"
     },
     "output_type": "display_data"
    }
   ],
   "source": [
    "xs,ys = normal_pdf_first_half(7,2)\n",
    "plt.plot(xs,ys,'o')"
   ]
  },
  {
   "cell_type": "code",
   "execution_count": 100,
   "id": "aab91f81",
   "metadata": {},
   "outputs": [],
   "source": [
    "log_ys = np.log(ys)"
   ]
  },
  {
   "cell_type": "code",
   "execution_count": 105,
   "id": "a28044d4",
   "metadata": {},
   "outputs": [
    {
     "data": {
      "text/plain": [
       "[<matplotlib.lines.Line2D at 0x7fd25418abb0>]"
      ]
     },
     "execution_count": 105,
     "metadata": {},
     "output_type": "execute_result"
    },
    {
     "data": {
      "image/png": "[encoded data removed]",
      "text/plain": [
       "<Figure size 432x288 with 1 Axes>"
      ]
     },
     "metadata": {
      "needs_background": "light"
     },
     "output_type": "display_data"
    }
   ],
   "source": [
    "mu,sigma,offset = [6.63407468, 2.12926149, 2.        ]\n",
    "plt.plot(xs,log_ys,'o')\n",
    "# plt.plot(xs,[-1/2*np.log(2*np.pi*sigma**2)-1/(2*sigma**2)*(x-mu)**2+np.log(2) for x in xs], 'o')\n",
    "plt.plot(xs,[np.log(norm.pdf(x,loc=mu,scale=sigma))+np.log(offset) for x,log_y in zip(xs,log_ys)], 'o')"
   ]
  },
  {
   "cell_type": "code",
   "execution_count": 102,
   "id": "ec397f44",
   "metadata": {},
   "outputs": [],
   "source": [
    "mse=lambda mu,sigma,offset,x,log_y: (np.log(norm.pdf(x,loc=mu,scale=sigma))+np.log(offset)-log_y)**2\n",
    "def func(x):\n",
    "    mu,sigma,offset = x\n",
    "    return np.sum(\n",
    "        [(np.log(norm.pdf(x,loc=mu,scale=sigma))+np.log(offset)-log_y)**2 \\\n",
    "            for x,log_y in zip(xs,log_ys)])"
   ]
  },
  {
   "cell_type": "code",
   "execution_count": 109,
   "id": "75fddac7",
   "metadata": {},
   "outputs": [
    {
     "data": {
      "text/plain": [
       "array([7.2904093 , 2.29608091, 2.74455996])"
      ]
     },
     "execution_count": 109,
     "metadata": {},
     "output_type": "execute_result"
    }
   ],
   "source": [
    "minimize(func, x0=(7,2,2), bounds=[(2,15),(0.1,10),(0.5,3)]).x"
   ]
  },
  {
   "cell_type": "code",
   "execution_count": 107,
   "id": "5871a334",
   "metadata": {},
   "outputs": [
    {
     "data": {
      "text/plain": [
       "0.1293013564220741"
      ]
     },
     "execution_count": 107,
     "metadata": {},
     "output_type": "execute_result"
    }
   ],
   "source": [
    "func([6.63407468, 2.12926149, 2.        ])"
   ]
  },
  {
   "cell_type": "markdown",
   "id": "bda7a9fc",
   "metadata": {},
   "source": [
    "## other thresholding for top matching "
   ]
  },
  {
   "cell_type": "code",
   "execution_count": 122,
   "id": "a2cd5f96",
   "metadata": {},
   "outputs": [],
   "source": [
    "PROJ_DIR = '/home/gcgreen2/alignment'\n",
    "GITDIR = join(PROJ_DIR, 'SequenceAlignmentAndSketching')\n",
    "DATASETS = 'gc0.2  gc0.2_del3.16  gc0.2_ins8.04  gc0.2_ins8.04_del3.16  gc0.2_sub1.68  gc0.2_sub1.68_ins8.04_del3.16  nctc1080'\n",
    "DATASETS = DATASETS.split()\n",
    "dset = 'gc0.2_sub1.68_ins8.04_del3.16'\n",
    "gt_path = lambda dset: join(GITDIR, 'data', dset, 'ground_truth.txt')\n",
    "fasta_path = lambda dset: join(GITDIR, 'data', dset, 'reads.fasta')\n",
    "ALN_DIR = join(PROJ_DIR, 'out','5-17-sh-1-thresh')\n",
    "pred_path = lambda dset: join(ALN_DIR, dset+'_aln.tsv')"
   ]
  },
  {
   "cell_type": "code",
   "execution_count": 123,
   "id": "e8361b97",
   "metadata": {},
   "outputs": [],
   "source": [
    "pred_df = pd.read_csv(pred_path(dset), sep='\\t', header=None, names=['i1','i2','overlap','l1','l2', 'arr'])"
   ]
  },
  {
   "cell_type": "code",
   "execution_count": 124,
   "id": "d4b7be29",
   "metadata": {},
   "outputs": [],
   "source": [
    "gt_df = pd.read_csv(gt_path(dset), sep='\\t', header=None, names=['i1','i2','overlap','l1','l2'])\n"
   ]
  },
  {
   "cell_type": "code",
   "execution_count": 125,
   "id": "4a1ef304",
   "metadata": {},
   "outputs": [
    {
     "data": {
      "text/html": [
       "<div>\n",
       "<style scoped>\n",
       "    .dataframe tbody tr th:only-of-type {\n",
       "        vertical-align: middle;\n",
       "    }\n",
       "\n",
       "    .dataframe tbody tr th {\n",
       "        vertical-align: top;\n",
       "    }\n",
       "\n",
       "    .dataframe thead th {\n",
       "        text-align: right;\n",
       "    }\n",
       "</style>\n",
       "<table border=\"1\" class=\"dataframe\">\n",
       "  <thead>\n",
       "    <tr style=\"text-align: right;\">\n",
       "      <th></th>\n",
       "      <th>i1</th>\n",
       "      <th>i2</th>\n",
       "      <th>overlap</th>\n",
       "      <th>l1</th>\n",
       "      <th>l2</th>\n",
       "      <th>arr</th>\n",
       "    </tr>\n",
       "  </thead>\n",
       "  <tbody>\n",
       "    <tr>\n",
       "      <th>0</th>\n",
       "      <td>1</td>\n",
       "      <td>2</td>\n",
       "      <td>535</td>\n",
       "      <td>14635</td>\n",
       "      <td>15201</td>\n",
       "      <td>[8, 5, 7, 6, 5, 7, 6, 7, 5, 7, 6, 7, 6, 5, 6, ...</td>\n",
       "    </tr>\n",
       "    <tr>\n",
       "      <th>1</th>\n",
       "      <td>1</td>\n",
       "      <td>3</td>\n",
       "      <td>581</td>\n",
       "      <td>14635</td>\n",
       "      <td>11534</td>\n",
       "      <td>[6, 5, 7, 6, 6, 7, 5, 9, 5, 9, 7, 8, 6, 6, 6, ...</td>\n",
       "    </tr>\n",
       "  </tbody>\n",
       "</table>\n",
       "</div>"
      ],
      "text/plain": [
       "   i1  i2  overlap     l1     l2  \\\n",
       "0   1   2      535  14635  15201   \n",
       "1   1   3      581  14635  11534   \n",
       "\n",
       "                                                 arr  \n",
       "0  [8, 5, 7, 6, 5, 7, 6, 7, 5, 7, 6, 7, 6, 5, 6, ...  \n",
       "1  [6, 5, 7, 6, 6, 7, 5, 9, 5, 9, 7, 8, 6, 6, 6, ...  "
      ]
     },
     "execution_count": 125,
     "metadata": {},
     "output_type": "execute_result"
    }
   ],
   "source": [
    "pred_df.head(2)"
   ]
  },
  {
   "cell_type": "code",
   "execution_count": 126,
   "id": "ec5c7411",
   "metadata": {},
   "outputs": [
    {
     "data": {
      "text/html": [
       "<div>\n",
       "<style scoped>\n",
       "    .dataframe tbody tr th:only-of-type {\n",
       "        vertical-align: middle;\n",
       "    }\n",
       "\n",
       "    .dataframe tbody tr th {\n",
       "        vertical-align: top;\n",
       "    }\n",
       "\n",
       "    .dataframe thead th {\n",
       "        text-align: right;\n",
       "    }\n",
       "</style>\n",
       "<table border=\"1\" class=\"dataframe\">\n",
       "  <thead>\n",
       "    <tr style=\"text-align: right;\">\n",
       "      <th></th>\n",
       "      <th>i1</th>\n",
       "      <th>i2</th>\n",
       "      <th>overlap</th>\n",
       "      <th>l1</th>\n",
       "      <th>l2</th>\n",
       "    </tr>\n",
       "  </thead>\n",
       "  <tbody>\n",
       "    <tr>\n",
       "      <th>0</th>\n",
       "      <td>1</td>\n",
       "      <td>2</td>\n",
       "      <td>12668</td>\n",
       "      <td>13925</td>\n",
       "      <td>14480</td>\n",
       "    </tr>\n",
       "    <tr>\n",
       "      <th>1</th>\n",
       "      <td>1</td>\n",
       "      <td>3</td>\n",
       "      <td>10991</td>\n",
       "      <td>13925</td>\n",
       "      <td>10991</td>\n",
       "    </tr>\n",
       "  </tbody>\n",
       "</table>\n",
       "</div>"
      ],
      "text/plain": [
       "   i1  i2  overlap     l1     l2\n",
       "0   1   2    12668  13925  14480\n",
       "1   1   3    10991  13925  10991"
      ]
     },
     "execution_count": 126,
     "metadata": {},
     "output_type": "execute_result"
    }
   ],
   "source": [
    "gt_df.head(2)"
   ]
  },
  {
   "cell_type": "code",
   "execution_count": 127,
   "id": "9a5b5b5a",
   "metadata": {},
   "outputs": [],
   "source": [
    "gt_tuples = set([tuple(i) for i in gt_df[['i1','i2']].values])"
   ]
  },
  {
   "cell_type": "code",
   "execution_count": 128,
   "id": "1f7c5d36",
   "metadata": {},
   "outputs": [
    {
     "name": "stderr",
     "output_type": "stream",
     "text": [
      "502309it [00:00, 699657.50it/s]\n",
      "502309it [00:00, 789516.21it/s]\n"
     ]
    }
   ],
   "source": [
    "err_idx = [i for i,j in tqdm(enumerate(pred_df[['i1','i2']].values), leave=True, position=0) if tuple(j) not in gt_tuples]\n",
    "correct_idx = [i for i,j in tqdm(enumerate(pred_df[['i1','i2']].values), leave=True, position=0) if tuple(j) in gt_tuples]"
   ]
  },
  {
   "cell_type": "code",
   "execution_count": 129,
   "id": "4eb24379",
   "metadata": {},
   "outputs": [
    {
     "name": "stderr",
     "output_type": "stream",
     "text": [
      "0it [68:58:37, ?it/s]                                         | 2545/502309 [00:02<06:34, 1265.87it/s]\n",
      "100%|████████████████████████████████████████████████████████| 502309/502309 [09:16<00:00, 902.52it/s]\n"
     ]
    }
   ],
   "source": [
    "all_vals = [literal_eval(arr) for arr in tqdm(pred_df.arr.values, leave=True, position=0)]\n"
   ]
  },
  {
   "cell_type": "code",
   "execution_count": 130,
   "id": "c173fffc",
   "metadata": {},
   "outputs": [],
   "source": [
    "vals = np.concatenate(all_vals)"
   ]
  },
  {
   "cell_type": "code",
   "execution_count": 131,
   "id": "40546e70",
   "metadata": {},
   "outputs": [
    {
     "data": {
      "image/png": "[encoded data removed]",
      "text/plain": [
       "<Figure size 432x288 with 1 Axes>"
      ]
     },
     "metadata": {
      "needs_background": "light"
     },
     "output_type": "display_data"
    }
   ],
   "source": [
    "unique_vals, counts = np.unique(vals, return_counts=True)\n",
    "plt.bar(unique_vals,counts)\n",
    "plt.yscale('log')"
   ]
  },
  {
   "cell_type": "code",
   "execution_count": 135,
   "id": "74ae2c8b",
   "metadata": {},
   "outputs": [
    {
     "data": {
      "text/plain": [
       "<BarContainer object of 46 artists>"
      ]
     },
     "execution_count": 135,
     "metadata": {},
     "output_type": "execute_result"
    },
    {
     "data": {
      "image/png": "[encoded data removed]",
      "text/plain": [
       "<Figure size 432x288 with 1 Axes>"
      ]
     },
     "metadata": {
      "needs_background": "light"
     },
     "output_type": "display_data"
    }
   ],
   "source": [
    "inflec = [np.log(counts[i])-np.log(counts[i-1]) for i in range(1,len(counts))]\n",
    "inflec = [inflec[i]-inflec[i-1] for i in range(1,len(inflec))]\n",
    "plt.bar(unique_vals[2:], inflec)"
   ]
  },
  {
   "cell_type": "code",
   "execution_count": 137,
   "id": "174675ba",
   "metadata": {},
   "outputs": [
    {
     "data": {
      "text/plain": [
       "12"
      ]
     },
     "execution_count": 137,
     "metadata": {},
     "output_type": "execute_result"
    }
   ],
   "source": [
    "inflec_pts = [unique_vals[i+3] for i in range(1,len(inflec)) if np.sign(inflec[i])!=np.sign(inflec[i-1])][0]\n",
    "inflec_pts"
   ]
  },
  {
   "cell_type": "code",
   "execution_count": 40,
   "id": "66850cc6",
   "metadata": {},
   "outputs": [],
   "source": [
    "err_vals = np.concatenate([all_vals[i] for i in err_idx])\n",
    "correct_vals = np.concatenate([all_vals[i] for i in correct_idx])"
   ]
  },
  {
   "cell_type": "code",
   "execution_count": 42,
   "id": "194b8c5f",
   "metadata": {},
   "outputs": [
    {
     "data": {
      "image/png": "[encoded data removed]",
      "text/plain": [
       "<Figure size 432x288 with 1 Axes>"
      ]
     },
     "metadata": {
      "needs_background": "light"
     },
     "output_type": "display_data"
    }
   ],
   "source": [
    "# plt.figure()\n",
    "plt.bar(*np.unique(err_vals, return_counts=True))\n",
    "plt.yscale('log')"
   ]
  },
  {
   "cell_type": "code",
   "execution_count": 43,
   "id": "3784afc5",
   "metadata": {},
   "outputs": [
    {
     "data": {
      "image/png": "[encoded data removed]",
      "text/plain": [
       "<Figure size 432x288 with 1 Axes>"
      ]
     },
     "metadata": {
      "needs_background": "light"
     },
     "output_type": "display_data"
    }
   ],
   "source": [
    "plt.bar(*np.unique(correct_vals, return_counts=True))\n",
    "plt.yscale('log')"
   ]
  },
  {
   "cell_type": "code",
   "execution_count": 45,
   "id": "aadbde8d",
   "metadata": {},
   "outputs": [],
   "source": [
    "err_all_vals = np.array([all_vals[i] for i in err_idx])\n",
    "correct_all_vals = np.array([all_vals[i] for i in correct_idx])"
   ]
  },
  {
   "cell_type": "code",
   "execution_count": 48,
   "id": "d14efa18",
   "metadata": {},
   "outputs": [],
   "source": [
    "all_vals_np = np.array(all_vals)"
   ]
  },
  {
   "cell_type": "code",
   "execution_count": 49,
   "id": "40fa1301",
   "metadata": {},
   "outputs": [
    {
     "name": "stderr",
     "output_type": "stream",
     "text": [
      "/tmp/ipykernel_45101/2765815507.py:8: RuntimeWarning: invalid value encountered in long_scalars\n",
      "  precs.append(correct_count/(correct_count+err_count))\n"
     ]
    }
   ],
   "source": [
    "precs,recs = [],[]\n",
    "unique_vals = np.unique(vals)\n",
    "for i in unique_vals:\n",
    "    over_thresh = np.any(all_vals_np>i, axis=1)\n",
    "    err_count = np.sum(over_thresh[err_idx])\n",
    "    correct_count = np.sum(over_thresh[correct_idx])\n",
    "    recs.append(correct_count/len(correct_idx))\n",
    "    precs.append(correct_count/(correct_count+err_count))"
   ]
  },
  {
   "cell_type": "code",
   "execution_count": 52,
   "id": "6026946e",
   "metadata": {},
   "outputs": [],
   "source": [
    "precs[-1] = 0"
   ]
  },
  {
   "cell_type": "code",
   "execution_count": 54,
   "id": "2438f823",
   "metadata": {},
   "outputs": [
    {
     "data": {
      "text/plain": [
       "[<matplotlib.lines.Line2D at 0x7fc4ccc98bb0>]"
      ]
     },
     "execution_count": 54,
     "metadata": {},
     "output_type": "execute_result"
    },
    {
     "data": {
      "image/png": "[encoded data removed]",
      "text/plain": [
       "<Figure size 432x288 with 1 Axes>"
      ]
     },
     "metadata": {
      "needs_background": "light"
     },
     "output_type": "display_data"
    }
   ],
   "source": [
    "plt.plot(unique_vals, recs, 'o')"
   ]
  },
  {
   "cell_type": "code",
   "execution_count": 55,
   "id": "bea654a8",
   "metadata": {},
   "outputs": [
    {
     "data": {
      "text/plain": [
       "[<matplotlib.lines.Line2D at 0x7fc4cce87940>]"
      ]
     },
     "execution_count": 55,
     "metadata": {},
     "output_type": "execute_result"
    },
    {
     "data": {
      "image/png": "[encoded data removed]",
      "text/plain": [
       "<Figure size 432x288 with 1 Axes>"
      ]
     },
     "metadata": {
      "needs_background": "light"
     },
     "output_type": "display_data"
    }
   ],
   "source": [
    "plt.plot(unique_vals, precs, 'o')"
   ]
  },
  {
   "cell_type": "code",
   "execution_count": 61,
   "id": "5986d2c0",
   "metadata": {},
   "outputs": [],
   "source": [
    "y_true = [tuple(j) in gt_tuples for j in pred_df[['i1','i2']].values]\n",
    "y_score = np.max(all_vals_np, axis=1)"
   ]
  },
  {
   "cell_type": "code",
   "execution_count": 59,
   "id": "e7914e6f",
   "metadata": {},
   "outputs": [],
   "source": [
    "from sklearn.metrics import roc_curve,roc_auc_score"
   ]
  },
  {
   "cell_type": "code",
   "execution_count": 62,
   "id": "0cce23f3",
   "metadata": {},
   "outputs": [
    {
     "data": {
      "text/plain": [
       "[<matplotlib.lines.Line2D at 0x7fc4cca10c40>]"
      ]
     },
     "execution_count": 62,
     "metadata": {},
     "output_type": "execute_result"
    },
    {
     "data": {
      "image/png": "[encoded data removed]",
      "text/plain": [
       "<Figure size 432x288 with 1 Axes>"
      ]
     },
     "metadata": {
      "needs_background": "light"
     },
     "output_type": "display_data"
    }
   ],
   "source": [
    "fpr,tpr,thresh = roc_curve(y_true,y_score)\n",
    "plt.plot(fpr,tpr)\n",
    "    "
   ]
  },
  {
   "cell_type": "code",
   "execution_count": 63,
   "id": "04a50ccc",
   "metadata": {},
   "outputs": [
    {
     "data": {
      "text/plain": [
       "0.9674867198688478"
      ]
     },
     "execution_count": 63,
     "metadata": {},
     "output_type": "execute_result"
    }
   ],
   "source": [
    "roc_auc_score(y_true,y_score)"
   ]
  },
  {
   "cell_type": "markdown",
   "id": "25c2a611",
   "metadata": {},
   "source": [
    "##  Convert malaria output"
   ]
  },
  {
   "cell_type": "code",
   "execution_count": 76,
   "id": "98c58fe2",
   "metadata": {},
   "outputs": [],
   "source": [
    "aln_path = '/home/gcgreen2/alignment/out/5-17-sh-1-thresh/malaria_sub1.68_ins8.04_del3.16_aln.tsv.bak'\n",
    "new_path = '/home/gcgreen2/alignment/out/6-16-top/malaria_sub1.68_ins8.04_del3.16_aln.tsv'"
   ]
  },
  {
   "cell_type": "code",
   "execution_count": 80,
   "id": "98e1f540",
   "metadata": {},
   "outputs": [
    {
     "ename": "SyntaxError",
     "evalue": "unmatched ']' (<unknown>, line 1)",
     "output_type": "error",
     "traceback": [
      "Traceback \u001b[0;36m(most recent call last)\u001b[0m:\n",
      "  File \u001b[1;32m\"/home/gcgreen2/envs/py3.9venv/lib/python3.9/site-packages/IPython/core/interactiveshell.py\"\u001b[0m, line \u001b[1;32m3441\u001b[0m, in \u001b[1;35mrun_code\u001b[0m\n    exec(code_obj, self.user_global_ns, self.user_ns)\n",
      "  File \u001b[1;32m\"/tmp/ipykernel_45101/825834160.py\"\u001b[0m, line \u001b[1;32m6\u001b[0m, in \u001b[1;35m<module>\u001b[0m\n    arr = literal_eval(fields[-1])\n",
      "  File \u001b[1;32m\"/home/gcgreen2/python3.9/lib/python3.9/ast.py\"\u001b[0m, line \u001b[1;32m62\u001b[0m, in \u001b[1;35mliteral_eval\u001b[0m\n    node_or_string = parse(node_or_string, mode='eval')\n",
      "\u001b[0;36m  File \u001b[0;32m\"/home/gcgreen2/python3.9/lib/python3.9/ast.py\"\u001b[0;36m, line \u001b[0;32m50\u001b[0;36m, in \u001b[0;35mparse\u001b[0;36m\u001b[0m\n\u001b[0;31m    return compile(source, filename, mode, flags,\u001b[0m\n",
      "\u001b[0;36m  File \u001b[0;32m\"<unknown>\"\u001b[0;36m, line \u001b[0;32m1\u001b[0m\n\u001b[0;31m    4]\u001b[0m\n\u001b[0m     ^\u001b[0m\n\u001b[0;31mSyntaxError\u001b[0m\u001b[0;31m:\u001b[0m unmatched ']'\n"
     ]
    }
   ],
   "source": [
    "with open(aln_path,'r') as fh:\n",
    "    with open(new_path,'w') as nfh:\n",
    "        line = fh.readline()\n",
    "        while line!='':\n",
    "            fields = line.strip().split()\n",
    "            arr = literal_eval(fields[-1])\n",
    "            print(arr, fields)\n",
    "            break\n",
    "            new_fields = fields[:5].copy()\n",
    "            new_fields[2] = max(arr)\n",
    "            new_line = '\\t'.join([new_fields]) + '\\n'\n",
    "            nfh.write(new_line)"
   ]
  },
  {
   "cell_type": "markdown",
   "id": "b7a139f0",
   "metadata": {},
   "source": [
    "##  Test suffix hash for LLR"
   ]
  },
  {
   "cell_type": "code",
   "execution_count": 89,
   "id": "7c5fe2d7",
   "metadata": {
    "scrolled": true
   },
   "outputs": [
    {
     "name": "stderr",
     "output_type": "stream",
     "text": [
      "\n",
      "Estimating pairwise overlaps:   0%|                                            | 0/99 [00:00<?, ?it/s]\u001b[A\n",
      "Estimating pairwise overlaps:   3%|█                                   | 3/99 [00:00<00:04, 22.78it/s]\u001b[A\n",
      "Estimating pairwise overlaps:   6%|██▏                                 | 6/99 [00:00<00:03, 24.15it/s]\u001b[A\n",
      "Estimating pairwise overlaps:   9%|███▎                                | 9/99 [00:00<00:03, 24.88it/s]\u001b[A\n",
      "Estimating pairwise overlaps:  12%|████▏                              | 12/99 [00:00<00:03, 25.70it/s]\u001b[A\n",
      "Estimating pairwise overlaps:  15%|█████▎                             | 15/99 [00:00<00:03, 26.67it/s]\u001b[A\n",
      "Estimating pairwise overlaps:  18%|██████▎                            | 18/99 [00:00<00:02, 27.70it/s]\u001b[A\n",
      "Estimating pairwise overlaps:  21%|███████▍                           | 21/99 [00:00<00:02, 28.33it/s]\u001b[A\n",
      "Estimating pairwise overlaps:  24%|████████▍                          | 24/99 [00:00<00:02, 28.83it/s]\u001b[A\n",
      "Estimating pairwise overlaps:  27%|█████████▌                         | 27/99 [00:01<00:02, 27.71it/s]\u001b[A\n",
      "Estimating pairwise overlaps:  30%|██████████▌                        | 30/99 [00:01<00:02, 28.30it/s]\u001b[A\n",
      "Estimating pairwise overlaps:  34%|████████████                       | 34/99 [00:01<00:02, 29.49it/s]\u001b[A\n",
      "Estimating pairwise overlaps:  38%|█████████████▍                     | 38/99 [00:01<00:01, 30.66it/s]\u001b[A\n",
      "Estimating pairwise overlaps:  42%|██████████████▊                    | 42/99 [00:01<00:01, 31.48it/s]\u001b[A\n",
      "Estimating pairwise overlaps:  46%|████████████████▎                  | 46/99 [00:01<00:01, 33.71it/s]\u001b[A\n",
      "Estimating pairwise overlaps:  52%|██████████████████                 | 51/99 [00:01<00:01, 36.77it/s]\u001b[A\n",
      "Estimating pairwise overlaps:  57%|███████████████████▊               | 56/99 [00:01<00:01, 39.86it/s]\u001b[A\n",
      "Estimating pairwise overlaps:  63%|█████████████████████▉             | 62/99 [00:01<00:00, 43.28it/s]\u001b[A\n",
      "Estimating pairwise overlaps:  69%|████████████████████████           | 68/99 [00:02<00:00, 47.28it/s]\u001b[A\n",
      "Estimating pairwise overlaps:  77%|██████████████████████████▊        | 76/99 [00:02<00:00, 54.79it/s]\u001b[A\n",
      "Estimating pairwise overlaps: 100%|███████████████████████████████████| 99/99 [00:02<00:00, 43.19it/s]\u001b[A\n"
     ]
    }
   ],
   "source": [
    "ests = sh.find_overlaps2(fasta_file='/home/gcgreen2/alignment/SequenceAlignmentAndSketching/data/test2/reads.fasta', n_hash=200)"
   ]
  },
  {
   "cell_type": "code",
   "execution_count": 90,
   "id": "9a7194b6",
   "metadata": {},
   "outputs": [
    {
     "data": {
      "text/plain": [
       "[(1,\n",
       "  2,\n",
       "  [9,\n",
       "   23,\n",
       "   6,\n",
       "   57,\n",
       "   9,\n",
       "   101,\n",
       "   7,\n",
       "   6,\n",
       "   6,\n",
       "   5,\n",
       "   100,\n",
       "   7,\n",
       "   8,\n",
       "   6,\n",
       "   18,\n",
       "   96,\n",
       "   27,\n",
       "   27,\n",
       "   6,\n",
       "   7,\n",
       "   19,\n",
       "   6,\n",
       "   13,\n",
       "   16,\n",
       "   6,\n",
       "   35,\n",
       "   5,\n",
       "   53,\n",
       "   7,\n",
       "   10,\n",
       "   23,\n",
       "   6,\n",
       "   52,\n",
       "   21,\n",
       "   24,\n",
       "   8,\n",
       "   15,\n",
       "   6,\n",
       "   21,\n",
       "   6,\n",
       "   101,\n",
       "   5,\n",
       "   7,\n",
       "   8,\n",
       "   6,\n",
       "   38,\n",
       "   22,\n",
       "   7,\n",
       "   6,\n",
       "   6,\n",
       "   24,\n",
       "   47,\n",
       "   49,\n",
       "   25,\n",
       "   18,\n",
       "   55,\n",
       "   6,\n",
       "   20,\n",
       "   21,\n",
       "   34,\n",
       "   6,\n",
       "   19,\n",
       "   38,\n",
       "   7,\n",
       "   18,\n",
       "   6,\n",
       "   28,\n",
       "   19,\n",
       "   30,\n",
       "   50,\n",
       "   6,\n",
       "   6,\n",
       "   21,\n",
       "   79,\n",
       "   7,\n",
       "   27,\n",
       "   6,\n",
       "   64,\n",
       "   5,\n",
       "   6,\n",
       "   7,\n",
       "   29,\n",
       "   20,\n",
       "   13,\n",
       "   19,\n",
       "   13,\n",
       "   13,\n",
       "   53,\n",
       "   7,\n",
       "   6,\n",
       "   38,\n",
       "   30,\n",
       "   6,\n",
       "   13,\n",
       "   15,\n",
       "   33,\n",
       "   11,\n",
       "   8,\n",
       "   7,\n",
       "   6,\n",
       "   42,\n",
       "   6,\n",
       "   71,\n",
       "   6,\n",
       "   41,\n",
       "   6,\n",
       "   7,\n",
       "   90,\n",
       "   6,\n",
       "   9,\n",
       "   45,\n",
       "   6,\n",
       "   6,\n",
       "   6,\n",
       "   53,\n",
       "   8,\n",
       "   7,\n",
       "   16,\n",
       "   36,\n",
       "   37,\n",
       "   6,\n",
       "   6,\n",
       "   6,\n",
       "   16,\n",
       "   20,\n",
       "   24,\n",
       "   29,\n",
       "   6,\n",
       "   8,\n",
       "   47,\n",
       "   24,\n",
       "   31,\n",
       "   16,\n",
       "   15,\n",
       "   16,\n",
       "   5,\n",
       "   31,\n",
       "   7,\n",
       "   8,\n",
       "   5,\n",
       "   6,\n",
       "   10,\n",
       "   7,\n",
       "   35,\n",
       "   57,\n",
       "   11,\n",
       "   24,\n",
       "   27,\n",
       "   37,\n",
       "   14,\n",
       "   9,\n",
       "   27,\n",
       "   20,\n",
       "   13,\n",
       "   37,\n",
       "   8,\n",
       "   20,\n",
       "   6,\n",
       "   8,\n",
       "   5,\n",
       "   44,\n",
       "   10,\n",
       "   37,\n",
       "   9,\n",
       "   6,\n",
       "   9,\n",
       "   27,\n",
       "   7,\n",
       "   68,\n",
       "   10,\n",
       "   16,\n",
       "   6,\n",
       "   7,\n",
       "   52,\n",
       "   89,\n",
       "   15,\n",
       "   7,\n",
       "   19,\n",
       "   50,\n",
       "   6,\n",
       "   33,\n",
       "   10,\n",
       "   7,\n",
       "   45,\n",
       "   8,\n",
       "   23,\n",
       "   6,\n",
       "   14,\n",
       "   36,\n",
       "   33,\n",
       "   11,\n",
       "   38,\n",
       "   38,\n",
       "   26,\n",
       "   6,\n",
       "   35,\n",
       "   8,\n",
       "   7,\n",
       "   17,\n",
       "   12],\n",
       "  13925,\n",
       "  14480),\n",
       " (1,\n",
       "  3,\n",
       "  [9,\n",
       "   15,\n",
       "   6,\n",
       "   23,\n",
       "   6,\n",
       "   80,\n",
       "   7,\n",
       "   5,\n",
       "   6,\n",
       "   5,\n",
       "   135,\n",
       "   7,\n",
       "   112,\n",
       "   5,\n",
       "   9,\n",
       "   7,\n",
       "   27,\n",
       "   86,\n",
       "   25,\n",
       "   7,\n",
       "   6,\n",
       "   9,\n",
       "   13,\n",
       "   5,\n",
       "   83,\n",
       "   35,\n",
       "   11,\n",
       "   6,\n",
       "   7,\n",
       "   9,\n",
       "   6,\n",
       "   34,\n",
       "   27,\n",
       "   6,\n",
       "   21,\n",
       "   8,\n",
       "   53,\n",
       "   5,\n",
       "   21,\n",
       "   35,\n",
       "   39,\n",
       "   17,\n",
       "   7,\n",
       "   8,\n",
       "   6,\n",
       "   30,\n",
       "   24,\n",
       "   12,\n",
       "   6,\n",
       "   29,\n",
       "   79,\n",
       "   65,\n",
       "   6,\n",
       "   5,\n",
       "   18,\n",
       "   30,\n",
       "   6,\n",
       "   80,\n",
       "   7,\n",
       "   36,\n",
       "   6,\n",
       "   32,\n",
       "   8,\n",
       "   10,\n",
       "   15,\n",
       "   6,\n",
       "   6,\n",
       "   9,\n",
       "   81,\n",
       "   24,\n",
       "   6,\n",
       "   6,\n",
       "   21,\n",
       "   58,\n",
       "   18,\n",
       "   84,\n",
       "   6,\n",
       "   64,\n",
       "   5,\n",
       "   6,\n",
       "   31,\n",
       "   6,\n",
       "   38,\n",
       "   9,\n",
       "   6,\n",
       "   7,\n",
       "   36,\n",
       "   71,\n",
       "   6,\n",
       "   6,\n",
       "   33,\n",
       "   5,\n",
       "   6,\n",
       "   16,\n",
       "   15,\n",
       "   6,\n",
       "   8,\n",
       "   7,\n",
       "   7,\n",
       "   5,\n",
       "   6,\n",
       "   6,\n",
       "   46,\n",
       "   21,\n",
       "   25,\n",
       "   6,\n",
       "   9,\n",
       "   5,\n",
       "   82,\n",
       "   9,\n",
       "   91,\n",
       "   6,\n",
       "   6,\n",
       "   5,\n",
       "   53,\n",
       "   5,\n",
       "   28,\n",
       "   7,\n",
       "   36,\n",
       "   6,\n",
       "   5,\n",
       "   6,\n",
       "   6,\n",
       "   71,\n",
       "   20,\n",
       "   36,\n",
       "   6,\n",
       "   103,\n",
       "   72,\n",
       "   47,\n",
       "   5,\n",
       "   7,\n",
       "   16,\n",
       "   6,\n",
       "   16,\n",
       "   5,\n",
       "   97,\n",
       "   7,\n",
       "   8,\n",
       "   5,\n",
       "   37,\n",
       "   6,\n",
       "   7,\n",
       "   5,\n",
       "   7,\n",
       "   62,\n",
       "   70,\n",
       "   87,\n",
       "   37,\n",
       "   5,\n",
       "   6,\n",
       "   6,\n",
       "   23,\n",
       "   5,\n",
       "   37,\n",
       "   23,\n",
       "   5,\n",
       "   6,\n",
       "   49,\n",
       "   5,\n",
       "   7,\n",
       "   10,\n",
       "   16,\n",
       "   32,\n",
       "   6,\n",
       "   12,\n",
       "   7,\n",
       "   6,\n",
       "   7,\n",
       "   7,\n",
       "   27,\n",
       "   58,\n",
       "   16,\n",
       "   52,\n",
       "   88,\n",
       "   15,\n",
       "   10,\n",
       "   6,\n",
       "   5,\n",
       "   5,\n",
       "   5,\n",
       "   10,\n",
       "   12,\n",
       "   45,\n",
       "   8,\n",
       "   102,\n",
       "   8,\n",
       "   6,\n",
       "   50,\n",
       "   76,\n",
       "   7,\n",
       "   17,\n",
       "   37,\n",
       "   6,\n",
       "   6,\n",
       "   35,\n",
       "   6,\n",
       "   7,\n",
       "   17,\n",
       "   6],\n",
       "  13925,\n",
       "  10991),\n",
       " (1,\n",
       "  4,\n",
       "  [9,\n",
       "   23,\n",
       "   6,\n",
       "   33,\n",
       "   9,\n",
       "   6,\n",
       "   7,\n",
       "   6,\n",
       "   6,\n",
       "   7,\n",
       "   7,\n",
       "   7,\n",
       "   66,\n",
       "   6,\n",
       "   8,\n",
       "   36,\n",
       "   6,\n",
       "   8,\n",
       "   6,\n",
       "   7,\n",
       "   6,\n",
       "   6,\n",
       "   13,\n",
       "   10,\n",
       "   7,\n",
       "   16,\n",
       "   124,\n",
       "   53,\n",
       "   6,\n",
       "   40,\n",
       "   7,\n",
       "   26,\n",
       "   6,\n",
       "   42,\n",
       "   6,\n",
       "   7,\n",
       "   12,\n",
       "   7,\n",
       "   7,\n",
       "   6,\n",
       "   31,\n",
       "   5,\n",
       "   7,\n",
       "   5,\n",
       "   29,\n",
       "   54,\n",
       "   16,\n",
       "   7,\n",
       "   53,\n",
       "   77,\n",
       "   79,\n",
       "   25,\n",
       "   24,\n",
       "   52,\n",
       "   18,\n",
       "   55,\n",
       "   6,\n",
       "   7,\n",
       "   21,\n",
       "   36,\n",
       "   6,\n",
       "   6,\n",
       "   7,\n",
       "   13,\n",
       "   14,\n",
       "   6,\n",
       "   28,\n",
       "   9,\n",
       "   82,\n",
       "   45,\n",
       "   6,\n",
       "   6,\n",
       "   48,\n",
       "   55,\n",
       "   10,\n",
       "   7,\n",
       "   6,\n",
       "   13,\n",
       "   5,\n",
       "   6,\n",
       "   31,\n",
       "   29,\n",
       "   38,\n",
       "   9,\n",
       "   7,\n",
       "   13,\n",
       "   37,\n",
       "   31,\n",
       "   7,\n",
       "   6,\n",
       "   7,\n",
       "   53,\n",
       "   6,\n",
       "   16,\n",
       "   6,\n",
       "   29,\n",
       "   28,\n",
       "   7,\n",
       "   6,\n",
       "   6,\n",
       "   7,\n",
       "   7,\n",
       "   6,\n",
       "   6,\n",
       "   41,\n",
       "   6,\n",
       "   7,\n",
       "   6,\n",
       "   6,\n",
       "   9,\n",
       "   45,\n",
       "   6,\n",
       "   6,\n",
       "   5,\n",
       "   10,\n",
       "   6,\n",
       "   6,\n",
       "   19,\n",
       "   17,\n",
       "   8,\n",
       "   6,\n",
       "   7,\n",
       "   7,\n",
       "   71,\n",
       "   5,\n",
       "   36,\n",
       "   6,\n",
       "   8,\n",
       "   20,\n",
       "   28,\n",
       "   5,\n",
       "   31,\n",
       "   16,\n",
       "   6,\n",
       "   16,\n",
       "   5,\n",
       "   7,\n",
       "   7,\n",
       "   8,\n",
       "   5,\n",
       "   6,\n",
       "   10,\n",
       "   7,\n",
       "   6,\n",
       "   43,\n",
       "   63,\n",
       "   24,\n",
       "   6,\n",
       "   7,\n",
       "   14,\n",
       "   9,\n",
       "   50,\n",
       "   23,\n",
       "   5,\n",
       "   5,\n",
       "   23,\n",
       "   47,\n",
       "   7,\n",
       "   49,\n",
       "   5,\n",
       "   30,\n",
       "   6,\n",
       "   12,\n",
       "   33,\n",
       "   6,\n",
       "   8,\n",
       "   6,\n",
       "   6,\n",
       "   7,\n",
       "   7,\n",
       "   25,\n",
       "   58,\n",
       "   7,\n",
       "   41,\n",
       "   6,\n",
       "   8,\n",
       "   10,\n",
       "   6,\n",
       "   5,\n",
       "   6,\n",
       "   7,\n",
       "   10,\n",
       "   5,\n",
       "   45,\n",
       "   7,\n",
       "   7,\n",
       "   123,\n",
       "   6,\n",
       "   8,\n",
       "   8,\n",
       "   7,\n",
       "   6,\n",
       "   16,\n",
       "   152,\n",
       "   6,\n",
       "   6,\n",
       "   20,\n",
       "   7,\n",
       "   7,\n",
       "   6],\n",
       "  13925,\n",
       "  16467)]"
      ]
     },
     "execution_count": 90,
     "metadata": {},
     "output_type": "execute_result"
    }
   ],
   "source": [
    "ests[:3]"
   ]
  },
  {
   "cell_type": "code",
   "execution_count": 93,
   "id": "9b5c8fb6",
   "metadata": {},
   "outputs": [],
   "source": [
    "gt_path = '/home/gcgreen2/alignment/SequenceAlignmentAndSketching/data/test2/ground_truth.txt'\n",
    "gt_df = pd.read_csv(gt_path, sep='\\t', header=None, names=['i1','i2','overlap','l1','l2'])\n",
    "gt_tuples = set([tuple(i) for i in gt_df[['i1','i2']].values])\n",
    "err_vals = np.concatenate([e[2] for e in ests if tuple(e[:2]) not in gt_tuples])\n",
    "correct_vals = np.concatenate([e[2] for e in ests if tuple(e[:2]) in gt_tuples])\n",
    "max_val = max(max(err_vals),max(correct_vals))"
   ]
  },
  {
   "cell_type": "code",
   "execution_count": 94,
   "id": "17c68ca2",
   "metadata": {},
   "outputs": [
    {
     "data": {
      "text/plain": [
       "351"
      ]
     },
     "execution_count": 94,
     "metadata": {},
     "output_type": "execute_result"
    }
   ],
   "source": [
    "max_val"
   ]
  },
  {
   "cell_type": "code",
   "execution_count": 108,
   "id": "dd6ed53e",
   "metadata": {},
   "outputs": [
    {
     "data": {
      "text/plain": [
       "4.7359696897939855e-06"
      ]
     },
     "execution_count": 108,
     "metadata": {},
     "output_type": "execute_result"
    }
   ],
   "source": [
    "min(err_pmf.values())"
   ]
  },
  {
   "cell_type": "code",
   "execution_count": 111,
   "id": "d19573b3",
   "metadata": {},
   "outputs": [],
   "source": [
    "vals,counts = np.unique(err_vals, return_counts=True)\n",
    "err_pmf = {v:p/sum(counts) for v,p in zip(vals,counts)}\n",
    "vals,counts = np.unique(correct_vals, return_counts=True)\n",
    "corr_pmf = {v:p/sum(counts) for v,p in zip(vals,counts)}\n",
    "llr = {v:(corr_pmf[v] if v in corr_pmf else 0)/(err_pmf[v] if v in err_pmf else min(err_pmf.values())/100) for v in range(max_val+1)}"
   ]
  },
  {
   "cell_type": "code",
   "execution_count": 113,
   "id": "b26180c0",
   "metadata": {},
   "outputs": [
    {
     "data": {
      "text/plain": [
       "[<matplotlib.lines.Line2D at 0x7fc4cd1fa340>]"
      ]
     },
     "execution_count": 113,
     "metadata": {},
     "output_type": "execute_result"
    },
    {
     "data": {
      "image/png": "[encoded data removed]",
      "text/plain": [
       "<Figure size 432x288 with 1 Axes>"
      ]
     },
     "metadata": {
      "needs_background": "light"
     },
     "output_type": "display_data"
    }
   ],
   "source": [
    "plt.plot([llr[i] for i in range(50)])"
   ]
  },
  {
   "cell_type": "code",
   "execution_count": null,
   "id": "8d71cdfe",
   "metadata": {},
   "outputs": [],
   "source": [
    "for i in range(len(estimates)):\n",
    "    statistic = sum([llr[v] for v in estimates[i][2]])\n",
    "    estimates[i][2] = statistic\n",
    "\n",
    "return estimates"
   ]
  },
  {
   "cell_type": "markdown",
   "id": "9cf51701",
   "metadata": {},
   "source": [
    "# #######################################################"
   ]
  },
  {
   "cell_type": "code",
   "execution_count": 121,
   "id": "857b887a",
   "metadata": {},
   "outputs": [
    {
     "data": {
      "text/plain": [
       "[<matplotlib.lines.Line2D at 0x7fc4cd266b50>]"
      ]
     },
     "execution_count": 121,
     "metadata": {},
     "output_type": "execute_result"
    },
    {
     "data": {
      "image/png": "[encoded data removed]",
      "text/plain": [
       "<Figure size 432x288 with 1 Axes>"
      ]
     },
     "metadata": {
      "needs_background": "light"
     },
     "output_type": "display_data"
    }
   ],
   "source": [
    "x = np.arange(50, dtype=int)\n",
    "y = [1/(1+10*4.0**-i) for i in x]\n",
    "plt.plot(x,y)"
   ]
  },
  {
   "cell_type": "code",
   "execution_count": 118,
   "id": "318fa191",
   "metadata": {},
   "outputs": [
    {
     "data": {
      "text/plain": [
       "0.00390625"
      ]
     },
     "execution_count": 118,
     "metadata": {},
     "output_type": "execute_result"
    }
   ],
   "source": [
    "4**-4"
   ]
  },
  {
   "cell_type": "code",
   "execution_count": 145,
   "id": "a34a4f9d",
   "metadata": {},
   "outputs": [],
   "source": [
    "chroms = su.get_seqs('/home/gcgreen2/alignment/SequenceAlignmentAndSketching/data/malaria/GCA_900632045.1/gen.fna')"
   ]
  },
  {
   "cell_type": "code",
   "execution_count": 146,
   "id": "d478c0f1",
   "metadata": {},
   "outputs": [
    {
     "data": {
      "text/plain": [
       "16"
      ]
     },
     "execution_count": 146,
     "metadata": {},
     "output_type": "execute_result"
    }
   ],
   "source": [
    "len(chroms)"
   ]
  },
  {
   "cell_type": "code",
   "execution_count": 147,
   "id": "b2d40961",
   "metadata": {},
   "outputs": [
    {
     "data": {
      "text/plain": [
       "1661861"
      ]
     },
     "execution_count": 147,
     "metadata": {},
     "output_type": "execute_result"
    }
   ],
   "source": [
    "len(chroms[0])"
   ]
  },
  {
   "cell_type": "code",
   "execution_count": 149,
   "id": "01d9b76c",
   "metadata": {},
   "outputs": [],
   "source": [
    "import pandas as pd\n",
    "import numpy as np\n",
    "import numpy.random as rnd\n",
    "import csv\n",
    "import pickle\n",
    "import ast\n",
    "from glob import glob\n",
    "from io import StringIO\n",
    "from pathlib import Path\n",
    "from itertools import product, combinations\n",
    "\n",
    "MAXK = 8\n",
    "BASES = {'A','T','C','G'}\n",
    "BASE_PAIR = {'A':'T', 'T':'A', 'C':'G', 'G':'C'}\n",
    "kmers_dict = {k:[''.join(kmer) for kmer in product(BASES, repeat=k)] for k in range(1,MAXK+1)}\n",
    "rev_comp = lambda seq: ''.join([BASE_PAIR[b] for b in seq[::-1]])\n",
    "\n",
    "def create_kmer_idx_dict(k):\n",
    "    kmers = kmers_dict[k] \n",
    "    kmer_dict = {}\n",
    "    for i,kmer in enumerate(kmers):\n",
    "        kmer_dict[kmer] = i\n",
    "        kmer_dict[i] = kmer\n",
    "    return kmer_dict\n",
    "    \n",
    "kmer_idx_dicts = {k:create_kmer_idx_dict(k) for k in range(1,MAXK+1)}    \n",
    "\n",
    "def get_dist(seq, k=4, normalize=True):\n",
    "    kmers = kmers_dict[k]\n",
    "    kmer_idx_dict = kmer_idx_dicts[k]\n",
    "    dist = np.zeros(4**k)\n",
    "    for i in range(len(seq)-k+1):\n",
    "        kmer = seq[i:i+k]\n",
    "        dist[kmer_idx_dict[kmer]] += 1\n",
    "    if normalize:\n",
    "        return dist / np.sum(dist)\n",
    "    else:\n",
    "        return dist"
   ]
  },
  {
   "cell_type": "code",
   "execution_count": 153,
   "id": "34949a33",
   "metadata": {},
   "outputs": [],
   "source": [
    "dist = get_dist(chroms[0], k=4)"
   ]
  },
  {
   "cell_type": "code",
   "execution_count": 154,
   "id": "1f815c58",
   "metadata": {},
   "outputs": [
    {
     "data": {
      "text/plain": [
       "[<matplotlib.lines.Line2D at 0x7fc576d765e0>]"
      ]
     },
     "execution_count": 154,
     "metadata": {},
     "output_type": "execute_result"
    },
    {
     "data": {
      "image/png": "[encoded data removed]",
      "text/plain": [
       "<Figure size 432x288 with 1 Axes>"
      ]
     },
     "metadata": {
      "needs_background": "light"
     },
     "output_type": "display_data"
    }
   ],
   "source": [
    "plt.plot(np.sort(dist))"
   ]
  },
  {
   "cell_type": "code",
   "execution_count": null,
   "id": "4161c8c7",
   "metadata": {},
   "outputs": [],
   "source": []
  }
 ],
 "metadata": {
  "kernelspec": {
   "display_name": "Python 3 (ipykernel)",
   "language": "python",
   "name": "python3"
  },
  "language_info": {
   "codemirror_mode": {
    "name": "ipython",
    "version": 3
   },
   "file_extension": ".py",
   "mimetype": "text/x-python",
   "name": "python",
   "nbconvert_exporter": "python",
   "pygments_lexer": "ipython3",
   "version": "3.9.7"
  }
 },
 "nbformat": 4,
 "nbformat_minor": 5
}
