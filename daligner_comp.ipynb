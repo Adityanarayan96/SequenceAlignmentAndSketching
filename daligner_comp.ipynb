{
 "cells": [
  {
   "cell_type": "code",
<<<<<<< HEAD
   "execution_count": 3,
=======
   "execution_count": 1,
   "id": "61f226d4",
>>>>>>> ff5ee69ddcdbc449a3d18f8b492587c195bcc2f3
   "metadata": {},
   "outputs": [],
   "source": [
    "import sys\n",
    "from os.path import join\n",
    "import numpy as np\n",
    "import importlib\n",
    "import pandas as pd\n",
    "import matplotlib.pyplot as plt\n",
    "%matplotlib inline"
   ]
  },
  {
   "cell_type": "code",
<<<<<<< HEAD
   "execution_count": 22,
=======
   "execution_count": 2,
   "id": "c7cec32e",
>>>>>>> ff5ee69ddcdbc449a3d18f8b492587c195bcc2f3
   "metadata": {},
   "outputs": [],
   "source": [
    "PROJ_DIR = '/home/gcgreen2/alignment'\n",
    "DALN_NEW = join(PROJ_DIR, 'test_sjs/da_out.txt')\n",
    "DALN_GT = join(PROJ_DIR, 'test_sjs/NCTC1080_daligner_ground_truth.txt')\n",
    "\n",
    "gt_df = pd.read_csv(DALN_GT, sep='\\t', header=None, names=['i1','i2','overlap','l1','l2'])"
   ]
  },
  {
   "cell_type": "code",
<<<<<<< HEAD
   "execution_count": 11,
   "metadata": {
    "scrolled": true
   },
=======
   "execution_count": 3,
   "id": "9903a2a8",
   "metadata": {},
>>>>>>> ff5ee69ddcdbc449a3d18f8b492587c195bcc2f3
   "outputs": [
    {
     "data": {
      "text/html": [
       "<div>\n",
       "<style scoped>\n",
       "    .dataframe tbody tr th:only-of-type {\n",
       "        vertical-align: middle;\n",
       "    }\n",
       "\n",
       "    .dataframe tbody tr th {\n",
       "        vertical-align: top;\n",
       "    }\n",
       "\n",
       "    .dataframe thead th {\n",
       "        text-align: right;\n",
       "    }\n",
       "</style>\n",
       "<table border=\"1\" class=\"dataframe\">\n",
       "  <thead>\n",
       "    <tr style=\"text-align: right;\">\n",
       "      <th></th>\n",
       "      <th>i1</th>\n",
       "      <th>i2</th>\n",
       "      <th>overlap</th>\n",
       "      <th>l1</th>\n",
       "      <th>l2</th>\n",
       "    </tr>\n",
       "  </thead>\n",
       "  <tbody>\n",
       "    <tr>\n",
       "      <th>0</th>\n",
       "      <td>1</td>\n",
       "      <td>23</td>\n",
       "      <td>3395.0</td>\n",
       "      <td>8066</td>\n",
       "      <td>7885</td>\n",
       "    </tr>\n",
       "    <tr>\n",
       "      <th>1</th>\n",
       "      <td>1</td>\n",
       "      <td>116</td>\n",
       "      <td>5066.0</td>\n",
       "      <td>8066</td>\n",
       "      <td>22131</td>\n",
       "    </tr>\n",
       "  </tbody>\n",
       "</table>\n",
       "</div>"
      ],
      "text/plain": [
       "   i1   i2  overlap    l1     l2\n",
       "0   1   23   3395.0  8066   7885\n",
       "1   1  116   5066.0  8066  22131"
      ]
     },
     "execution_count": 3,
     "metadata": {},
     "output_type": "execute_result"
    }
   ],
   "source": [
    "gt_df.head(2)"
   ]
  },
  {
   "cell_type": "markdown",
   "metadata": {},
   "source": [
    "### format new daligner output"
   ]
  },
  {
   "cell_type": "code",
<<<<<<< HEAD
   "execution_count": 42,
   "metadata": {},
   "outputs": [],
   "source": [
    "with open(DALN_NEW) as fh: \n",
    "    for _ in range(2): fh.readline()\n",
    "    new_lines = fh.readlines()"
   ]
  },
  {
   "cell_type": "code",
   "execution_count": 43,
   "metadata": {},
   "outputs": [
    {
     "data": {
      "text/plain": [
       "['     1      16 c   [ 1,959.. 6,067] x < 8,852.. 4,929]  ~  16.0%   (   643 diffs,  42 trace pts)\\n',\n",
       " '     1      16 c   [ 6,136.. 8,066> x [ 4,802.. 2,883]  ~  15.8%   (   305 diffs,  20 trace pts)\\n']"
      ]
     },
     "execution_count": 43,
     "metadata": {},
     "output_type": "execute_result"
    }
   ],
   "source": [
    "new_lines[:2]"
   ]
  },
  {
   "cell_type": "code",
=======
>>>>>>> ff5ee69ddcdbc449a3d18f8b492587c195bcc2f3
   "execution_count": 44,
   "metadata": {},
   "outputs": [],
   "source": [
    "def parse_daln_line(line):\n",
    "    line = line.split('~')[0].rstrip().lstrip()\n",
    "    i1,i2 = line.split()[:2]\n",
    "    line = ''.join(line.split()[3:])\n",
    "    r1,r2 = line.split('x')\n",
    "#     ends = ('<' in r1 and '>' in r2) or ('>' in r1 and '<' in r2)\n",
    "    r2 = r2[1:-1].replace(',','').split('..')\n",
    "    overlap = max(0, int(r2[1])-int(r2[0]))\n",
    "    return [i1,i2,overlap]"
   ]
  },
  {
   "cell_type": "code",
   "execution_count": 45,
   "metadata": {},
   "outputs": [],
   "source": [
    "def add_duplicates(lines):\n",
    "    i = 0\n",
    "    while(i < len(lines)-1):\n",
    "        cur_pair = lines[i][:2]\n",
    "        next_pair = lines[i+1][:2]\n",
    "        if cur_pair == next_pair:\n",
    "            lines[i][2] += lines[i+1][2]\n",
    "            del lines[i+1]\n",
    "        else: i += 1"
   ]
  },
  {
   "cell_type": "code",
<<<<<<< HEAD
   "execution_count": 46,
=======
   "execution_count": 32,
   "id": "b052130e",
   "metadata": {},
   "outputs": [],
   "source": [
    "with open(DALN_NEW) as fh: \n",
    "    for _ in range(2): fh.readline()\n",
    "    new_lines = fh.readlines()"
   ]
  },
  {
   "cell_type": "code",
   "execution_count": 33,
   "id": "c5720baf",
   "metadata": {},
   "outputs": [
    {
     "data": {
      "text/plain": [
       "['     1      16 c   [ 1,959.. 6,067] x < 8,852.. 4,929]  ~  16.0%   (   643 diffs,  42 trace pts)\\n',\n",
       " '     1      16 c   [ 6,136.. 8,066> x [ 4,802.. 2,883]  ~  15.8%   (   305 diffs,  20 trace pts)\\n']"
      ]
     },
     "execution_count": 33,
     "metadata": {},
     "output_type": "execute_result"
    }
   ],
   "source": [
    "new_lines[:2]"
   ]
  },
  {
   "cell_type": "code",
   "execution_count": 36,
   "id": "c2e3f7cf",
>>>>>>> ff5ee69ddcdbc449a3d18f8b492587c195bcc2f3
   "metadata": {
    "scrolled": true
   },
   "outputs": [
    {
     "data": {
      "text/html": [
       "<div>\n",
       "<style scoped>\n",
       "    .dataframe tbody tr th:only-of-type {\n",
       "        vertical-align: middle;\n",
       "    }\n",
       "\n",
       "    .dataframe tbody tr th {\n",
       "        vertical-align: top;\n",
       "    }\n",
       "\n",
       "    .dataframe thead th {\n",
       "        text-align: right;\n",
       "    }\n",
       "</style>\n",
       "<table border=\"1\" class=\"dataframe\">\n",
       "  <thead>\n",
       "    <tr style=\"text-align: right;\">\n",
       "      <th></th>\n",
       "      <th>i1</th>\n",
       "      <th>i2</th>\n",
       "      <th>overlap</th>\n",
       "    </tr>\n",
       "  </thead>\n",
       "  <tbody>\n",
       "    <tr>\n",
       "      <th>0</th>\n",
       "      <td>1</td>\n",
       "      <td>16</td>\n",
       "      <td>0</td>\n",
       "    </tr>\n",
       "    <tr>\n",
       "      <th>1</th>\n",
       "      <td>1</td>\n",
       "      <td>23</td>\n",
       "      <td>4023</td>\n",
       "    </tr>\n",
       "  </tbody>\n",
       "</table>\n",
       "</div>"
      ],
      "text/plain": [
       "  i1  i2  overlap\n",
       "0  1  16        0\n",
       "1  1  23     4023"
      ]
     },
     "execution_count": 36,
     "metadata": {},
     "output_type": "execute_result"
    }
   ],
   "source": [
    "new_lines = [parse_daln_line(l) for l in new_lines]\n",
    "add_duplicates(new_lines)\n",
    "new_df = pd.DataFrame(new_lines, columns=['i1','i2','overlap'])\n",
    "new_df.head(2)"
   ]
  },
  {
   "cell_type": "markdown",
   "metadata": {},
   "source": [
    "### Make dict of overlaps"
   ]
  },
  {
   "cell_type": "code",
<<<<<<< HEAD
   "execution_count": 72,
=======
   "execution_count": 39,
   "id": "6155e9da",
>>>>>>> ff5ee69ddcdbc449a3d18f8b492587c195bcc2f3
   "metadata": {},
   "outputs": [],
   "source": [
    "overlaps = {}\n",
    "for i in range(len(new_df)):\n",
    "    line = new_df.iloc[i]\n",
    "    pair = tuple([line.i1, line.i2])\n",
    "    overlaps[pair] = [line.overlap, 0]\n",
    "\n",
    "for i in range(len(gt_df)):\n",
    "    line = new_df.iloc[i]\n",
    "    pair = tuple([line.i1, line.i2])\n",
    "    if pair in overlaps:\n",
    "        overlaps[pair][1] = line.overlap\n",
    "    else:\n",
    "        overlaps[pair] = [0, line.overlap]\n",
    "        \n",
    "overlaps = np.array(list(overlaps.values()))"
   ]
  },
  {
   "cell_type": "markdown",
   "metadata": {},
   "source": [
    "### scatterplots"
   ]
  },
  {
   "cell_type": "code",
<<<<<<< HEAD
   "execution_count": 73,
=======
   "execution_count": 40,
   "id": "0e9a8135",
>>>>>>> ff5ee69ddcdbc449a3d18f8b492587c195bcc2f3
   "metadata": {},
   "outputs": [
    {
     "data": {
      "text/plain": [
       "array([[    0,     0],\n",
       "       [ 4023,  4023],\n",
       "       [    0,     0],\n",
       "       ...,\n",
       "       [    0,     0],\n",
       "       [10020,     0],\n",
       "       [10370,     0]])"
      ]
     },
     "execution_count": 40,
     "metadata": {},
     "output_type": "execute_result"
    }
   ],
   "source": [
    "overlaps"
   ]
  },
  {
   "cell_type": "code",
<<<<<<< HEAD
   "execution_count": 81,
=======
   "execution_count": 42,
   "id": "8e87ff38",
>>>>>>> ff5ee69ddcdbc449a3d18f8b492587c195bcc2f3
   "metadata": {},
   "outputs": [
    {
     "data": {
      "text/plain": [
       "Text(0.5, 1.0, 'New vs. GT')"
      ]
     },
     "execution_count": 42,
     "metadata": {},
     "output_type": "execute_result"
    },
    {
     "data": {
      "image/png": "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\n",
      "text/plain": [
       "<Figure size 432x288 with 1 Axes>"
      ]
     },
     "metadata": {
      "needs_background": "light"
     },
     "output_type": "display_data"
    }
   ],
   "source": [
    "plt.scatter(x=overlaps[:,0], y=overlaps[:,1])\n",
    "plt.plot([0,max(overlaps[:,0])], [0,max(overlaps[:,0])], '--', color='red')\n",
    "plt.title('New vs. GT',fontsize=16)"
   ]
  },
  {
   "cell_type": "code",
   "execution_count": 83,
   "metadata": {},
   "outputs": [
    {
     "data": {
      "text/plain": [
       "Text(0.5, 1.0, 'New (ends only) vs. GT')"
      ]
     },
     "execution_count": 83,
     "metadata": {},
     "output_type": "execute_result"
    },
    {
     "data": {
      "image/png": "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\n",
      "text/plain": [
       "<Figure size 432x288 with 1 Axes>"
      ]
     },
     "metadata": {
      "needs_background": "light"
     },
     "output_type": "display_data"
    }
   ],
   "source": [
    "plt.scatter(x=overlaps[:,1], y=overlaps[:,2])\n",
    "plt.plot([0,max(overlaps[:,0])], [0,max(overlaps[:,0])], '--', color='red')\n",
    "plt.title('New (ends only) vs. GT',fontsize=16)"
   ]
  },
  {
   "cell_type": "code",
   "execution_count": 86,
   "metadata": {},
   "outputs": [
    {
     "name": "stdout",
     "output_type": "stream",
     "text": [
      "61.03% equal\n"
     ]
    }
   ],
   "source": [
    "pct_equal = 100*np.count_nonzero(np.isclose(overlaps[:,0],overlaps[:,2], atol=10)) / len(overlaps)\n",
    "print('{:.2f}% equal'.format(pct_equal))"
   ]
  },
  {
   "cell_type": "code",
   "execution_count": null,
   "metadata": {},
   "outputs": [],
   "source": []
  }
 ],
 "metadata": {
  "kernelspec": {
   "display_name": "Python 3",
   "language": "python",
   "name": "python3"
  },
  "language_info": {
   "codemirror_mode": {
    "name": "ipython",
    "version": 3
   },
   "file_extension": ".py",
   "mimetype": "text/x-python",
   "name": "python",
   "nbconvert_exporter": "python",
   "pygments_lexer": "ipython3",
   "version": "3.8.5"
  }
 },
 "nbformat": 4,
 "nbformat_minor": 5
}
