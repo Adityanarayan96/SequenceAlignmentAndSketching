{
 "cells": [
  {
   "cell_type": "code",
   "execution_count": 3,
   "id": "61f226d4",
   "metadata": {},
   "outputs": [],
   "source": [
    "import sys\n",
    "from os.path import join\n",
    "import numpy as np\n",
    "import importlib\n",
    "import pandas as pd\n",
    "import matplotlib.pyplot as plt\n",
    "%matplotlib inline"
   ]
  },
  {
   "cell_type": "code",
   "execution_count": 22,
   "id": "c7cec32e",
   "metadata": {},
   "outputs": [],
   "source": [
    "PROJ_DIR = '/home/gcgreen2/alignment'\n",
    "DALN_NEW = join(PROJ_DIR, 'test_sjs/da_out.txt')\n",
    "DALN_GT = join(PROJ_DIR, 'test_sjs/NCTC1080_daligner_ground_truth.txt')\n",
    "\n",
    "gt_df = pd.read_csv(DALN_GT, sep='\\t', header=None, names=['i1','i2','overlap','l1','l2'])"
   ]
  },
  {
   "cell_type": "code",
   "execution_count": 11,
   "id": "9903a2a8",
   "metadata": {},
   "outputs": [
    {
     "data": {
      "text/html": [
       "<div>\n",
       "<style scoped>\n",
       "    .dataframe tbody tr th:only-of-type {\n",
       "        vertical-align: middle;\n",
       "    }\n",
       "\n",
       "    .dataframe tbody tr th {\n",
       "        vertical-align: top;\n",
       "    }\n",
       "\n",
       "    .dataframe thead th {\n",
       "        text-align: right;\n",
       "    }\n",
       "</style>\n",
       "<table border=\"1\" class=\"dataframe\">\n",
       "  <thead>\n",
       "    <tr style=\"text-align: right;\">\n",
       "      <th></th>\n",
       "      <th>i1</th>\n",
       "      <th>i2</th>\n",
       "      <th>overlap</th>\n",
       "      <th>l1</th>\n",
       "      <th>l2</th>\n",
       "    </tr>\n",
       "  </thead>\n",
       "  <tbody>\n",
       "    <tr>\n",
       "      <th>0</th>\n",
       "      <td>1</td>\n",
       "      <td>23</td>\n",
       "      <td>3395.0</td>\n",
       "      <td>8066</td>\n",
       "      <td>7885</td>\n",
       "    </tr>\n",
       "    <tr>\n",
       "      <th>1</th>\n",
       "      <td>1</td>\n",
       "      <td>116</td>\n",
       "      <td>5066.0</td>\n",
       "      <td>8066</td>\n",
       "      <td>22131</td>\n",
       "    </tr>\n",
       "  </tbody>\n",
       "</table>\n",
       "</div>"
      ],
      "text/plain": [
       "   i1   i2  overlap    l1     l2\n",
       "0   1   23   3395.0  8066   7885\n",
       "1   1  116   5066.0  8066  22131"
      ]
     },
     "execution_count": 11,
     "metadata": {},
     "output_type": "execute_result"
    }
   ],
   "source": [
    "gt_df.head(2)"
   ]
  },
  {
   "cell_type": "markdown",
   "id": "941338a2",
   "metadata": {},
   "source": [
    "### format new daligner output"
   ]
  },
  {
   "cell_type": "code",
   "execution_count": 42,
   "id": "b052130e",
   "metadata": {},
   "outputs": [],
   "source": [
    "with open(DALN_NEW) as fh: \n",
    "    for _ in range(2): fh.readline()\n",
    "    new_lines = fh.readlines()"
   ]
  },
  {
   "cell_type": "code",
   "execution_count": 43,
   "id": "c5720baf",
   "metadata": {},
   "outputs": [
    {
     "data": {
      "text/plain": [
       "['     1      16 c   [ 1,959.. 6,067] x < 8,852.. 4,929]  ~  16.0%   (   643 diffs,  42 trace pts)\\n',\n",
       " '     1      16 c   [ 6,136.. 8,066> x [ 4,802.. 2,883]  ~  15.8%   (   305 diffs,  20 trace pts)\\n']"
      ]
     },
     "execution_count": 43,
     "metadata": {},
     "output_type": "execute_result"
    }
   ],
   "source": [
    "new_lines[:2]"
   ]
  },
  {
   "cell_type": "code",
   "execution_count": 44,
   "id": "321f9bcc",
   "metadata": {},
   "outputs": [],
   "source": [
    "def parse_daln_line(line):\n",
    "    line = line.split('~')[0].rstrip().lstrip()\n",
    "    i1,i2 = line.split()[:2]\n",
    "    line = ''.join(line.split()[3:])\n",
    "    r1,r2 = line.split('x')\n",
    "    ends = ('<' in r1 and '>' in r2) or ('>' in r1 and '<' in r2)\n",
    "    line = r1[1:-1].replace(',','').split('..')\n",
    "    overlap = abs(int(line[1])-int(line[0]))\n",
    "    overlap_ends = overlap if ends else 0\n",
    "    return [i1,i2,overlap,overlap_ends]"
   ]
  },
  {
   "cell_type": "code",
   "execution_count": 45,
   "id": "6f6aab4f",
   "metadata": {},
   "outputs": [],
   "source": [
    "def add_duplicates(lines):\n",
    "    i = 0\n",
    "    while(i < len(lines)-1):\n",
    "        cur_pair = lines[i][:2]\n",
    "        next_pair = lines[i+1][:2]\n",
    "        if cur_pair == next_pair:\n",
    "            lines[i][2] += lines[i+1][2]\n",
    "            lines[i][3] += lines[i+1][3]\n",
    "            del lines[i+1]\n",
    "        else: i += 1"
   ]
  },
  {
   "cell_type": "code",
   "execution_count": 46,
   "id": "c2e3f7cf",
   "metadata": {
    "scrolled": true
   },
   "outputs": [
    {
     "data": {
      "text/html": [
       "<div>\n",
       "<style scoped>\n",
       "    .dataframe tbody tr th:only-of-type {\n",
       "        vertical-align: middle;\n",
       "    }\n",
       "\n",
       "    .dataframe tbody tr th {\n",
       "        vertical-align: top;\n",
       "    }\n",
       "\n",
       "    .dataframe thead th {\n",
       "        text-align: right;\n",
       "    }\n",
       "</style>\n",
       "<table border=\"1\" class=\"dataframe\">\n",
       "  <thead>\n",
       "    <tr style=\"text-align: right;\">\n",
       "      <th></th>\n",
       "      <th>i1</th>\n",
       "      <th>i2</th>\n",
       "      <th>overlap</th>\n",
       "      <th>overlap_ends</th>\n",
       "    </tr>\n",
       "  </thead>\n",
       "  <tbody>\n",
       "    <tr>\n",
       "      <th>0</th>\n",
       "      <td>1</td>\n",
       "      <td>16</td>\n",
       "      <td>6038</td>\n",
       "      <td>0</td>\n",
       "    </tr>\n",
       "    <tr>\n",
       "      <th>1</th>\n",
       "      <td>1</td>\n",
       "      <td>23</td>\n",
       "      <td>3395</td>\n",
       "      <td>3395</td>\n",
       "    </tr>\n",
       "  </tbody>\n",
       "</table>\n",
       "</div>"
      ],
      "text/plain": [
       "  i1  i2  overlap  overlap_ends\n",
       "0  1  16     6038             0\n",
       "1  1  23     3395          3395"
      ]
     },
     "execution_count": 46,
     "metadata": {},
     "output_type": "execute_result"
    }
   ],
   "source": [
    "new_lines = [parse_daln_line(l) for l in new_lines]\n",
    "add_duplicates(new_lines)\n",
    "new_df = pd.DataFrame(new_lines, columns=['i1','i2','overlap','overlap_ends'])\n",
    "new_df.head(2)"
   ]
  },
  {
   "cell_type": "markdown",
   "id": "9be04029",
   "metadata": {},
   "source": [
    "### Make dict of overlaps"
   ]
  },
  {
   "cell_type": "code",
   "execution_count": 72,
   "id": "6155e9da",
   "metadata": {},
   "outputs": [],
   "source": [
    "overlaps = {}\n",
    "for i in range(len(new_df)):\n",
    "    line = new_df.iloc[i]\n",
    "    pair = tuple([line.i1, line.i2])\n",
    "    overlaps[pair] = [line.overlap, line.overlap_ends, 0]\n",
    "\n",
    "for i in range(len(gt_df)):\n",
    "    line = new_df.iloc[i]\n",
    "    pair = tuple([line.i1, line.i2])\n",
    "    if pair in overlaps:\n",
    "        overlaps[pair][2] = line.overlap\n",
    "    else:\n",
    "        overlaps[pair] = [0, 0, line.overlap]\n",
    "        \n",
    "overlaps = np.array(list(overlaps.values()))"
   ]
  },
  {
   "cell_type": "markdown",
   "id": "f2f22ee0",
   "metadata": {},
   "source": [
    "### scatterplots"
   ]
  },
  {
   "cell_type": "code",
   "execution_count": 73,
   "id": "0e9a8135",
   "metadata": {},
   "outputs": [
    {
     "data": {
      "text/plain": [
       "array([[ 6038,     0,  6038],\n",
       "       [ 3395,  3395,  3395],\n",
       "       [ 2924,     0,  2924],\n",
       "       ...,\n",
       "       [11313,     0,     0],\n",
       "       [11142,     0,     0],\n",
       "       [11742,     0,     0]])"
      ]
     },
     "execution_count": 73,
     "metadata": {},
     "output_type": "execute_result"
    }
   ],
   "source": [
    "overlaps"
   ]
  },
  {
   "cell_type": "code",
   "execution_count": 81,
   "id": "8e87ff38",
   "metadata": {},
   "outputs": [
    {
     "data": {
      "text/plain": [
       "Text(0.5, 1.0, 'New vs. GT')"
      ]
     },
     "execution_count": 81,
     "metadata": {},
     "output_type": "execute_result"
    },
    {
     "data": {
      "image/png": "[encoded data removed]",
      "text/plain": [
       "<Figure size 432x288 with 1 Axes>"
      ]
     },
     "metadata": {
      "needs_background": "light"
     },
     "output_type": "display_data"
    }
   ],
   "source": [
    "plt.scatter(x=overlaps[:,0], y=overlaps[:,2])\n",
    "plt.plot([0,max(overlaps[:,0])], [0,max(overlaps[:,0])], '--', color='red')\n",
    "plt.title('New vs. GT',fontsize=16)"
   ]
  },
  {
   "cell_type": "code",
   "execution_count": 83,
   "id": "dc4d2a4f",
   "metadata": {},
   "outputs": [
    {
     "data": {
      "text/plain": [
       "Text(0.5, 1.0, 'New (ends only) vs. GT')"
      ]
     },
     "execution_count": 83,
     "metadata": {},
     "output_type": "execute_result"
    },
    {
     "data": {
      "image/png": "[encoded data removed]",
      "text/plain": [
       "<Figure size 432x288 with 1 Axes>"
      ]
     },
     "metadata": {
      "needs_background": "light"
     },
     "output_type": "display_data"
    }
   ],
   "source": [
    "plt.scatter(x=overlaps[:,1], y=overlaps[:,2])\n",
    "plt.plot([0,max(overlaps[:,0])], [0,max(overlaps[:,0])], '--', color='red')\n",
    "plt.title('New (ends only) vs. GT',fontsize=16)"
   ]
  },
  {
   "cell_type": "code",
   "execution_count": 86,
   "id": "abf6acdf",
   "metadata": {},
   "outputs": [
    {
     "name": "stdout",
     "output_type": "stream",
     "text": [
      "61.03% equal\n"
     ]
    }
   ],
   "source": [
    "pct_equal = 100*np.count_nonzero(np.isclose(overlaps[:,0],overlaps[:,2], atol=10)) / len(overlaps)\n",
    "print('{:.2f}% equal'.format(pct_equal))"
   ]
  },
  {
   "cell_type": "code",
   "execution_count": null,
   "id": "461aeafc",
   "metadata": {},
   "outputs": [],
   "source": []
  }
 ],
 "metadata": {
  "kernelspec": {
   "display_name": "Python 3 (ipykernel)",
   "language": "python",
   "name": "python3"
  },
  "language_info": {
   "codemirror_mode": {
    "name": "ipython",
    "version": 3
   },
   "file_extension": ".py",
   "mimetype": "text/x-python",
   "name": "python",
   "nbconvert_exporter": "python",
   "pygments_lexer": "ipython3",
   "version": "3.9.7"
  }
 },
 "nbformat": 4,
 "nbformat_minor": 5
}
