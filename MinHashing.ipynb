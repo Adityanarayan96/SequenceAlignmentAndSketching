{
 "cells": [
  {
   "cell_type": "markdown",
   "metadata": {},
   "source": [
    "Sequencing and Sketching, A Rate Distortion Perspective: Implementation"
   ]
  },
  {
   "cell_type": "code",
   "execution_count": 1,
   "metadata": {},
   "outputs": [],
   "source": [
    "import numpy as np\n",
    "import random\n",
    "import math\n",
    "import matplotlib as mpl\n",
    "import matplotlib.pyplot as plt"
   ]
  },
  {
   "cell_type": "markdown",
   "metadata": {},
   "source": [
    "MinHash (MHAP) implementation"
   ]
  },
  {
   "cell_type": "code",
   "execution_count": 2,
   "metadata": {},
   "outputs": [],
   "source": [
    "# Problem setup\n",
    "numHashes = 100; #The number of Hash functions we introduce\n",
    "n = 1000 #Size of each $X_1$ and $X_2$\n",
    "theta = 0.1 #fraction of overlap (We need to estimate this)\n",
    "stringSize = int((2-theta)*n) #The length of $X$\n",
    "string2_start = int((1-theta)*n) #Starting point of $X_2$\n",
    "TotalStringsGenerated = 10 #Number Of Strings $X$ we generate"
   ]
  },
  {
   "cell_type": "code",
   "execution_count": 3,
   "metadata": {},
   "outputs": [],
   "source": [
    "# Generate sequences to estimate the rate-distortion pair later\n",
    "string_set = []; #Array that holds $TotalStringsGenerated$ number of strings of length $(2-\\theta)n$\n",
    "string1_set = []; #Array that holds first extracted of string of size n\n",
    "string2_set = []; #Array that holds second extracted of string of size n\n",
    "for i in range(TotalStringsGenerated): #Creates random $Bern(1/2)$ strings $(X's)$ and extracts $X_1$ and $X_2$ from them\n",
    "    string = np.random.binomial(size = stringSize,n=1,p=0.5);\n",
    "    string =''.join(map(str, string));\n",
    "    string1 = string[0:n];\n",
    "    string2 = string[string2_start:stringSize];\n",
    "    string_set.append(string);\n",
    "    string1_set.append(string1);\n",
    "    string2_set.append(string2);"
   ]
  },
  {
   "cell_type": "code",
   "execution_count": 4,
   "metadata": {},
   "outputs": [],
   "source": [
    "# Function to obtain kmers from string\n",
    "def ObtainKmerSet(string,subStringSize): # Takes input as the any string (with arbitrary alphabet) (need to use \"\")\n",
    "    if(len(string)-subStringSize+1 <= 0):\n",
    "        print(\"invalid length allotment\") #kmer size cannot be greater than string size\n",
    "        return\n",
    "    else:\n",
    "        counts = {}; #Dictionary holding the kmers, without repititions\n",
    "        for i in range(len(string)-subStringSize+1):\n",
    "            kmer = string[i:i+subStringSize] #Extract the kmer\n",
    "            if kmer not in counts: #Adds kmer as dict index if it doesn't exist before\n",
    "                counts[kmer] = 0;\n",
    "            counts[kmer] += 1; #Adds an extra count to these kmers\n",
    "    return counts"
   ]
  },
  {
   "cell_type": "markdown",
   "metadata": {},
   "source": [
    "The next set of functions will be used to obtain the sketches of kmers \\\n",
    "We use a random hash function of the form $(a*dec(kmer) + b) \\mod c$, where the $a,b$ are random numbers and $c$ is a prime number above the highest possible hash output. \\\n",
    "For a reasonable $k$, say not greater than $32$, when we focus on the binary case, a prime number above $2^{32}$ is good enough"
   ]
  },
  {
   "cell_type": "code",
   "execution_count": 5,
   "metadata": {},
   "outputs": [],
   "source": [
    "#Function that generates random coefficients for the hash function (we will use $m$ hash functions)\n",
    "def RandomCoefficients(numHashFunctions,maxSketch):\n",
    "    randList = np.array([]); #Contains the $numHashFunctions$ random integers\n",
    "    while numHashFunctions > 0:\n",
    "        randInt = random.randint(0,maxSketch); #Get a random number\n",
    "        if randInt in randList:\n",
    "            randInt = random.randint(0,maxSketch); #Make sure the number doesn't repeat\n",
    "        randList = np.append(randList,randInt)\n",
    "        numHashFunctions -= 1;\n",
    "    return randList"
   ]
  },
  {
   "cell_type": "code",
   "execution_count": 6,
   "metadata": {},
   "outputs": [],
   "source": [
    "def isPrime(n):\n",
    "     \n",
    "    # Corner cases\n",
    "    if(n <= 1):\n",
    "        return False\n",
    "    if(n <= 3):\n",
    "        return True\n",
    "     \n",
    "    # This is checked so that we can skip\n",
    "    # middle five numbers in below loop\n",
    "    if(n % 2 == 0 or n % 3 == 0):\n",
    "        return False\n",
    "     \n",
    "    for i in range(5,int(math.sqrt(n) + 1), 6):\n",
    "        if(n % i == 0 or n % (i + 2) == 0):\n",
    "            return False\n",
    "     \n",
    "    return True\n",
    " \n",
    "# Function to return the smallest\n",
    "# prime number greater than N\n",
    "def nextPrime(N):\n",
    " \n",
    "    # Base case\n",
    "    if (N <= 1):\n",
    "        return 2\n",
    " \n",
    "    prime = N\n",
    "    found = False\n",
    " \n",
    "    # Loop continuously until isPrime returns\n",
    "    # True for a number greater than n\n",
    "    while(not found):\n",
    "        prime = prime + 1\n",
    " \n",
    "        if(isPrime(prime) == True):\n",
    "            found = True\n",
    " \n",
    "    return prime"
   ]
  },
  {
   "cell_type": "code",
   "execution_count": 7,
   "metadata": {},
   "outputs": [],
   "source": [
    "# Function that applies random hash functions to a dictionary of kmers\n",
    "def HashFunctionOfKmers(kmerDict,maxSketch,numHashFunctions,c,CoeffA,CoeffB): #Takes input as a dictionary of kmers and the maximun sketch value\n",
    "    Sketches = np.array([]);  \n",
    "    for i in range(0, numHashFunctions): #Compute by iterating over number of hash functions\n",
    "        minHash = c + 1;\n",
    "        for kmer in kmerDict: #\n",
    "            hashCode = (CoeffA[i]*int(kmer,2) + CoeffB[i])%c #Evaluate hash of kmer\n",
    "            if hashCode < minHash:\n",
    "                minHash = hashCode;\n",
    "        Sketches = np.append(Sketches,minHash)\n",
    "    return Sketches"
   ]
  },
  {
   "cell_type": "code",
   "execution_count": 8,
   "metadata": {},
   "outputs": [],
   "source": [
    "#Calculating rates and functions\n",
    "k = int(3*np.log2(n)) # Parameter: Given a $k$, we work on the $n-k+1$ substrings of $X_i$ (kmers). We fix k to be $3\\log{n}$ for now\n",
    "substringNumber = (n-k+1)#Total number of substrings generated for a given $n$ and $k$\n",
    "#maxSketch = 2**16 #Highest Value assigned by hash function, implies B is just \\log(maxSketch)"
   ]
  },
  {
   "cell_type": "code",
   "execution_count": 9,
   "metadata": {},
   "outputs": [],
   "source": [
    "#Obtain set of kmer dictionaries\n",
    "Sketch1_setkmer = [];#Set of dictionaries containing kmers of each string1\n",
    "Sketch2_setkmer = [];#Set of dictionaries containing kmers of each string2\n",
    "for i in range(TotalStringsGenerated):    \n",
    "    temp1 = ObtainKmerSet(string1_set[i],k);\n",
    "    Sketch1_setkmer.append(temp1);\n",
    "    temp2 = ObtainKmerSet(string2_set[i],k);\n",
    "    Sketch2_setkmer.append(temp2);"
   ]
  },
  {
   "cell_type": "code",
   "execution_count": 10,
   "metadata": {},
   "outputs": [],
   "source": [
    "# Calculate rate distortion pairs for all strings, by varying rate B.\n",
    "\n",
    "def DistortionForRate(maxSketch,Sketch1_setkmer,Sketch2_setkmer):\n",
    "    CoeffA = RandomCoefficients(numHashes,2**maxSketch); #First pick the random coefficients for the hash functions\n",
    "    CoeffB = RandomCoefficients(numHashes,2**maxSketch);\n",
    "    c = nextPrime(maxSketch) #Lowest prime greater than maxSketchValue\n",
    "    Sketch1 = HashFunctionOfKmers(Sketch1_setkmer,maxSketch,numHashes,c,CoeffA,CoeffB) #Calculate sketches for each kmer set\n",
    "    Sketch2 = HashFunctionOfKmers(Sketch2_setkmer,maxSketch,numHashes,c,CoeffA,CoeffB)\n",
    "    alpha = (Sketch1 == Sketch2).sum()/(numHashes) #alpha as defined in the paper\n",
    "    theta_hat = (2*alpha)/(1+alpha) #Estimate of theta\n",
    "    Distortion = (theta - theta_hat)**2 #Squared distortion metric\n",
    "    Rate_DistortionPair = (maxSketch,Distortion) #Rate-Distortion pair (B,D)\n",
    "    return Rate_DistortionPair"
   ]
  },
  {
   "cell_type": "code",
   "execution_count": 11,
   "metadata": {
    "scrolled": true
   },
   "outputs": [],
   "source": [
    "# Rate_DistortionPair_stringset = []\n",
    "# for i in range(0,1000): #Max rate B in the range\n",
    "#     Rate_DistortionPair_set = []\n",
    "#     for j in range(TotalStringsGenerated): #For each string\n",
    "#         Rate_DistortionPair_set.append(DistortionForRate(i,Sketch1_setkmer[j],Sketch2_setkmer[j]));\n",
    "#     Rate_DistortionPair_stringset.append(Rate_DistortionPair_set);"
   ]
  },
  {
   "cell_type": "code",
   "execution_count": 12,
   "metadata": {},
   "outputs": [
    {
     "name": "stdout",
     "output_type": "stream",
     "text": [
      "yo\n",
      "yo\n",
      "yo\n",
      "yo\n",
      "yo\n",
      "yo\n",
      "yo\n",
      "yo\n",
      "yo\n",
      "yo\n"
     ]
    }
   ],
   "source": [
    "Rate_DistortionPair_stringset = []\n",
    "for j in range(TotalStringsGenerated): #For each string\n",
    "    Rate_DistortionPair_set = []\n",
    "    for i in range(1000): #Max rate B in the range \n",
    "        Rate_DistortionPair_set.append(DistortionForRate(i,Sketch1_setkmer[j],Sketch2_setkmer[j]));\n",
    "    Rate_DistortionPair_stringset.append(Rate_DistortionPair_set);\n",
    "    print(\"yo\")"
   ]
  },
  {
   "cell_type": "code",
   "execution_count": 13,
   "metadata": {},
   "outputs": [],
   "source": [
    "# Rate_DistortionPair_set = []\n",
    "# for i in range(1000): #Max rate B in the range\n",
    "#     Rate_DistortionPair_set.append(DistortionForRate(i,Sketch1_setkmer[0],Sketch2_setkmer[0]));\n",
    "#     print(\"yo\")"
   ]
  },
  {
   "cell_type": "code",
   "execution_count": 14,
   "metadata": {},
   "outputs": [],
   "source": [
    "AvgRate_DistortionPair_set = np.mean(Rate_DistortionPair_stringset,axis=0)"
   ]
  },
  {
   "cell_type": "code",
   "execution_count": 15,
   "metadata": {},
   "outputs": [],
   "source": [
    "yy = [x[0] for x in AvgRate_DistortionPair_set]"
   ]
  },
  {
   "cell_type": "code",
   "execution_count": 16,
   "metadata": {},
   "outputs": [],
   "source": [
    "xx = [x[1] for x in AvgRate_DistortionPair_set]"
   ]
  },
  {
   "cell_type": "code",
   "execution_count": 17,
   "metadata": {
    "scrolled": true
   },
   "outputs": [
    {
     "data": {
      "image/png": "[encoded data removed]",
      "text/plain": [
       "<Figure size 432x288 with 1 Axes>"
      ]
     },
     "metadata": {
      "needs_background": "light"
     },
     "output_type": "display_data"
    }
   ],
   "source": [
    "fig, ax = plt.subplots()  # Create a figure containing a single axes.\n",
    "ax.plot(xx,yy);  # Plot some data on the axes."
   ]
  },
  {
   "cell_type": "code",
   "execution_count": null,
   "metadata": {},
   "outputs": [],
   "source": [
    "#Change with $n$\n"
   ]
  }
 ],
 "metadata": {
  "kernelspec": {
   "display_name": "Python 3",
   "language": "python",
   "name": "python3"
  },
  "language_info": {
   "codemirror_mode": {
    "name": "ipython",
    "version": 3
   },
   "file_extension": ".py",
   "mimetype": "text/x-python",
   "name": "python",
   "nbconvert_exporter": "python",
   "pygments_lexer": "ipython3",
   "version": "3.8.5"
  }
 },
 "nbformat": 4,
 "nbformat_minor": 4
}
