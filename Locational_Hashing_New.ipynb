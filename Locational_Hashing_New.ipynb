{
 "cells": [
  {
   "cell_type": "code",
   "execution_count": 1,
   "metadata": {},
   "outputs": [],
   "source": [
    "import numpy as np\n",
    "import random\n",
    "import math\n",
    "import matplotlib as mpl\n",
    "import matplotlib.pyplot as plt\n",
    "from scipy import stats\n",
    "import string"
   ]
  },
  {
   "cell_type": "markdown",
   "metadata": {},
   "source": [
    "The following script is used to evaluate the locational hashes of two DNA sequences."
   ]
  },
  {
   "cell_type": "code",
   "execution_count": 2,
   "metadata": {},
   "outputs": [],
   "source": [
    "#Function that converts string DNA alphabets (A,T,G,C) to numpy array numbers (0,1,2,3) respectively\n",
    "def convert_DNA_to_numbers(string):\n",
    "    temp = string.replace(\"A\",\"0\")\n",
    "    temp = temp.replace(\"T\",\"1\")\n",
    "    temp = temp.replace(\"G\",\"2\")\n",
    "    temp = temp.replace(\"C\",\"3\")\n",
    "    return np.array(list(temp), dtype=int)"
   ]
  },
  {
   "cell_type": "code",
   "execution_count": 3,
   "metadata": {},
   "outputs": [],
   "source": [
    "#Function that converts numpy array numbers (0,1,2,3) to string DNA alphabets (A,T,G,C) respectively\n",
    "def convert_numbers_to_DNA(numpy_array):\n",
    "    temp =''.join(map(str, numpy_array))\n",
    "    temp = temp.replace(\"0\",\"A\")\n",
    "    temp = temp.replace(\"1\",\"T\")\n",
    "    temp = temp.replace(\"2\",\"G\")\n",
    "    temp = temp.replace(\"3\",\"C\")\n",
    "    return temp"
   ]
  },
  {
   "cell_type": "code",
   "execution_count": 4,
   "metadata": {},
   "outputs": [],
   "source": [
    "# Function to Generate masks. The output is a 2D numpy array of masks\n",
    "def obtain_masks(string_size,number_of_masks): #Select string_size to be the larger of the two strings\n",
    "    mask = [] #Initialize empty array that stores masks\n",
    "    for i in range(number_of_masks): #Store the number of required masks\n",
    "        temp_mask = np.random.choice([0,1,2,3],string_size); #Just a 4-letter i.i.d string randomly generated\n",
    "#         temp_mask =''.join(map(str, temp_mask)); #Convert array to string\n",
    "        mask.append(temp_mask)\n",
    "    mask = np.array(mask)\n",
    "    return mask "
   ]
  },
  {
   "cell_type": "code",
   "execution_count": 5,
   "metadata": {},
   "outputs": [],
   "source": [
    "#Function mask arrays in a way that the standard lexicographic order works (A > T > G > C) in converted form (0>1>2>3)\n",
    "#To do this we need to have a priority for each letter (number). The priority we use is (A => A T G C), (T => T G C A) ans so on\n",
    "def masking_strings(array_one, array_two): #The masking string is the second one, it needs to have a larger size\n",
    "    Output = np.subtract(array_one,array_two[0:np.size(array_one)])\n",
    "    Output = Output%4     \n",
    "    return Output"
   ]
  },
  {
   "cell_type": "code",
   "execution_count": 6,
   "metadata": {},
   "outputs": [],
   "source": [
    "# Function to return the decimal of the lexicographic first suffix array for a mask and array\n",
    "def mask_based_lexicographic_first(array,mask): #size of array < size of mask\n",
    "    masked_suffixes = [];\n",
    "    for i in range(len(array)):\n",
    "        masked_suffixes.append(''.join(map(str, np.append(masking_strings(array[i:],mask),4)))); # 4 is just used as a last priority addition\n",
    "    A = sorted(masked_suffixes)\n",
    "#     return(A)\n",
    "    return(np.size(array) - len(A[0])+2)\n",
    "    \n",
    "        "
   ]
  },
  {
   "cell_type": "code",
   "execution_count": 7,
   "metadata": {},
   "outputs": [],
   "source": [
    "# Function that truncates strings\n",
    "def truncation(string_size,position,bit_truncation): #Takes input as the Position, and the amount it is truncated (2^{BitTruncation would be the denominator})\n",
    "        return (np.floor((position/string_size)*(2**(bit_truncation)))/2**(bit_truncation))"
   ]
  },
  {
   "cell_type": "code",
   "execution_count": 136,
   "metadata": {
    "scrolled": true
   },
   "outputs": [],
   "source": [
    "# function to obtain sketches based on location hashing\n",
    "def obtain_location_sketches(string_one,string_two,sketch_size): #Sketch size is B\n",
    "    string_one = convert_DNA_to_numbers(string_one);\n",
    "    string_two = convert_DNA_to_numbers(string_two);\n",
    "    mask = obtain_masks(max(np.size(string_one),np.size(string_two)),int(np.sqrt(sketch_size)));\n",
    "    sketches_one = np.array([]); #Arrays used to store sketches\n",
    "    sketches_two = np.array([]);\n",
    "    for i in range(len(mask)):\n",
    "        position_one = mask_based_lexicographic_first(string_one,mask[i]);\n",
    "        position_two = mask_based_lexicographic_first(string_two,mask[i]);\n",
    "        position_one = truncation(len(string_one),position_one,int(np.sqrt(sketch_size)));\n",
    "        position_two = truncation(len(string_two),position_two,int(np.sqrt(sketch_size)));\n",
    "        sketches_one = np.append(sketches_one,position_one);\n",
    "        sketches_two = np.append(sketches_two,position_two);\n",
    "    return [sketches_one,sketches_two]"
   ]
  },
  {
   "cell_type": "code",
   "execution_count": 283,
   "metadata": {
    "scrolled": true
   },
   "outputs": [],
   "source": [
    "temp = obtain_location_sketches(string_1,string_2,100)"
   ]
  },
  {
   "cell_type": "code",
   "execution_count": 96,
   "metadata": {},
   "outputs": [],
   "source": [
    "mask = obtain_masks(6,15);"
   ]
  },
  {
   "cell_type": "code",
   "execution_count": 111,
   "metadata": {},
   "outputs": [],
   "source": [
    "a = mask_based_lexicographic_first(convert_DNA_to_numbers(\"CCGTAT\"),mask[7])"
   ]
  },
  {
   "cell_type": "code",
   "execution_count": 110,
   "metadata": {},
   "outputs": [
    {
     "name": "stdout",
     "output_type": "stream",
     "text": [
      "[[2 3 2 3 1 1]\n",
      " [3 3 3 3 0 3]\n",
      " [2 1 1 1 3 2]\n",
      " [2 2 2 2 1 2]\n",
      " [0 1 3 0 1 3]\n",
      " [2 3 2 1 1 2]\n",
      " [2 3 3 0 0 1]\n",
      " [0 0 0 0 2 1]\n",
      " [2 3 1 3 3 3]\n",
      " [1 0 0 2 1 1]\n",
      " [2 1 1 2 0 2]\n",
      " [1 3 3 1 3 3]\n",
      " [3 2 0 3 0 0]\n",
      " [1 1 3 0 1 0]\n",
      " [1 2 2 3 3 3]]\n"
     ]
    }
   ],
   "source": [
    "print(mask)"
   ]
  },
  {
   "cell_type": "code",
   "execution_count": 112,
   "metadata": {
    "scrolled": false
   },
   "outputs": [
    {
     "name": "stdout",
     "output_type": "stream",
     "text": [
      "5\n"
     ]
    }
   ],
   "source": [
    "print(a)"
   ]
  },
  {
   "cell_type": "code",
   "execution_count": 231,
   "metadata": {},
   "outputs": [],
   "source": [
    "b = mask_based_lexicographic_first(convert_DNA_to_numbers(\"ATACGC\"),mask[7])"
   ]
  },
  {
   "cell_type": "code",
   "execution_count": 114,
   "metadata": {},
   "outputs": [
    {
     "name": "stdout",
     "output_type": "stream",
     "text": [
      "3\n"
     ]
    }
   ],
   "source": [
    "print(b)"
   ]
  },
  {
   "cell_type": "code",
   "execution_count": 233,
   "metadata": {},
   "outputs": [],
   "source": [
    "A = \"CTTTAAACGCGAGTTCCCGCTCATAACTTGGTCCGAATGCGGGTTCTTGCATCGTTCCACTGAGTTTGTTTCATGTAGGACGGGCGCAAAGTATACTTAGTTCAATCTTCAATACCTTGTATTATTGTACACCTACCGGTCACCAGCCAACAATGTGCGGACGGCGTTGCAACTTCCAGGGCCTAATCTGACCGTCCTAGATACGGCACTGTGGGCAATACGAGGTAATGGCAGACACCCAGTGTCGAACAACACCTGACCTAACGGTAAGAGAGTCACATAATGCCTCCGGCCGCGTGCCCAGGGTATATTTGGTCAGTATCGAATGGACTGAGATGAATCTTTACACCGAAGCGGAAACGGGTGCGTGGACTAGCCAGGAGCAAACGAAAAATCCTGGCCTGCTTGATGTCTCGTAACGTTCTTAGAGATGGACGAAATGTTTCACGACCTAGGAAAAGGTCGCCCTACAAAATAGATTTGTGCTACTCTCCTCATAA\""
   ]
  },
  {
   "cell_type": "code",
   "execution_count": 279,
   "metadata": {},
   "outputs": [],
   "source": [
    "string_1 = A[0:350]"
   ]
  },
  {
   "cell_type": "code",
   "execution_count": 280,
   "metadata": {
    "scrolled": true
   },
   "outputs": [
    {
     "data": {
      "text/plain": [
       "350"
      ]
     },
     "execution_count": 280,
     "metadata": {},
     "output_type": "execute_result"
    }
   ],
   "source": [
    "len(string_1)"
   ]
  },
  {
   "cell_type": "code",
   "execution_count": 281,
   "metadata": {},
   "outputs": [],
   "source": [
    "string_2 = A[150:500]"
   ]
  },
  {
   "cell_type": "code",
   "execution_count": 266,
   "metadata": {},
   "outputs": [
    {
     "data": {
      "text/plain": [
       "275"
      ]
     },
     "execution_count": 266,
     "metadata": {},
     "output_type": "execute_result"
    }
   ],
   "source": [
    "len(string_2)"
   ]
  },
  {
   "cell_type": "code",
   "execution_count": 284,
   "metadata": {
    "scrolled": true
   },
   "outputs": [
    {
     "data": {
      "text/plain": [
       "0.5712890625"
      ]
     },
     "execution_count": 284,
     "metadata": {},
     "output_type": "execute_result"
    }
   ],
   "source": [
    "stats.mode(1-(temp[0]-temp[1]))[0][0]"
   ]
  },
  {
   "cell_type": "code",
   "execution_count": 230,
   "metadata": {
    "scrolled": false
   },
   "outputs": [
    {
     "name": "stdout",
     "output_type": "stream",
     "text": [
      "[array([0.53613281, 0.26367188, 0.73925781, 0.38574219, 0.41113281,\n",
      "       0.70703125, 0.51660156, 0.92480469, 0.55371094, 0.98925781]), array([0.41699219, 0.45703125, 0.49023438, 0.12011719, 0.70996094,\n",
      "       0.9921875 , 0.5703125 , 0.2578125 , 0.24023438, 0.32226562])]\n"
     ]
    }
   ],
   "source": [
    "print(temp)"
   ]
  },
  {
   "cell_type": "code",
   "execution_count": null,
   "metadata": {},
   "outputs": [],
   "source": []
  }
 ],
 "metadata": {
  "kernelspec": {
   "display_name": "Python 3",
   "language": "python",
   "name": "python3"
  },
  "language_info": {
   "codemirror_mode": {
    "name": "ipython",
    "version": 3
   },
   "file_extension": ".py",
   "mimetype": "text/x-python",
   "name": "python",
   "nbconvert_exporter": "python",
   "pygments_lexer": "ipython3",
   "version": "3.8.5"
  }
 },
 "nbformat": 4,
 "nbformat_minor": 4
}
