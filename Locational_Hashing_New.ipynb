{
 "cells": [
  {
   "cell_type": "code",
   "execution_count": 14,
   "metadata": {},
   "outputs": [],
   "source": [
    "import numpy as np\n",
    "import random\n",
    "import math\n",
    "import matplotlib as mpl\n",
    "import matplotlib.pyplot as plt\n",
    "from scipy import stats\n",
    "import time\n",
    "import string"
   ]
  },
  {
   "cell_type": "markdown",
   "metadata": {},
   "source": [
    "The following script is used to evaluate the locational hashes of two DNA sequences."
   ]
  },
  {
   "cell_type": "code",
   "execution_count": 2,
   "metadata": {},
   "outputs": [],
   "source": [
    "#Function that converts string DNA alphabets (A,T,G,C) to numpy array numbers (0,1,2,3) respectively\n",
    "def convert_DNA_to_numbers(string):\n",
    "    temp = string.replace(\"A\",\"0\")\n",
    "    temp = temp.replace(\"T\",\"1\")\n",
    "    temp = temp.replace(\"G\",\"2\")\n",
    "    temp = temp.replace(\"C\",\"3\")\n",
    "    return np.array(list(temp), dtype=int)"
   ]
  },
  {
   "cell_type": "code",
   "execution_count": 3,
   "metadata": {},
   "outputs": [],
   "source": [
    "#Function that converts numpy array numbers (0,1,2,3) to string DNA alphabets (A,T,G,C) respectively\n",
    "def convert_numbers_to_DNA(numpy_array):\n",
    "    temp =''.join(map(str, numpy_array))\n",
    "    temp = temp.replace(\"0\",\"A\")\n",
    "    temp = temp.replace(\"1\",\"T\")\n",
    "    temp = temp.replace(\"2\",\"G\")\n",
    "    temp = temp.replace(\"3\",\"C\")\n",
    "    return temp"
   ]
  },
  {
   "cell_type": "code",
   "execution_count": 57,
   "metadata": {},
   "outputs": [],
   "source": [
    "# Function to Generate masks. The output is a 2D numpy array of masks\n",
    "def obtain_masks(string_size,number_of_masks): #Select string_size to be the larger of the two strings\n",
    "    masks = [np.random.choice([0,1,2,3],string_size) for i in range(number_of_masks)] #Store the number of required masks\n",
    "    return masks"
   ]
  },
  {
   "cell_type": "code",
   "execution_count": 5,
   "metadata": {},
   "outputs": [],
   "source": [
    "#Function mask arrays in a way that the standard lexicographic order works (A > T > G > C) in converted form (0>1>2>3)\n",
    "#To do this we need to have a priority for each letter (number). The priority we use is (A => A T G C), (T => T G C A) ans so on\n",
    "def masking_strings(array_one, array_two): #The masking string is the second one, it needs to have a larger size\n",
    "    Output = np.subtract(array_one,array_two[0:np.size(array_one)])\n",
    "    Output = Output%4     \n",
    "    return Output"
   ]
  },
  {
   "cell_type": "code",
   "execution_count": 71,
   "metadata": {},
   "outputs": [
    {
     "data": {
      "text/plain": [
       "array([2, 2, 0, 1, 2, 0])"
      ]
     },
     "execution_count": 71,
     "metadata": {},
     "output_type": "execute_result"
    }
   ],
   "source": [
    "np.array([-1,2,3,4,5,6])%3"
   ]
  },
  {
   "cell_type": "code",
   "execution_count": 68,
   "metadata": {},
   "outputs": [],
   "source": [
    "# # Function to return the decimal of the lexicographic first suffix array for a mask and array\n",
    "# def mask_based_lexicographic_first(array,mask): #size of array < size of mask\n",
    "#     masked_suffixes = [];\n",
    "#     for i in range(len(array)):\n",
    "#         masked_suffixes.append(''.join(map(str, np.append(masking_strings(array[i:],mask),4)))); # 4 is just used as a last priority addition\n",
    "#     A = sorted(masked_suffixes)\n",
    "# #     return(A)\n",
    "#     return(np.size(array) - len(A[0])+2)\n",
    "    \n",
    "        "
   ]
  },
  {
   "cell_type": "code",
   "execution_count": 72,
   "metadata": {},
   "outputs": [],
   "source": [
    "# Function to return the decimal of the lexicographic first suffix array for a mask and array\n",
    "def mask_based_lexicographic_first(array,mask): #size of array < size of mask\n",
    "    masked_seq = ''.join()\n",
    "    masked_suffixes = [int(''.join(masking_strings(array[i:],mask) for i in range(len(masked_seq))]\n",
    "#     print(len(masked_suffixes), masked_suffixes[:5])\n",
    "    return len(array) - np.max(masked_suffixes) + 2\n",
    "    \n",
    "        "
   ]
  },
  {
   "cell_type": "code",
   "execution_count": 73,
   "metadata": {},
   "outputs": [],
   "source": [
    "# Function that truncates strings\n",
    "def truncation(string_size,position,bit_truncation): #Takes input as the Position, and the amount it is truncated (2^{BitTruncation would be the denominator})\n",
    "        return (np.floor((position/string_size)*(2**(bit_truncation)))/2**(bit_truncation))"
   ]
  },
  {
   "cell_type": "code",
   "execution_count": 74,
   "metadata": {
    "scrolled": true
   },
   "outputs": [],
   "source": [
    "# function to obtain sketches based on location hashing\n",
    "def obtain_location_sketches(string_one,string_two,sketch_size): #Sketch size is B\n",
    "    string_one = convert_DNA_to_numbers(string_one);\n",
    "    string_two = convert_DNA_to_numbers(string_two);\n",
    "    masks = obtain_masks(max(np.size(string_one),np.size(string_two)),int(np.sqrt(sketch_size)));\n",
    "    sketches_one = [mask_based_lexicographic_first(string_one,mask) for mask in masks]\n",
    "    sketches_two = [mask_based_lexicographic_first(string_two,mask) for mask in masks]\n",
    "    return [sketches_one,sketches_two]\n"
   ]
  },
  {
   "cell_type": "code",
   "execution_count": 75,
   "metadata": {},
   "outputs": [],
   "source": [
    "A = np.random.choice(['A','T','C','G'], size=2000)\n",
    "A = ''.join(A)"
   ]
  },
  {
   "cell_type": "code",
   "execution_count": 76,
   "metadata": {},
   "outputs": [],
   "source": [
    "string_1 = A[:len(A)*3//4]"
   ]
  },
  {
   "cell_type": "code",
   "execution_count": 77,
   "metadata": {
    "scrolled": true
   },
   "outputs": [
    {
     "data": {
      "text/plain": [
       "1500"
      ]
     },
     "execution_count": 77,
     "metadata": {},
     "output_type": "execute_result"
    }
   ],
   "source": [
    "len(string_1)"
   ]
  },
  {
   "cell_type": "code",
   "execution_count": 78,
   "metadata": {},
   "outputs": [],
   "source": [
    "string_2 = A[len(A)//4:]"
   ]
  },
  {
   "cell_type": "code",
   "execution_count": 79,
   "metadata": {},
   "outputs": [
    {
     "data": {
      "text/plain": [
       "1500"
      ]
     },
     "execution_count": 79,
     "metadata": {},
     "output_type": "execute_result"
    }
   ],
   "source": [
    "len(string_2)"
   ]
  },
  {
   "cell_type": "code",
   "execution_count": 80,
   "metadata": {
    "collapsed": true
   },
   "outputs": [
    {
     "ename": "TypeError",
     "evalue": "sequence item 0: expected str instance, numpy.int64 found",
     "output_type": "error",
     "traceback": [
      "\u001b[0;31m---------------------------------------------------------------------------\u001b[0m",
      "\u001b[0;31mTypeError\u001b[0m                                 Traceback (most recent call last)",
      "\u001b[0;32m/tmp/ipykernel_4957/3934711379.py\u001b[0m in \u001b[0;36m<module>\u001b[0;34m\u001b[0m\n\u001b[1;32m      1\u001b[0m \u001b[0mstart\u001b[0m \u001b[0;34m=\u001b[0m \u001b[0mtime\u001b[0m\u001b[0;34m.\u001b[0m\u001b[0mtime\u001b[0m\u001b[0;34m(\u001b[0m\u001b[0;34m)\u001b[0m\u001b[0;34m\u001b[0m\u001b[0;34m\u001b[0m\u001b[0m\n\u001b[0;32m----> 2\u001b[0;31m \u001b[0mtemp\u001b[0m \u001b[0;34m=\u001b[0m \u001b[0mobtain_location_sketches\u001b[0m\u001b[0;34m(\u001b[0m\u001b[0mstring_1\u001b[0m\u001b[0;34m,\u001b[0m\u001b[0mstring_2\u001b[0m\u001b[0;34m,\u001b[0m\u001b[0;36m100\u001b[0m\u001b[0;34m)\u001b[0m\u001b[0;34m\u001b[0m\u001b[0;34m\u001b[0m\u001b[0m\n\u001b[0m\u001b[1;32m      3\u001b[0m \u001b[0mprint\u001b[0m\u001b[0;34m(\u001b[0m\u001b[0mtime\u001b[0m\u001b[0;34m.\u001b[0m\u001b[0mtime\u001b[0m\u001b[0;34m(\u001b[0m\u001b[0;34m)\u001b[0m\u001b[0;34m-\u001b[0m\u001b[0mstart\u001b[0m\u001b[0;34m)\u001b[0m\u001b[0;34m\u001b[0m\u001b[0;34m\u001b[0m\u001b[0m\n",
      "\u001b[0;32m/tmp/ipykernel_4957/241655022.py\u001b[0m in \u001b[0;36mobtain_location_sketches\u001b[0;34m(string_one, string_two, sketch_size)\u001b[0m\n\u001b[1;32m      4\u001b[0m     \u001b[0mstring_two\u001b[0m \u001b[0;34m=\u001b[0m \u001b[0mconvert_DNA_to_numbers\u001b[0m\u001b[0;34m(\u001b[0m\u001b[0mstring_two\u001b[0m\u001b[0;34m)\u001b[0m\u001b[0;34m;\u001b[0m\u001b[0;34m\u001b[0m\u001b[0;34m\u001b[0m\u001b[0m\n\u001b[1;32m      5\u001b[0m     \u001b[0mmasks\u001b[0m \u001b[0;34m=\u001b[0m \u001b[0mobtain_masks\u001b[0m\u001b[0;34m(\u001b[0m\u001b[0mmax\u001b[0m\u001b[0;34m(\u001b[0m\u001b[0mnp\u001b[0m\u001b[0;34m.\u001b[0m\u001b[0msize\u001b[0m\u001b[0;34m(\u001b[0m\u001b[0mstring_one\u001b[0m\u001b[0;34m)\u001b[0m\u001b[0;34m,\u001b[0m\u001b[0mnp\u001b[0m\u001b[0;34m.\u001b[0m\u001b[0msize\u001b[0m\u001b[0;34m(\u001b[0m\u001b[0mstring_two\u001b[0m\u001b[0;34m)\u001b[0m\u001b[0;34m)\u001b[0m\u001b[0;34m,\u001b[0m\u001b[0mint\u001b[0m\u001b[0;34m(\u001b[0m\u001b[0mnp\u001b[0m\u001b[0;34m.\u001b[0m\u001b[0msqrt\u001b[0m\u001b[0;34m(\u001b[0m\u001b[0msketch_size\u001b[0m\u001b[0;34m)\u001b[0m\u001b[0;34m)\u001b[0m\u001b[0;34m)\u001b[0m\u001b[0;34m;\u001b[0m\u001b[0;34m\u001b[0m\u001b[0;34m\u001b[0m\u001b[0m\n\u001b[0;32m----> 6\u001b[0;31m     \u001b[0msketches_one\u001b[0m \u001b[0;34m=\u001b[0m \u001b[0;34m[\u001b[0m\u001b[0mmask_based_lexicographic_first\u001b[0m\u001b[0;34m(\u001b[0m\u001b[0mstring_one\u001b[0m\u001b[0;34m,\u001b[0m\u001b[0mmask\u001b[0m\u001b[0;34m)\u001b[0m \u001b[0;32mfor\u001b[0m \u001b[0mmask\u001b[0m \u001b[0;32min\u001b[0m \u001b[0mmasks\u001b[0m\u001b[0;34m]\u001b[0m\u001b[0;34m\u001b[0m\u001b[0;34m\u001b[0m\u001b[0m\n\u001b[0m\u001b[1;32m      7\u001b[0m     \u001b[0msketches_two\u001b[0m \u001b[0;34m=\u001b[0m \u001b[0;34m[\u001b[0m\u001b[0mmask_based_lexicographic_first\u001b[0m\u001b[0;34m(\u001b[0m\u001b[0mstring_two\u001b[0m\u001b[0;34m,\u001b[0m\u001b[0mmask\u001b[0m\u001b[0;34m)\u001b[0m \u001b[0;32mfor\u001b[0m \u001b[0mmask\u001b[0m \u001b[0;32min\u001b[0m \u001b[0mmasks\u001b[0m\u001b[0;34m]\u001b[0m\u001b[0;34m\u001b[0m\u001b[0;34m\u001b[0m\u001b[0m\n\u001b[1;32m      8\u001b[0m     \u001b[0;32mreturn\u001b[0m \u001b[0;34m[\u001b[0m\u001b[0msketches_one\u001b[0m\u001b[0;34m,\u001b[0m\u001b[0msketches_two\u001b[0m\u001b[0;34m]\u001b[0m\u001b[0;34m\u001b[0m\u001b[0;34m\u001b[0m\u001b[0m\n",
      "\u001b[0;32m/tmp/ipykernel_4957/241655022.py\u001b[0m in \u001b[0;36m<listcomp>\u001b[0;34m(.0)\u001b[0m\n\u001b[1;32m      4\u001b[0m     \u001b[0mstring_two\u001b[0m \u001b[0;34m=\u001b[0m \u001b[0mconvert_DNA_to_numbers\u001b[0m\u001b[0;34m(\u001b[0m\u001b[0mstring_two\u001b[0m\u001b[0;34m)\u001b[0m\u001b[0;34m;\u001b[0m\u001b[0;34m\u001b[0m\u001b[0;34m\u001b[0m\u001b[0m\n\u001b[1;32m      5\u001b[0m     \u001b[0mmasks\u001b[0m \u001b[0;34m=\u001b[0m \u001b[0mobtain_masks\u001b[0m\u001b[0;34m(\u001b[0m\u001b[0mmax\u001b[0m\u001b[0;34m(\u001b[0m\u001b[0mnp\u001b[0m\u001b[0;34m.\u001b[0m\u001b[0msize\u001b[0m\u001b[0;34m(\u001b[0m\u001b[0mstring_one\u001b[0m\u001b[0;34m)\u001b[0m\u001b[0;34m,\u001b[0m\u001b[0mnp\u001b[0m\u001b[0;34m.\u001b[0m\u001b[0msize\u001b[0m\u001b[0;34m(\u001b[0m\u001b[0mstring_two\u001b[0m\u001b[0;34m)\u001b[0m\u001b[0;34m)\u001b[0m\u001b[0;34m,\u001b[0m\u001b[0mint\u001b[0m\u001b[0;34m(\u001b[0m\u001b[0mnp\u001b[0m\u001b[0;34m.\u001b[0m\u001b[0msqrt\u001b[0m\u001b[0;34m(\u001b[0m\u001b[0msketch_size\u001b[0m\u001b[0;34m)\u001b[0m\u001b[0;34m)\u001b[0m\u001b[0;34m)\u001b[0m\u001b[0;34m;\u001b[0m\u001b[0;34m\u001b[0m\u001b[0;34m\u001b[0m\u001b[0m\n\u001b[0;32m----> 6\u001b[0;31m     \u001b[0msketches_one\u001b[0m \u001b[0;34m=\u001b[0m \u001b[0;34m[\u001b[0m\u001b[0mmask_based_lexicographic_first\u001b[0m\u001b[0;34m(\u001b[0m\u001b[0mstring_one\u001b[0m\u001b[0;34m,\u001b[0m\u001b[0mmask\u001b[0m\u001b[0;34m)\u001b[0m \u001b[0;32mfor\u001b[0m \u001b[0mmask\u001b[0m \u001b[0;32min\u001b[0m \u001b[0mmasks\u001b[0m\u001b[0;34m]\u001b[0m\u001b[0;34m\u001b[0m\u001b[0;34m\u001b[0m\u001b[0m\n\u001b[0m\u001b[1;32m      7\u001b[0m     \u001b[0msketches_two\u001b[0m \u001b[0;34m=\u001b[0m \u001b[0;34m[\u001b[0m\u001b[0mmask_based_lexicographic_first\u001b[0m\u001b[0;34m(\u001b[0m\u001b[0mstring_two\u001b[0m\u001b[0;34m,\u001b[0m\u001b[0mmask\u001b[0m\u001b[0;34m)\u001b[0m \u001b[0;32mfor\u001b[0m \u001b[0mmask\u001b[0m \u001b[0;32min\u001b[0m \u001b[0mmasks\u001b[0m\u001b[0;34m]\u001b[0m\u001b[0;34m\u001b[0m\u001b[0;34m\u001b[0m\u001b[0m\n\u001b[1;32m      8\u001b[0m     \u001b[0;32mreturn\u001b[0m \u001b[0;34m[\u001b[0m\u001b[0msketches_one\u001b[0m\u001b[0;34m,\u001b[0m\u001b[0msketches_two\u001b[0m\u001b[0;34m]\u001b[0m\u001b[0;34m\u001b[0m\u001b[0;34m\u001b[0m\u001b[0m\n",
      "\u001b[0;32m/tmp/ipykernel_4957/124660254.py\u001b[0m in \u001b[0;36mmask_based_lexicographic_first\u001b[0;34m(array, mask)\u001b[0m\n\u001b[1;32m      1\u001b[0m \u001b[0;31m# Function to return the decimal of the lexicographic first suffix array for a mask and array\u001b[0m\u001b[0;34m\u001b[0m\u001b[0;34m\u001b[0m\u001b[0m\n\u001b[1;32m      2\u001b[0m \u001b[0;32mdef\u001b[0m \u001b[0mmask_based_lexicographic_first\u001b[0m\u001b[0;34m(\u001b[0m\u001b[0marray\u001b[0m\u001b[0;34m,\u001b[0m\u001b[0mmask\u001b[0m\u001b[0;34m)\u001b[0m\u001b[0;34m:\u001b[0m \u001b[0;31m#size of array < size of mask\u001b[0m\u001b[0;34m\u001b[0m\u001b[0;34m\u001b[0m\u001b[0m\n\u001b[0;32m----> 3\u001b[0;31m     \u001b[0mmasked_seq\u001b[0m \u001b[0;34m=\u001b[0m \u001b[0;34m''\u001b[0m\u001b[0;34m.\u001b[0m\u001b[0mjoin\u001b[0m\u001b[0;34m(\u001b[0m\u001b[0mmasking_strings\u001b[0m\u001b[0;34m(\u001b[0m\u001b[0marray\u001b[0m\u001b[0;34m,\u001b[0m\u001b[0mmask\u001b[0m\u001b[0;34m)\u001b[0m\u001b[0;34m)\u001b[0m\u001b[0;34m\u001b[0m\u001b[0;34m\u001b[0m\u001b[0m\n\u001b[0m\u001b[1;32m      4\u001b[0m     \u001b[0mmasked_suffixes\u001b[0m \u001b[0;34m=\u001b[0m \u001b[0;34m[\u001b[0m\u001b[0mint\u001b[0m\u001b[0;34m(\u001b[0m\u001b[0mmasked_seq\u001b[0m\u001b[0;34m[\u001b[0m\u001b[0mi\u001b[0m\u001b[0;34m:\u001b[0m\u001b[0;34m]\u001b[0m\u001b[0;34m)\u001b[0m \u001b[0;32mfor\u001b[0m \u001b[0mi\u001b[0m \u001b[0;32min\u001b[0m \u001b[0mrange\u001b[0m\u001b[0;34m(\u001b[0m\u001b[0mlen\u001b[0m\u001b[0;34m(\u001b[0m\u001b[0mmasked_seq\u001b[0m\u001b[0;34m)\u001b[0m\u001b[0;34m)\u001b[0m\u001b[0;34m]\u001b[0m\u001b[0;34m\u001b[0m\u001b[0;34m\u001b[0m\u001b[0m\n\u001b[1;32m      5\u001b[0m \u001b[0;31m#     print(len(masked_suffixes), masked_suffixes[:5])\u001b[0m\u001b[0;34m\u001b[0m\u001b[0;34m\u001b[0m\u001b[0m\n",
      "\u001b[0;31mTypeError\u001b[0m: sequence item 0: expected str instance, numpy.int64 found"
     ]
    }
   ],
   "source": [
    "start = time.time()\n",
    "temp = obtain_location_sketches(string_1,string_2,100)\n",
    "print(time.time()-start)"
   ]
  },
  {
   "cell_type": "code",
   "execution_count": 20,
   "metadata": {},
   "outputs": [
    {
     "data": {
      "text/plain": [
       "array([ 150.,  150., -106.,  -10.,  150.,  -39.,  -72.,  150.,  150.,\n",
       "       -224.])"
      ]
     },
     "execution_count": 20,
     "metadata": {},
     "output_type": "execute_result"
    }
   ],
   "source": [
    "temp[0]-temp[1]"
   ]
  },
  {
   "cell_type": "markdown",
   "metadata": {},
   "source": [
    "#  ##########################"
   ]
  },
  {
   "cell_type": "code",
   "execution_count": 284,
   "metadata": {
    "scrolled": true
   },
   "outputs": [
    {
     "data": {
      "text/plain": [
       "0.5712890625"
      ]
     },
     "execution_count": 284,
     "metadata": {},
     "output_type": "execute_result"
    }
   ],
   "source": [
    "stats.mode(1-(temp[0]-temp[1]))[0][0]"
   ]
  },
  {
   "cell_type": "code",
   "execution_count": 96,
   "metadata": {},
   "outputs": [],
   "source": [
    "mask = obtain_masks(6,15);"
   ]
  },
  {
   "cell_type": "code",
   "execution_count": 111,
   "metadata": {},
   "outputs": [],
   "source": [
    "a = mask_based_lexicographic_first(convert_DNA_to_numbers(\"CCGTAT\"),mask[7])"
   ]
  },
  {
   "cell_type": "code",
   "execution_count": 110,
   "metadata": {},
   "outputs": [
    {
     "name": "stdout",
     "output_type": "stream",
     "text": [
      "[[2 3 2 3 1 1]\n",
      " [3 3 3 3 0 3]\n",
      " [2 1 1 1 3 2]\n",
      " [2 2 2 2 1 2]\n",
      " [0 1 3 0 1 3]\n",
      " [2 3 2 1 1 2]\n",
      " [2 3 3 0 0 1]\n",
      " [0 0 0 0 2 1]\n",
      " [2 3 1 3 3 3]\n",
      " [1 0 0 2 1 1]\n",
      " [2 1 1 2 0 2]\n",
      " [1 3 3 1 3 3]\n",
      " [3 2 0 3 0 0]\n",
      " [1 1 3 0 1 0]\n",
      " [1 2 2 3 3 3]]\n"
     ]
    }
   ],
   "source": [
    "print(mask)"
   ]
  },
  {
   "cell_type": "code",
   "execution_count": 112,
   "metadata": {
    "scrolled": false
   },
   "outputs": [
    {
     "name": "stdout",
     "output_type": "stream",
     "text": [
      "5\n"
     ]
    }
   ],
   "source": [
    "print(a)"
   ]
  },
  {
   "cell_type": "code",
   "execution_count": 231,
   "metadata": {},
   "outputs": [],
   "source": [
    "b = mask_based_lexicographic_first(convert_DNA_to_numbers(\"ATACGC\"),mask[7])"
   ]
  },
  {
   "cell_type": "code",
   "execution_count": 114,
   "metadata": {},
   "outputs": [
    {
     "name": "stdout",
     "output_type": "stream",
     "text": [
      "3\n"
     ]
    }
   ],
   "source": [
    "print(b)"
   ]
  },
  {
   "cell_type": "code",
   "execution_count": 230,
   "metadata": {
    "scrolled": false
   },
   "outputs": [
    {
     "name": "stdout",
     "output_type": "stream",
     "text": [
      "[array([0.53613281, 0.26367188, 0.73925781, 0.38574219, 0.41113281,\n",
      "       0.70703125, 0.51660156, 0.92480469, 0.55371094, 0.98925781]), array([0.41699219, 0.45703125, 0.49023438, 0.12011719, 0.70996094,\n",
      "       0.9921875 , 0.5703125 , 0.2578125 , 0.24023438, 0.32226562])]\n"
     ]
    }
   ],
   "source": [
    "print(temp)"
   ]
  },
  {
   "cell_type": "code",
   "execution_count": 21,
   "metadata": {},
   "outputs": [
    {
     "data": {
      "text/plain": [
       "285.64453125"
      ]
     },
     "execution_count": 21,
     "metadata": {},
     "output_type": "execute_result"
    }
   ],
   "source": [
    "0.5712890625*500"
   ]
  },
  {
   "cell_type": "code",
   "execution_count": 23,
   "metadata": {},
   "outputs": [
    {
     "data": {
      "text/plain": [
       "[2, 3, 7]"
      ]
     },
     "execution_count": 23,
     "metadata": {},
     "output_type": "execute_result"
    }
   ],
   "source": [
    "sorted([3,2,7])"
   ]
  },
  {
   "cell_type": "code",
   "execution_count": 28,
   "metadata": {
    "scrolled": true
   },
   "outputs": [
    {
     "data": {
      "text/plain": [
       "[3, 4, 4, 3, 2, 4, 3, 2, 2, 1]"
      ]
     },
     "execution_count": 28,
     "metadata": {},
     "output_type": "execute_result"
    }
   ],
   "source": [
    "loc_diffs = np.array([0,2,8,10,11,17,21,22,25,34])\n",
    "window=9\n",
    "counts = [sum(np.abs(loc_diffs-diff-window/2) < window/2+0.01) for diff in loc_diffs]\n",
    "counts"
   ]
  },
  {
   "cell_type": "markdown",
   "metadata": {},
   "source": [
    "#  ##########################"
   ]
  },
  {
   "cell_type": "markdown",
   "metadata": {},
   "source": [
    "#  ##########################"
   ]
  },
  {
   "cell_type": "markdown",
   "metadata": {},
   "source": [
    "#  ##########################"
   ]
  },
  {
   "cell_type": "markdown",
   "metadata": {},
   "source": [
    "#  ##########################"
   ]
  },
  {
   "cell_type": "code",
   "execution_count": 122,
   "metadata": {},
   "outputs": [],
   "source": [
    "def convert_DNA_to_numbers(string):\n",
    "    string = string.replace(\"A\",\"00\").replace(\"T\",\"01\").replace(\"G\",\"10\").replace(\"C\",\"11\")\n",
    "    string = [int(s) for s in string]\n",
    "    return string\n",
    "\n",
    "# Function to Generate masks. The output is a 2D array of masks\n",
    "def obtain_masks(string_size,number_of_masks): #Select string_size to be the larger of the two strings\n",
    "    masks = [np.random.choice([0,1],2*string_size) for i in range(number_of_masks)]\n",
    "    return masks\n",
    "\n",
    "#Function mask arrays in a way that the standard lexicographic order works (A > T > G > C) in converted form (0>1>2>3)\n",
    "#To do this we need to have a priority for each letter (number). The priority we use is (A => A T G C), (T => T G C A) ans so on\n",
    "def masking_strings(array_one, array_two): #The masking string is the second one, it needs to have a larger size\n",
    "    Output = np.subtract(array_one,array_two[0:np.size(array_one)])\n",
    "    Output = Output%4     \n",
    "    return Output\n"
   ]
  },
  {
   "cell_type": "code",
   "execution_count": 178,
   "metadata": {},
   "outputs": [],
   "source": [
    "def mask_based_lexicographic_first(array,mask):\n",
    "    best = []\n",
    "    idxs = []\n",
    "    for i,b in enumerate(array):\n",
    "        idxs.append(i)\n",
    "        best.append(b ^ mask[i-idxs[0]]) # append to end of best (best idx is at idxs[0])\n",
    "        j = 1\n",
    "        while(len(idxs) > j):\n",
    "            bm = b ^ mask[i-idxs[j]]\n",
    "            if bm > best[i-idxs[j]]:\n",
    "                del idxs[j]\n",
    "            elif bm < best[i-idxs[j]]:\n",
    "                best = [*best[:i-idxs[j]], bm]\n",
    "                idxs = idxs[j:]\n",
    "                j = 1\n",
    "            else: \n",
    "                j += 1\n",
    "    return idxs[0]"
   ]
  },
  {
   "cell_type": "code",
   "execution_count": 182,
   "metadata": {},
   "outputs": [],
   "source": [
    "def mask_based_lexicographic_first(array,mask):\n",
    "    best,idxs = [],[]\n",
    "    for i,b in enumerate(array):\n",
    "        idxs.append(i)\n",
    "        best.append((array[i]-mask[i-idxs[0]]) % 4) # append to end of best (best idx is at idxs[0])\n",
    "        j = 1\n",
    "        while(len(idxs) > j):\n",
    "            bm = (b-mask[i-idxs[j]]) % 4\n",
    "            if bm > best[i-idxs[j]]:\n",
    "                del idxs[j]\n",
    "            elif bm < best[i-idxs[j]]:\n",
    "                best = [*best[:i-idxs[j]], bm]\n",
    "                idxs = idxs[j:]\n",
    "                j = 1\n",
    "            else: \n",
    "                j += 1\n",
    "    return idxs[0]"
   ]
  },
  {
   "cell_type": "code",
   "execution_count": 186,
   "metadata": {},
   "outputs": [
    {
     "data": {
      "text/plain": [
       "4"
      ]
     },
     "execution_count": 186,
     "metadata": {},
     "output_type": "execute_result"
    }
   ],
   "source": [
    "a=[2,3,4,4,5]\n",
    "a.index(5)"
   ]
  },
  {
   "cell_type": "code",
   "execution_count": 183,
   "metadata": {},
   "outputs": [
    {
     "name": "stdout",
     "output_type": "stream",
     "text": [
      "[0 0 0 0 1 0 0 2 2 0 0 0 1 0 1 2 1 2 2 1]\n",
      "[1 2 2 3 2 3 0 2 2 1 1 3 2 2 1 1 0 0 0 3]\n",
      "16\n"
     ]
    }
   ],
   "source": [
    "seq=np.random.choice([0,1,2,3],size=20)\n",
    "mask=np.random.choice([0,1,2,3],size=20)\n",
    "loc = mask_based_lexicographic_first(seq,mask)\n",
    "print(seq);print(mask);print(loc)"
   ]
  },
  {
   "cell_type": "code",
   "execution_count": 185,
   "metadata": {},
   "outputs": [
    {
     "data": {
      "text/plain": [
       "100"
      ]
     },
     "execution_count": 185,
     "metadata": {},
     "output_type": "execute_result"
    }
   ],
   "source": [
    "round(125,-2)"
   ]
  },
  {
   "cell_type": "code",
   "execution_count": 179,
   "metadata": {},
   "outputs": [
    {
     "name": "stdout",
     "output_type": "stream",
     "text": [
      "loc 63 \ttime 0.0007405281066894531\n",
      "loc 363 \ttime 0.004487514495849609\n",
      "loc 6212 \ttime 0.03275465965270996\n",
      "loc 13059 \ttime 0.16792750358581543\n"
     ]
    }
   ],
   "source": [
    "for seq_len in [100,1000,10000,100000]:\n",
    "    start = time.time()\n",
    "    seq = np.random.choice([0,1], size=seq_len)\n",
    "    mask = np.random.choice([0,1], size=seq_len)\n",
    "    loc = mask_based_lexicographic_first(seq,mask)\n",
    "    print('loc',loc,'\\ttime', time.time()-start)"
   ]
  },
  {
   "cell_type": "code",
   "execution_count": 181,
   "metadata": {},
   "outputs": [
    {
     "name": "stdout",
     "output_type": "stream",
     "text": [
      "9770\n"
     ]
    },
    {
     "data": {
      "text/plain": [
       "(array([10.,  7.,  9.,  9.,  9., 14., 16.,  8.,  7., 11.]),\n",
       " array([  87. , 1055.3, 2023.6, 2991.9, 3960.2, 4928.5, 5896.8, 6865.1,\n",
       "        7833.4, 8801.7, 9770. ]),\n",
       " <BarContainer object of 10 artists>)"
      ]
     },
     "execution_count": 181,
     "metadata": {},
     "output_type": "execute_result"
    },
    {
     "data": {
      "image/png": "[encoded data removed]",
      "text/plain": [
       "<Figure size 432x288 with 1 Axes>"
      ]
     },
     "metadata": {
      "needs_background": "light"
     },
     "output_type": "display_data"
    }
   ],
   "source": [
    "locs = []\n",
    "for _ in range(100):\n",
    "    seq = np.random.choice([0,1], size=10000)\n",
    "    mask = np.random.choice([0,1], size=10000)\n",
    "    loc = mask_based_lexicographic_first(seq,mask)\n",
    "    locs.append(loc)\n",
    "print(max(locs))\n",
    "plt.hist(locs)"
   ]
  },
  {
   "cell_type": "code",
   "execution_count": null,
   "metadata": {},
   "outputs": [],
   "source": []
  }
 ],
 "metadata": {
  "kernelspec": {
   "display_name": "Python 3 (ipykernel)",
   "language": "python",
   "name": "python3"
  },
  "language_info": {
   "codemirror_mode": {
    "name": "ipython",
    "version": 3
   },
   "file_extension": ".py",
   "mimetype": "text/x-python",
   "name": "python",
   "nbconvert_exporter": "python",
   "pygments_lexer": "ipython3",
   "version": "3.9.7"
  }
 },
 "nbformat": 4,
 "nbformat_minor": 4
}
