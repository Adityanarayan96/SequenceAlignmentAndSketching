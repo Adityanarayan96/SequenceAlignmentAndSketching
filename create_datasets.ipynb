{
 "cells": [
  {
   "cell_type": "code",
   "execution_count": 55,
   "id": "c3f13fcc",
   "metadata": {},
   "outputs": [],
   "source": [
    "import sys\n",
    "from os.path import join\n",
    "from os import makedirs\n",
    "import numpy as np\n",
    "from tqdm import tqdm\n",
    "from numpy.random import choice\n",
    "import importlib\n",
    "import pandas as pd\n",
    "import matplotlib.pyplot as plt\n",
    "%matplotlib inline"
   ]
  },
  {
   "cell_type": "code",
   "execution_count": 4,
   "id": "27787703",
   "metadata": {},
   "outputs": [],
   "source": [
    "PROJ_DIR = '/home/gcgreen2/alignment'\n",
    "GIT_DIR = join(PROJ_DIR, 'SequenceAlignmentAndSketching')"
   ]
  },
  {
   "cell_type": "code",
   "execution_count": 5,
   "id": "a162279a",
   "metadata": {},
   "outputs": [],
   "source": [
    "sys.path.append(GIT_DIR)\n",
    "from utils import seq_utils as su"
   ]
  },
  {
   "cell_type": "code",
   "execution_count": 21,
   "id": "561c314e",
   "metadata": {},
   "outputs": [],
   "source": [
    "DSET_DIR = join(GIT_DIR, 'data')\n",
    "FASTA_DIR = join(PROJ_DIR, 'spectral_jaccard_similarity/filtered_fasta')\n",
    "DATASETS = np.loadtxt(join(PROJ_DIR,'NCTC_list.txt'), dtype=str)\n",
    "BASES = ['A','T','C','G']"
   ]
  },
  {
   "cell_type": "markdown",
   "id": "d36f0581",
   "metadata": {},
   "source": [
    "## Get read length distribution"
   ]
  },
  {
   "cell_type": "code",
   "execution_count": 7,
   "id": "ed09479d",
   "metadata": {},
   "outputs": [],
   "source": [
    "fasta_file = join(FASTA_DIR, DATASETS[0]+'_reads.fasta')\n",
    "seqs = su.get_seqs(fasta_file)\n",
    "n_reads = len(seqs)"
   ]
  },
  {
   "cell_type": "code",
   "execution_count": 8,
   "id": "9ef5136a",
   "metadata": {},
   "outputs": [],
   "source": [
    "base_count = {b:0 for b in su.BASES}\n",
    "for seq in seqs:\n",
    "    for b in seq:\n",
    "        base_count[b]+=1"
   ]
  },
  {
   "cell_type": "code",
   "execution_count": 9,
   "id": "861bf8fa",
   "metadata": {},
   "outputs": [
    {
     "name": "stdout",
     "output_type": "stream",
     "text": [
      "['T', 'A', 'G', 'C']\n",
      "[0.30445290034981376, 0.30485254050215727, 0.18990165624569497, 0.20079290290233398]\n"
     ]
    }
   ],
   "source": [
    "print(list(base_count.keys()))\n",
    "counts = list(base_count.values())\n",
    "print([c/sum(counts) for c in counts])"
   ]
  },
  {
   "cell_type": "code",
   "execution_count": 10,
   "id": "534f77ee",
   "metadata": {
    "scrolled": true
   },
   "outputs": [
    {
     "data": {
      "text/plain": [
       "(array([  4.,  26., 177., 307., 252., 132.,  78.,  21.,   4.,   2.]),\n",
       " array([  902. ,  3793.2,  6684.4,  9575.6, 12466.8, 15358. , 18249.2,\n",
       "        21140.4, 24031.6, 26922.8, 29814. ]),\n",
       " <BarContainer object of 10 artists>)"
      ]
     },
     "execution_count": 10,
     "metadata": {},
     "output_type": "execute_result"
    },
    {
     "data": {
      "image/png": "[encoded data removed]",
      "text/plain": [
       "<Figure size 432x288 with 1 Axes>"
      ]
     },
     "metadata": {
      "needs_background": "light"
     },
     "output_type": "display_data"
    }
   ],
   "source": [
    "READ_LENS = [len(s) for s in seqs]\n",
    "np.random.shuffle(READ_LENS)\n",
    "plt.hist(READ_LENS)"
   ]
  },
  {
   "cell_type": "markdown",
   "id": "b3e6e1ec",
   "metadata": {},
   "source": [
    "## Make simulated datasets"
   ]
  },
  {
   "cell_type": "code",
   "execution_count": 11,
   "id": "1f843ca3",
   "metadata": {},
   "outputs": [],
   "source": [
    "def find_overlaps(read_locs, read_lens, thresh=100):\n",
    "    overlaps = pd.DataFrame(columns=['i1','i2','overlap','l1','l2'])\n",
    "\n",
    "    for i1 in range(n_reads):\n",
    "        loc1,len1 = read_locs[i1],read_lens[i1]\n",
    "        end1 = loc1 + len1\n",
    "\n",
    "        for i2 in range(i1-1,-1,-1):\n",
    "            loc2,len2 = read_locs[i2],read_lens[i2]\n",
    "            end2 = loc2+len2\n",
    "            overlap = min(end2-loc1, len1)\n",
    "            if overlap > thresh:\n",
    "                overlaps.loc[len(overlaps)] = [i1+1,i2+1,overlap,len1,len2]\n",
    "            else: break\n",
    "\n",
    "        for i2 in range(i1+1,n_reads):\n",
    "            loc2,len2 = read_locs[i2],read_lens[i2]\n",
    "            overlap = min(end1-loc2, len2)\n",
    "            if overlap > thresh:\n",
    "                overlaps.loc[len(overlaps)] = [i1+1,i2+1,overlap,len1,len2]\n",
    "            else: break\n",
    "    return overlaps"
   ]
  },
  {
   "cell_type": "code",
   "execution_count": 50,
   "id": "8560faa9",
   "metadata": {},
   "outputs": [],
   "source": [
    "def create_dset(out_dir, genome, reads, read_lens, read_locs, overlaps, noiseless_reads=None, n_errors=None):\n",
    "    makedirs(out_dir, exist_ok=True)\n",
    "    fasta_path = join(out_dir,'reads.fasta')\n",
    "    noiseless_fasta_path = join(out_dir,'reads.fasta')\n",
    "    genome_path = join(out_dir,'genome.fasta')\n",
    "    n_errors_path = join(out_dir, 'n_errors.tsv')\n",
    "    gt_path = join(out_dir, 'ground_truth.txt')\n",
    "    read_locs_path = join(out_dir, 'read_locs.txt')\n",
    "    read_lens_path = join(out_dir, 'read_lens.txt')\n",
    "\n",
    "    np.savetxt(read_lens_path, read_lens)\n",
    "    np.savetxt(read_locs_path, read_locs)\n",
    "    su.write_fasta(fasta_path, reads)\n",
    "    if noiseless_reads is not None: su.write_fasta(noiseless_fasta_path, noiseless_reads)\n",
    "    if n_errors is not None: np.savetxt(n_errors_path, n_errors, fmt='%d', delimiter='\\t', header='n_sub\\tn_ins\\tn_del')\n",
    "    su.write_fasta(genome_path, ('genome',genome))\n",
    "    overlaps.to_csv(gt_path, sep='\\t', header=False, index=False)"
   ]
  },
  {
   "cell_type": "code",
   "execution_count": 53,
   "id": "a8219780",
   "metadata": {},
   "outputs": [],
   "source": [
    "def extract_reads(genome, read_lens, size=1982012):\n",
    "    read_locs = np.sort(choice(np.arange(size-max(read_lens)), size=n_reads))\n",
    "    reads = [''.join(genome[loc:loc+l]) for loc,l in zip(read_locs,read_lens)]\n",
    "    reads = [(str(i+1),r) for i,r in enumerate(reads)]\n",
    "    return reads, read_locs\n",
    "\n",
    "def iid_reads(read_lens, size=1982012, p=4*[0.25]):\n",
    "    size = 1982012 # size of NCTC1080 \n",
    "    genome = choice(BASES, size=size, p=p)\n",
    "    read_locs = np.sort(choice(np.arange(size-max(read_lens)), size=n_reads))\n",
    "    reads = [''.join(genome[loc:loc+l]) for loc,l in zip(read_locs,read_lens)]\n",
    "    reads = [(str(i+1),r) for i,r in enumerate(reads)]\n",
    "    return reads, read_locs, genome"
   ]
  },
  {
   "cell_type": "markdown",
   "id": "8bc5075f",
   "metadata": {},
   "source": [
    "## iid genome & reads"
   ]
  },
  {
   "cell_type": "code",
   "execution_count": 28,
   "id": "90f6c578",
   "metadata": {},
   "outputs": [],
   "source": [
    "out_dir = join(DSET_DIR, 'unif')\n",
    "reads, read_locs = iid_reads(READ_LENS)\n",
    "overlaps = find_overlaps(read_locs, READ_LENS)\n",
    "create_dset(out_dir, reads, READ_LENS, read_locs, overlaps)"
   ]
  },
  {
   "cell_type": "markdown",
   "id": "5fcd976f",
   "metadata": {},
   "source": [
    "#### Make overlaps DF"
   ]
  },
  {
   "cell_type": "code",
   "execution_count": 29,
   "id": "6cedc9f0",
   "metadata": {},
   "outputs": [
    {
     "data": {
      "text/plain": [
       "11999"
      ]
     },
     "execution_count": 29,
     "metadata": {},
     "output_type": "execute_result"
    }
   ],
   "source": [
    "len(overlaps)"
   ]
  },
  {
   "cell_type": "code",
   "execution_count": 70,
   "id": "19da1905",
   "metadata": {
    "collapsed": true
   },
   "outputs": [
    {
     "data": {
      "text/plain": [
       "(array([1635., 1886., 1952., 2004., 2000., 1448.,  609.,  177.,   78.,\n",
       "          20.]),\n",
       " array([101.0, 2130.7, 4160.4, 6190.1, 8219.8, 10249.5, 12279.2, 14308.9,\n",
       "        16338.6, 18368.3, 20398.0], dtype=object),\n",
       " <BarContainer object of 10 artists>)"
      ]
     },
     "execution_count": 70,
     "metadata": {},
     "output_type": "execute_result"
    },
    {
     "data": {
      "image/png": "[encoded data removed]",
      "text/plain": [
       "<Figure size 432x288 with 1 Axes>"
      ]
     },
     "metadata": {
      "needs_background": "light"
     },
     "output_type": "display_data"
    }
   ],
   "source": [
    "# histogram of overlaps for NCTC ground truth vs Unif\n",
    "nctc_gt = '/home/gcgreen2/alignment/spectral_jaccard_similarity/groundTruths/NCTC1080_daligner_ground_truth.txt'\n",
    "plt.hist(np.loadtxt(nctc_gt, usecols=[2], dtype=float),alpha=0.3)\n",
    "plt.hist(overlaps['overlap'].values,alpha=0.5)"
   ]
  },
  {
   "cell_type": "markdown",
   "id": "d43f3950",
   "metadata": {},
   "source": [
    "## iid non-uniform genome (base freq equal to NCTC reads)"
   ]
  },
  {
   "cell_type": "code",
   "execution_count": 78,
   "id": "6de994b8",
   "metadata": {},
   "outputs": [],
   "source": [
    "out_dir = join(DSET_DIR, 'gc0.2')\n",
    "reads, read_locs = iid_reads(READ_LENS, p=[0.3,0.3,0.2,0.2])\n",
    "overlaps = find_overlaps(read_locs, READ_LENS)\n",
    "create_dset(out_dir, reads, READ_LENS, read_locs, overlaps)"
   ]
  },
  {
   "cell_type": "markdown",
   "id": "014077a5",
   "metadata": {},
   "source": [
    "## Extract manual reads from NCTC 1080 genome"
   ]
  },
  {
   "cell_type": "code",
   "execution_count": 79,
   "id": "05fcf692",
   "metadata": {},
   "outputs": [],
   "source": [
    "out_dir = join(DSET_DIR, 'nctc1080')\n",
    "genome_path = join(out_dir, 'ERS846866.fasta')\n",
    "genome = su.get_seqs(genome_path)[0]"
   ]
  },
  {
   "cell_type": "code",
   "execution_count": 80,
   "id": "035be2e1",
   "metadata": {},
   "outputs": [
    {
     "data": {
      "text/plain": [
       "1982012"
      ]
     },
     "execution_count": 80,
     "metadata": {},
     "output_type": "execute_result"
    }
   ],
   "source": [
    "len(genome)"
   ]
  },
  {
   "cell_type": "code",
   "execution_count": 83,
   "id": "d89182cc",
   "metadata": {},
   "outputs": [],
   "source": [
    "reads, read_locs = extract_reads(genome, READ_LENS)\n",
    "overlaps = find_overlaps(read_locs, READ_LENS)\n",
    "create_dset(out_dir, reads, READ_LENS, read_locs, overlaps)"
   ]
  },
  {
   "cell_type": "markdown",
   "id": "f2e319f9",
   "metadata": {},
   "source": [
    "# Noisy reads"
   ]
  },
  {
   "cell_type": "code",
   "execution_count": 63,
   "id": "a3c83d72",
   "metadata": {},
   "outputs": [],
   "source": [
    "def add_noise(noiseless_reads, sub=0, insert=0, delete=0):\n",
    "    correct = 1-sub-delete\n",
    "    reads = []\n",
    "    n_errors = []\n",
    "    for read_id,read in tqdm(noiseless_reads):\n",
    "        noisy_read = ''\n",
    "        n_sub, n_ins, n_del = 0,0,0\n",
    "        for b in read:\n",
    "            event = choice([0,1,2], p=[correct,sub,delete])\n",
    "            if event==0: #correct\n",
    "                b2 = b\n",
    "            elif event==1: #substitution\n",
    "                n_sub += 1\n",
    "                p = 4*[1/3] # unif substitution prob\n",
    "                p[BASES.index(b)] = 0 # chance of same base = 0\n",
    "                b2 = choice(BASES, p=p)\n",
    "            elif event==2:\n",
    "                n_del += 1\n",
    "                b2 = ''\n",
    "            noisy_read += b2\n",
    "            if event != 2:\n",
    "                while(np.random.binomial(1,p=insert)): #add insertions after each base (including inserted bases) \n",
    "                    n_ins += 1\n",
    "                    noisy_read += choice(BASES)  \n",
    "        reads.append((read_id, noisy_read))\n",
    "        n_errors.append([n_sub, n_ins, n_del])\n",
    "    return reads, n_errors"
   ]
  },
  {
   "cell_type": "markdown",
   "id": "b0391e78",
   "metadata": {},
   "source": [
    "### error rates from \"Benchmarking of long-read correction methods\""
   ]
  },
  {
   "cell_type": "code",
   "execution_count": 61,
   "id": "bdadefd5",
   "metadata": {},
   "outputs": [],
   "source": [
    "# sub_prob_dict = {'A':[0,7/21,8/21,6/21],\n",
    "#                 'T':[7/21,0,6/21,8/21],\n",
    "#                 'C':[12/28,8/28,0,8/28],\n",
    "#                 'G':[8/29,12/29,9/29,0]}\n",
    "sub_prob = 0.0168\n",
    "ins_prob = 0.0804\n",
    "del_prob = 0.0316"
   ]
  },
  {
   "cell_type": "markdown",
   "id": "66290964",
   "metadata": {},
   "source": [
    "## substitutions"
   ]
  },
  {
   "cell_type": "code",
   "execution_count": 54,
   "id": "b54dfcf9",
   "metadata": {},
   "outputs": [],
   "source": [
    "# GC=0.2\n",
    "out_dir = join(DSET_DIR, 'gc0.2_sub1.68')\n",
    "noiseless_reads, read_locs, genome = iid_reads(READ_LENS, p=[0.3,0.3,0.2,0.2])\n",
    "reads, n_errors = add_noise(noiseless_reads, sub=sub_prob)\n",
    "overlaps = find_overlaps(read_locs, READ_LENS) \n",
    "create_dset(out_dir, genome, reads, READ_LENS, read_locs, overlaps, noiseless_reads, n_errors)"
   ]
  },
  {
   "cell_type": "markdown",
   "id": "42b12360",
   "metadata": {},
   "source": [
    "## insertions "
   ]
  },
  {
   "cell_type": "code",
   "execution_count": 62,
   "id": "9ea27946",
   "metadata": {},
   "outputs": [],
   "source": [
    "# GC=0.2\n",
    "out_dir = join(DSET_DIR, 'gc0.2_ins8.04')\n",
    "noiseless_reads, read_locs, genome = iid_reads(READ_LENS, p=[0.3,0.3,0.2,0.2])\n",
    "reads, n_errors = add_noise(noiseless_reads, insert=ins_prob)\n",
    "overlaps = find_overlaps(read_locs, READ_LENS) \n",
    "create_dset(out_dir, genome, reads, READ_LENS, read_locs, overlaps, noiseless_reads, n_errors)"
   ]
  },
  {
   "cell_type": "markdown",
   "id": "37292ae9",
   "metadata": {},
   "source": [
    "## deletions "
   ]
  },
  {
   "cell_type": "code",
   "execution_count": 64,
   "id": "dd3593c9",
   "metadata": {},
   "outputs": [
    {
     "name": "stderr",
     "output_type": "stream",
     "text": [
      "100%|███████████████████████████████████████| 1003/1003 [07:25<00:00,  2.25it/s]\n"
     ]
    }
   ],
   "source": [
    "# GC=0.2\n",
    "out_dir = join(DSET_DIR, 'gc0.2_del3.16')\n",
    "noiseless_reads, read_locs, genome = iid_reads(READ_LENS, p=[0.3,0.3,0.2,0.2])\n",
    "reads, n_errors = add_noise(noiseless_reads, delete=del_prob)\n",
    "overlaps = find_overlaps(read_locs, READ_LENS) \n",
    "create_dset(out_dir, genome, reads, READ_LENS, read_locs, overlaps, noiseless_reads, n_errors)"
   ]
  },
  {
   "cell_type": "markdown",
   "id": "4b361620",
   "metadata": {},
   "source": [
    "## indels "
   ]
  },
  {
   "cell_type": "code",
   "execution_count": 65,
   "id": "6fda40dd",
   "metadata": {},
   "outputs": [
    {
     "name": "stderr",
     "output_type": "stream",
     "text": [
      "100%|███████████████████████████████████████| 1003/1003 [07:56<00:00,  2.10it/s]\n"
     ]
    }
   ],
   "source": [
    "# GC=0.2\n",
    "out_dir = join(DSET_DIR, 'gc0.2_ins8.04_del3.16')\n",
    "noiseless_reads, read_locs, genome = iid_reads(READ_LENS, p=[0.3,0.3,0.2,0.2])\n",
    "reads, n_errors = add_noise(noiseless_reads, insert=ins_prob, delete=del_prob)\n",
    "overlaps = find_overlaps(read_locs, READ_LENS) \n",
    "create_dset(out_dir, genome, reads, READ_LENS, read_locs, overlaps, noiseless_reads, n_errors)"
   ]
  },
  {
   "cell_type": "markdown",
   "id": "0186147b",
   "metadata": {},
   "source": [
    "## all "
   ]
  },
  {
   "cell_type": "code",
   "execution_count": 66,
   "id": "959f92da",
   "metadata": {},
   "outputs": [
    {
     "name": "stderr",
     "output_type": "stream",
     "text": [
      "100%|███████████████████████████████████████| 1003/1003 [08:02<00:00,  2.08it/s]\n"
     ]
    }
   ],
   "source": [
    "# GC=0.2\n",
    "out_dir = join(DSET_DIR, 'gc0.2_sub1.68_ins8.04_del3.16')\n",
    "noiseless_reads, read_locs, genome = iid_reads(READ_LENS, p=[0.3,0.3,0.2,0.2])\n",
    "reads, n_errors = add_noise(noiseless_reads, sub=sub_prob, insert=ins_prob, delete=del_prob)\n",
    "overlaps = find_overlaps(read_locs, READ_LENS) \n",
    "create_dset(out_dir, genome, reads, READ_LENS, read_locs, overlaps, noiseless_reads, n_errors)"
   ]
  },
  {
   "cell_type": "code",
   "execution_count": null,
   "id": "13a410e5",
   "metadata": {},
   "outputs": [],
   "source": []
  }
 ],
 "metadata": {
  "kernelspec": {
   "display_name": "Python 3 (ipykernel)",
   "language": "python",
   "name": "python3"
  },
  "language_info": {
   "codemirror_mode": {
    "name": "ipython",
    "version": 3
   },
   "file_extension": ".py",
   "mimetype": "text/x-python",
   "name": "python",
   "nbconvert_exporter": "python",
   "pygments_lexer": "ipython3",
   "version": "3.9.7"
  }
 },
 "nbformat": 4,
 "nbformat_minor": 5
}
